{
 "cells": [
  {
   "cell_type": "markdown",
   "id": "706b5209",
   "metadata": {},
   "source": [
    "# Chapter 7 File I/O\n",
    "Python can be used to perfrom operations on a file.(read & write data)\n",
    "\n",
    "Types of all files\n",
    "\n",
    "1.Text Files:txt, .docx, .log etc.\n",
    "\n",
    "2.Binary Files : .mp4, .mov, .png, .jpeg etc."
   ]
  },
  {
   "cell_type": "markdown",
   "id": "03cf4097",
   "metadata": {},
   "source": [
    "Open, Read & Close File\n",
    "\n",
    "We have to open a file before reading or writing"
   ]
  },
  {
   "cell_type": "markdown",
   "id": "17a8f27a",
   "metadata": {},
   "source": [
    "f = open(\"file_name\",\"mode\")\n",
    "\n",
    "sample.txt/demo.docx ============> r:read mode/ w:write mode\n",
    "\n",
    "data = f.read()\n",
    "\n",
    "f.close()"
   ]
  },
  {
   "cell_type": "code",
   "execution_count": 86,
   "id": "98fc0dfb",
   "metadata": {},
   "outputs": [
    {
     "name": "stdout",
     "output_type": "stream",
     "text": [
      " new data \n",
      "<class 'str'>\n"
     ]
    }
   ],
   "source": [
    "f = open(\"demo.txt\",'r')\n",
    "data = f.read() # reads entire file\n",
    "print (data)\n",
    "print (type(data))\n",
    "f.close()"
   ]
  },
  {
   "cell_type": "markdown",
   "id": "44529114",
   "metadata": {},
   "source": [
    "# Character        |       Meaning\n",
    "\n",
    "\"r\"======>Open for reading (default)\n",
    "\n",
    "\"w\"======>Open for writing, truncating the file first\n",
    "\n",
    "\"x\"======>create a new file and open it for writing\n",
    "\n",
    "\"a\"======>open for writing,appending to the end of the file if it exists\n",
    "\n",
    "\"b\"======>binary mode\n",
    "\n",
    "\"t\"======>text mode (default)\n",
    "\n",
    "\"+\"======>open a disk file for updating (reading and writing)"
   ]
  },
  {
   "cell_type": "markdown",
   "id": "37d047fe",
   "metadata": {},
   "source": [
    "# Reading a file\n",
    "\n",
    "data = f.read() # reads entire file\n",
    "\n",
    "data = f.readline() #reads one line at a time"
   ]
  },
  {
   "cell_type": "code",
   "execution_count": 87,
   "id": "797a12b9",
   "metadata": {},
   "outputs": [
    {
     "name": "stdout",
     "output_type": "stream",
     "text": [
      " new data \n",
      "<class 'str'>\n"
     ]
    }
   ],
   "source": [
    "f = open(\"demo.txt\",'r')\n",
    "data = f.read(10)\n",
    "print (data)\n",
    "print (type(data))\n",
    "f.close()"
   ]
  },
  {
   "cell_type": "code",
   "execution_count": 88,
   "id": "a6bf43fe",
   "metadata": {},
   "outputs": [
    {
     "name": "stdout",
     "output_type": "stream",
     "text": [
      " new data \n",
      "\n"
     ]
    }
   ],
   "source": [
    "f = open(\"demo.txt\",'r')\n",
    "\n",
    "line1 = f.readline() #reads one line at a time\n",
    "\n",
    "print (line1)\n",
    "\n",
    "line2 = f.readline()\n",
    "\n",
    "print (line2)\n",
    "\n",
    "f.close()"
   ]
  },
  {
   "cell_type": "markdown",
   "id": "454f0239",
   "metadata": {},
   "source": [
    "# Writing to a file\n",
    "\n",
    "f= open(\"demo.txt\", \"w\")\n",
    "\n",
    "f.write(\"this is a new line\") # overwrites the entire file\n",
    "\n",
    "f= open(\"demo.txt\",\"a\")\n",
    "\n",
    "f.write('this is a new line') # adds to the file"
   ]
  },
  {
   "cell_type": "code",
   "execution_count": 89,
   "id": "526c5042",
   "metadata": {},
   "outputs": [
    {
     "name": "stdout",
     "output_type": "stream",
     "text": [
      "39\n"
     ]
    }
   ],
   "source": [
    "f = open(\"demo.txt\",'a')\n",
    "data = f.write(\"\\ni want to learn javacript tomorrow.123\") # reads entire file\n",
    "print (data)\n",
    "\n",
    "f.close()"
   ]
  },
  {
   "cell_type": "code",
   "execution_count": 90,
   "id": "338eaa9e",
   "metadata": {},
   "outputs": [
    {
     "name": "stdout",
     "output_type": "stream",
     "text": [
      "w data \n",
      "i want to learn javacript tomorrow.123\n"
     ]
    }
   ],
   "source": [
    "f = open(\"demo.txt\",'r+')\n",
    "\n",
    "f.write('abc')\n",
    "\n",
    "print(f.read())\n",
    "\n",
    "f.close()"
   ]
  },
  {
   "cell_type": "code",
   "execution_count": 91,
   "id": "7328a543",
   "metadata": {},
   "outputs": [
    {
     "name": "stdout",
     "output_type": "stream",
     "text": [
      "\n"
     ]
    }
   ],
   "source": [
    "f = open(\"demo.txt\",'a+')\n",
    "\n",
    "print(f.read())\n",
    "\n",
    "f.write('abc')\n",
    "\n",
    "f.close()"
   ]
  },
  {
   "cell_type": "markdown",
   "id": "07ba74db",
   "metadata": {},
   "source": [
    "r+ ====> read +====>overwrite (pointer at start)==>no truncate\n",
    "\n",
    "w+=====> read +====>overwrite (pointer at start)==>truncate\n",
    "\n",
    "a+ ====> read +====>append (pointer at end)==>no truncate\n"
   ]
  },
  {
   "cell_type": "markdown",
   "id": "bcf410c4",
   "metadata": {},
   "source": [
    "# with Syntax\n",
    "\n",
    "with open(\"demo.txt\",\"a\")as f:\n",
    "\n",
    "data = f.read()"
   ]
  },
  {
   "cell_type": "code",
   "execution_count": 92,
   "id": "fe68415d",
   "metadata": {},
   "outputs": [
    {
     "name": "stdout",
     "output_type": "stream",
     "text": [
      "================================\n"
     ]
    }
   ],
   "source": [
    "# with open(\"demo.txt\",\"r\")as f:\n",
    "\n",
    "\n",
    "#    data = f.read()\n",
    "#    print(data)\n",
    "\n",
    "print('================================')\n",
    "\n",
    "with open(\"demo.txt\",\"w\")as f:\n",
    "  \n",
    "   \n",
    "  f.write(\" new data \")\n",
    "   "
   ]
  },
  {
   "cell_type": "markdown",
   "id": "9a8d99f5",
   "metadata": {},
   "source": [
    "# Deleting a File\n",
    "\n",
    "Using the OS module\n",
    "\n",
    "Module (like a code library) is a file written by another programmer that generally has a functions we can use\n",
    "\n",
    "import os \n",
    "\n",
    "os.remove (filename)"
   ]
  },
  {
   "cell_type": "code",
   "execution_count": 93,
   "id": "47a6b93c",
   "metadata": {},
   "outputs": [],
   "source": [
    "import os\n",
    "\n",
    "\n",
    "# os.remove('sample.txt')"
   ]
  },
  {
   "cell_type": "markdown",
   "id": "c9f62b7a",
   "metadata": {},
   "source": [
    "# Let's Practice\n",
    "\n",
    "Create a new file \"practice.txt\" using python. Add the following data in it:\n",
    "\n",
    "HI everyone\n",
    "\n",
    "we are learning File I/O\n",
    "\n",
    "using Java\n",
    "\n",
    "i like programming in PYthon\n",
    "\n",
    "# 1.WAF that replace all occurrences of 'java' with \"python\" in above file."
   ]
  },
  {
   "cell_type": "code",
   "execution_count": 94,
   "id": "6ef35387",
   "metadata": {},
   "outputs": [],
   "source": [
    "with open(\"practice.txt\",'w') as f:\n",
    "    f.write(\"HI everyone\\nwe are learning File I/O\\nusing Java\\ni like programming in Java\\n\")\n"
   ]
  },
  {
   "cell_type": "code",
   "execution_count": 95,
   "id": "b62546ff",
   "metadata": {},
   "outputs": [
    {
     "name": "stdout",
     "output_type": "stream",
     "text": [
      "HI everyone\n",
      "we are learning File I/O\n",
      "using Python\n",
      "i like programming in Python\n",
      "\n"
     ]
    }
   ],
   "source": [
    "with open(\"practice.txt\",'r') as f:\n",
    "    data = f.read()\n",
    "\n",
    "new_data = data.replace(\"Java\",\"Python\")\n",
    "print (new_data)"
   ]
  },
  {
   "cell_type": "markdown",
   "id": "8b9b1a8b",
   "metadata": {},
   "source": [
    "# 2. Search if the word \"learning\" exists in the file or not"
   ]
  },
  {
   "cell_type": "code",
   "execution_count": 96,
   "id": "9c723b94",
   "metadata": {},
   "outputs": [
    {
     "name": "stdout",
     "output_type": "stream",
     "text": [
      "Found\n",
      "====================================\n",
      "Not Found\n"
     ]
    }
   ],
   "source": [
    "word = \"learning\"\n",
    "with open('practice.txt',\"r\") as f:\n",
    "\n",
    "    data = f.read()\n",
    "   \n",
    "    if(data.find(word) != -1):\n",
    "\n",
    "        print('Found')\n",
    "    else:\n",
    "        print('not found')\n",
    "\n",
    "print('====================================')\n",
    "\n",
    "def check_for_word():\n",
    "    word = \"xlearning\"\n",
    "    with open('practice.txt',\"r\") as f:\n",
    "\n",
    "\n",
    "       data = f.read()\n",
    "   \n",
    "       if(word in data):\n",
    "        \n",
    "        print('Found')\n",
    "       else:\n",
    "\n",
    "        print('Not Found')\n",
    "\n",
    "\n",
    "check_for_word ()\n"
   ]
  },
  {
   "cell_type": "markdown",
   "id": "40112262",
   "metadata": {},
   "source": [
    "# 3.WAP to find in which line of the file does the word \"learning \" occur first.\n",
    "\n",
    "Print -1 if word not found.\n"
   ]
  },
  {
   "cell_type": "code",
   "execution_count": 97,
   "id": "4f613fa7",
   "metadata": {},
   "outputs": [
    {
     "name": "stdout",
     "output_type": "stream",
     "text": [
      "4\n"
     ]
    }
   ],
   "source": [
    "def check_for_line():\n",
    "    word = \"programming\"  \n",
    "    data = True  \n",
    "    line_no =1\n",
    "    with open('practice.txt',\"r\") as f:\n",
    "        while data:\n",
    "\n",
    "            data = f.readline()\n",
    "            if(word in data):\n",
    "                print(line_no)\n",
    "                return\n",
    "            line_no +=1\n",
    "\n",
    "    return -1\n",
    "\n",
    "check_for_line()\n"
   ]
  },
  {
   "cell_type": "markdown",
   "id": "71d3c132",
   "metadata": {},
   "source": [
    "# 4. From a file containing numbers separated by comma, print the count of even numbers. "
   ]
  },
  {
   "cell_type": "code",
   "execution_count": 98,
   "id": "40088c3d",
   "metadata": {},
   "outputs": [
    {
     "name": "stdout",
     "output_type": "stream",
     "text": [
      "1,23,4,56,7,8,90,6,43,687,4436,89,4576\n",
      "1\n",
      "23\n",
      "4\n",
      "56\n",
      "7\n",
      "8\n",
      "90\n",
      "6\n",
      "43\n",
      "687\n",
      "4436\n",
      "89\n",
      "=================================\n",
      "1,23,4,56,7,8,90,6,43,687,4436,89,4576\n",
      "7\n"
     ]
    }
   ],
   "source": [
    "## Solution 1\n",
    "with open('demo1.txt','r') as f:\n",
    "    data = f.read()\n",
    "    print(data)\n",
    "\n",
    "    num = \"\"\n",
    "    for i in range(len(data)):\n",
    "        if (data[i] == \",\"):\n",
    "\n",
    "            print(int(num))\n",
    "            num = \"\"\n",
    "        else:\n",
    "            num += data[i]\n",
    "\n",
    "print(\"=================================\")\n",
    "\n",
    "## Solution \n",
    "\n",
    "count = 0\n",
    "with open('demo1.txt','r') as f:\n",
    "    data = f.read()\n",
    "    print(data)\n",
    "\n",
    "    num = data.split(',')\n",
    "    for val in num:\n",
    "        if(int(val)%2 == 0):\n",
    "            count +=1\n",
    "print(count)\n",
    "\n",
    "        \n",
    "\n",
    "  "
   ]
  }
 ],
 "metadata": {
  "kernelspec": {
   "display_name": "Python 3",
   "language": "python",
   "name": "python3"
  },
  "language_info": {
   "codemirror_mode": {
    "name": "ipython",
    "version": 3
   },
   "file_extension": ".py",
   "mimetype": "text/x-python",
   "name": "python",
   "nbconvert_exporter": "python",
   "pygments_lexer": "ipython3",
   "version": "3.13.0"
  }
 },
 "nbformat": 4,
 "nbformat_minor": 5
}
