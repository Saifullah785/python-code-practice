{
 "cells": [
  {
   "cell_type": "markdown",
   "id": "a8243e4b",
   "metadata": {},
   "source": [
    "# Chapter 8 Part 1\n",
    "\n",
    "## OOPS (Object-Oriented Programming System)"
   ]
  },
  {
   "cell_type": "markdown",
   "id": "93119c47",
   "metadata": {},
   "source": [
    "# OOP in Python \n",
    "\n",
    "To map with real world scenarios, we started Using Objects in code.\n",
    "\n",
    "This is called object oriented programming\n",
    "\n",
    "Procedural===>functional====>OOP\n",
    "\n",
    "redundancy ====>decrease\n",
    "\n",
    "resusability =========>increase"
   ]
  },
  {
   "cell_type": "markdown",
   "id": "9bbcc410",
   "metadata": {},
   "source": [
    "# Class & Object in Python\n",
    "\n",
    "Class is a blueprint for creating objects.\n",
    "\n",
    "# creating class\n",
    "\n",
    "class Student:\n",
    "name = \"karan kumar\"\n",
    "\n",
    "# creating object instance\n",
    "\n",
    "s1 =Student()\n",
    "print (s1.name)"
   ]
  },
  {
   "cell_type": "code",
   "execution_count": 64,
   "id": "8c475623",
   "metadata": {},
   "outputs": [
    {
     "name": "stdout",
     "output_type": "stream",
     "text": [
      "sheraz\n",
      "sheraz\n",
      "=======================\n",
      "blue\n",
      "mercedes\n"
     ]
    }
   ],
   "source": [
    "class Student:\n",
    "    name = \"sheraz\"\n",
    "\n",
    "s1 = Student()\n",
    "print(s1.name)\n",
    "\n",
    "s1 = Student()\n",
    "print(s1.name)\n",
    "\n",
    "print ('=======================')\n",
    "\n",
    "class Car:\n",
    "    color =\"blue\"\n",
    "    brand =\"mercedes\"\n",
    "\n",
    "car1=Car()\n",
    "print(car1.color)\n",
    "print((car1.brand))\n",
    "\n"
   ]
  },
  {
   "cell_type": "markdown",
   "id": "e3df9fd3",
   "metadata": {},
   "source": [
    "# __init__Function\n",
    "\n",
    "## Constructor\n",
    "\n",
    "All classes have a function called _init_(), which is always executed when the class is being initiated.\n",
    "\n",
    "# creating class\n",
    "\n",
    "class Student:\n",
    "def __init__(self,fullname):\n",
    "    self.name = fullname\n",
    "\n",
    "# creating object\n",
    "\n",
    "s1 = Student(\"karan\")\n",
    "print (s1.name)\n",
    "\n",
    "the self parameter is a reference to the current instance of the class,\n",
    "and is used to access variable that belongs to the class."
   ]
  },
  {
   "cell_type": "code",
   "execution_count": 65,
   "id": "93a4b1f5",
   "metadata": {},
   "outputs": [
    {
     "name": "stdout",
     "output_type": "stream",
     "text": [
      "adding new student in Database..\n",
      "ali 90\n",
      "adding new student in Database..\n",
      "saad 98\n"
     ]
    }
   ],
   "source": [
    "class Student:\n",
    "\n",
    "    #default constructors\n",
    "\n",
    "    def __init__(self):\n",
    "        pass\n",
    "\n",
    "       \n",
    "    # parameterized constructors\n",
    "    def __init__(self,name,marks):\n",
    "\n",
    "        self.name =name\n",
    "        self.marks =marks\n",
    "        print('adding new student in Database..')\n",
    "\n",
    "s1 =Student('ali',90)\n",
    "print(s1.name,s1.marks)\n",
    "\n",
    "s2 = Student('saad',98)\n",
    "print(s2.name,s2.marks)"
   ]
  },
  {
   "cell_type": "markdown",
   "id": "44735be6",
   "metadata": {},
   "source": [
    "# Class & Instance Attributes\n",
    "\n",
    "Class.attr\n",
    "obj.attr\n",
    "\n"
   ]
  },
  {
   "cell_type": "code",
   "execution_count": 66,
   "id": "1bb7dfd3",
   "metadata": {},
   "outputs": [
    {
     "name": "stdout",
     "output_type": "stream",
     "text": [
      "adding new student in Database..\n",
      "kamran 90\n",
      "ABC College\n",
      "kamran\n"
     ]
    }
   ],
   "source": [
    "class Student:\n",
    "    college_name =\"ABC College\" # class attr\n",
    "\n",
    "    name = \"anonymous\"\n",
    "\n",
    "\n",
    "    def __init__(self,name,marks):\n",
    "\n",
    "        self.name =name # obj attr\n",
    "        self.marks =marks\n",
    "        print('adding new student in Database..')\n",
    "\n",
    "s1 =Student('kamran',90)\n",
    "print(s1.name,s1.marks)\n",
    "\n",
    "print(Student.college_name)\n",
    "print(s1.name)\n",
    "\n",
    "# Note: if we have same name of class attr and obj attr the procedense of obj attr is higher than class attr\n",
    "# generaly we do not take same name of class attr and obj attr class attr only use in obj attr when student did not give name\n"
   ]
  },
  {
   "cell_type": "markdown",
   "id": "b27c0e2f",
   "metadata": {},
   "source": [
    "# Methods\n",
    "\n",
    "## Methods are functions that belongs to objects\n",
    "\n",
    "# creating class"
   ]
  },
  {
   "cell_type": "code",
   "execution_count": 67,
   "id": "1377b1f0",
   "metadata": {},
   "outputs": [
    {
     "name": "stdout",
     "output_type": "stream",
     "text": [
      "welcome student, noman\n",
      "88\n"
     ]
    }
   ],
   "source": [
    "class Student:\n",
    "    college_name =\"ABC College\" # class attr\n",
    "\n",
    "    name = \"anonymous\"\n",
    "\n",
    "\n",
    "    def __init__(self,name,marks):\n",
    "\n",
    "        self.name =name # obj attr\n",
    "        self.marks =marks\n",
    "\n",
    "    def welcome(self):\n",
    "        print ('welcome student,',self.name)\n",
    "\n",
    "    def get_marks(self):\n",
    "        return self.marks\n",
    "    \n",
    "\n",
    "s1 = Student('noman',88)\n",
    "s1.welcome()\n",
    "print(s1.get_marks())\n"
   ]
  },
  {
   "cell_type": "markdown",
   "id": "67cc60d7",
   "metadata": {},
   "source": [
    "# Static Methods\n",
    "\n",
    "Methods that don't use the self parameter (work at class level)\n",
    "\n",
    "class Student:\n",
    "\n",
    "    @staticmethod # decorator\n",
    "    def college():\n",
    "\n",
    "        print (\"ABC College\")\n",
    "\n",
    "Decorators allow us to wrap another function in order to extend the behaviour of the wrapped function, wihout permanently modifying it "
   ]
  },
  {
   "cell_type": "markdown",
   "id": "9aa7c690",
   "metadata": {},
   "source": [
    "# Let's Practice\n",
    "\n",
    "Create student class that takes name& marks of 3 subjects as arguments in constructor\n",
    "then create a method to print the average."
   ]
  },
  {
   "cell_type": "code",
   "execution_count": 68,
   "id": "c560201c",
   "metadata": {},
   "outputs": [
    {
     "name": "stdout",
     "output_type": "stream",
     "text": [
      "hi tony stark  your avg score is: 98.0\n",
      "hi ironman your avg score is: 98.0\n",
      "hello\n"
     ]
    }
   ],
   "source": [
    "class Student:\n",
    "\n",
    "    def __init__(self, name, marks):\n",
    "        self.name = name\n",
    "        self.marks = marks\n",
    "\n",
    "    @staticmethod\n",
    "    def hello ():\n",
    "        print('hello')\n",
    "\n",
    "    def get_avg(self):\n",
    "        sum = 0\n",
    "        for val in self.marks:\n",
    "            sum += val\n",
    "\n",
    "        print('hi', self.name, 'your avg score is:', sum/3)\n",
    "        sum = self.marks\n",
    "\n",
    "s1 = Student('tony stark ',[99,98,97])\n",
    "s1.get_avg()\n",
    "\n",
    "s1.name = \"ironman\"\n",
    "s1.get_avg()\n",
    "s1.hello()\n"
   ]
  },
  {
   "cell_type": "markdown",
   "id": "e6438682",
   "metadata": {},
   "source": [
    "# Important\n",
    "\n",
    "# Abstraction\n",
    "\n",
    "Hiding the implementation detail of a class and only showing  the essential features to the user.\n",
    "\n",
    "# ENcapsulation\n",
    "\n",
    "wrapping data and functions into a single unit(object)."
   ]
  },
  {
   "cell_type": "code",
   "execution_count": 69,
   "id": "a5b0e2e3",
   "metadata": {},
   "outputs": [
    {
     "name": "stdout",
     "output_type": "stream",
     "text": [
      "car started..\n"
     ]
    }
   ],
   "source": [
    "## Abstraction\n",
    "class Car:\n",
    "    def __init__(self):\n",
    "        self.acc = False\n",
    "        self.brk = False\n",
    "        self.clutch = False\n",
    "\n",
    "    def start(self):\n",
    "        self.clutch =True\n",
    "        self.acc = True\n",
    "        print ('car started..')\n",
    "\n",
    "car1 = Car()\n",
    "car1.start()"
   ]
  },
  {
   "cell_type": "markdown",
   "id": "9dd281ad",
   "metadata": {},
   "source": [
    "# Let's Practice\n",
    "\n",
    "Create Account class with 2 attributes - balance & account no.\n",
    "\n",
    "Create methods for debit, credit & printing the balance."
   ]
  },
  {
   "cell_type": "code",
   "execution_count": 70,
   "id": "82b6b279",
   "metadata": {},
   "outputs": [
    {
     "name": "stdout",
     "output_type": "stream",
     "text": [
      "Rs. 1000 Was Debited\n",
      "Total Balance = 9000\n",
      "Rs. 500 Was Credited\n",
      "Total Balance = 9500\n",
      "Account Balance:  RS 9500\n",
      "Account Number:  Rs 12345\n"
     ]
    }
   ],
   "source": [
    "class Account:\n",
    "    def __init__(self,bal,acc):\n",
    "        self.balance = bal\n",
    "        self.account_no = acc\n",
    "\n",
    "    def debit(self, amount):\n",
    "        self.balance -= amount\n",
    "        print ('Rs.',amount, \"Was Debited\")\n",
    "        print ('Total Balance =', self.get_balance())\n",
    "\n",
    "    def credits(self, amount):\n",
    "        self.balance += amount\n",
    "\n",
    "        print ('Rs.',amount, \"Was Credited\")\n",
    "        print ('Total Balance =', self.get_balance())\n",
    "\n",
    "    def get_balance(self):\n",
    "        return self.balance\n",
    "    \n",
    "acc1 = Account(10000, 12345)\n",
    "acc1.debit(1000)\n",
    "acc1.credits(500)\n",
    "print(\"Account Balance: \",\"RS\",acc1.balance)\n",
    "print(\"Account Number: \",\"Rs\",acc1.account_no)\n",
    "        "
   ]
  }
 ],
 "metadata": {
  "kernelspec": {
   "display_name": "Python 3",
   "language": "python",
   "name": "python3"
  },
  "language_info": {
   "codemirror_mode": {
    "name": "ipython",
    "version": 3
   },
   "file_extension": ".py",
   "mimetype": "text/x-python",
   "name": "python",
   "nbconvert_exporter": "python",
   "pygments_lexer": "ipython3",
   "version": "3.13.0"
  }
 },
 "nbformat": 4,
 "nbformat_minor": 5
}
