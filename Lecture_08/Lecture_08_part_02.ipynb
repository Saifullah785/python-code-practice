{
 "cells": [
  {
   "cell_type": "markdown",
   "id": "5120db68",
   "metadata": {},
   "source": [
    "# Chapter 8 Part 2 OOPS(Object Oriented Programming System)"
   ]
  },
  {
   "cell_type": "markdown",
   "id": "8cd7830a",
   "metadata": {},
   "source": [
    "del keyword\n",
    "\n",
    "Used to delete object properties or Object itself.\n",
    "\n",
    "dels 1.name\n",
    "\n",
    "dels1"
   ]
  },
  {
   "cell_type": "code",
   "execution_count": 104,
   "id": "6c69beb4",
   "metadata": {},
   "outputs": [
    {
     "name": "stdout",
     "output_type": "stream",
     "text": [
      "attau rehman\n",
      "attau rehman\n"
     ]
    }
   ],
   "source": [
    "class Student:\n",
    "    def __init__ (self, name):\n",
    "        self.name = name\n",
    "\n",
    "\n",
    "s1 = Student('attau rehman')\n",
    "print (s1.name)\n",
    "# del s1.name\n",
    "print(s1.name)"
   ]
  },
  {
   "cell_type": "markdown",
   "id": "f28e7802",
   "metadata": {},
   "source": [
    "# Private(Like) attributes & methods\n",
    "\n",
    "## Conceptual Implementation in Python\n",
    "\n",
    "Private attributes & methods are meant to be used only within the class and are not accessible from outside the class."
   ]
  },
  {
   "cell_type": "code",
   "execution_count": 105,
   "id": "5cb726e0",
   "metadata": {},
   "outputs": [
    {
     "name": "stdout",
     "output_type": "stream",
     "text": [
      "123456\n",
      "abcgga\n",
      "None\n"
     ]
    }
   ],
   "source": [
    "class Account:\n",
    "    def __init__(self, acc_no, acc_pass):\n",
    "        self.acc_no =acc_no\n",
    "        self.__acc_pass= acc_pass  # private attributes\n",
    "\n",
    "    def reset_pass(self):\n",
    "        print (self.__acc_pass)\n",
    "\n",
    "acc1 = Account(\"123456\",\"abcgga\")\n",
    "\n",
    "print(acc1.acc_no)\n",
    "# print(acc1.__acc_pass) \n",
    "print(acc1.reset_pass())"
   ]
  },
  {
   "cell_type": "code",
   "execution_count": 106,
   "id": "66e2c080",
   "metadata": {},
   "outputs": [
    {
     "name": "stdout",
     "output_type": "stream",
     "text": [
      "hello person!\n",
      "None\n"
     ]
    }
   ],
   "source": [
    "class Person:\n",
    "    __name = \"anonymous\"\n",
    "    def __hello(self):\n",
    "        print(\"hello person!\")\n",
    "\n",
    "    def welcome(self):\n",
    "        self.__hello()\n",
    "\n",
    "p1 =Person()\n",
    "\n",
    "print(p1.welcome())"
   ]
  },
  {
   "cell_type": "markdown",
   "id": "685e5d62",
   "metadata": {},
   "source": [
    "#3. Inheritance\n",
    "\n",
    "when one class(child/derived) derives the properties & methods of another class(parent/base).\n",
    "\n",
    "class Car:\n",
    "\n",
    "......\n",
    "\n",
    "class ToyotaCar(Car):\n",
    "\n",
    "......"
   ]
  },
  {
   "cell_type": "code",
   "execution_count": 107,
   "id": "6e4677a3",
   "metadata": {},
   "outputs": [
    {
     "name": "stdout",
     "output_type": "stream",
     "text": [
      "black\n",
      "car started..\n",
      "None\n",
      "car stopped.\n",
      "None\n"
     ]
    }
   ],
   "source": [
    "## 1.Single Inheritance ====> Base=====>Derived\n",
    "class Car:\n",
    "    color=\"black\"\n",
    "    @staticmethod\n",
    "    def start():\n",
    "        print('car started..')\n",
    "\n",
    "    @staticmethod\n",
    "    def stop():\n",
    "        print('car stopped.')\n",
    "\n",
    "class ToyotaCar(Car):\n",
    "    def __init__(self, name):\n",
    "        self.name = name\n",
    "\n",
    "car1 = ToyotaCar(\"fortuner\")\n",
    "car2= ToyotaCar('prius')\n",
    "\n",
    "\n",
    "print(car1.color)\n",
    "print(car1.start())\n",
    "print(car1.stop())"
   ]
  },
  {
   "cell_type": "markdown",
   "id": "bd68de50",
   "metadata": {},
   "source": [
    "# 3. Inheritance\n",
    "\n",
    "## Types\n",
    "\n",
    "1.Single Inheritance ====> Base=====>Derived\n",
    "\n",
    "2.Multi-level Inheritance ====> Base=====>Derived=====>Derived\n",
    "\n",
    "3.Multiple Inheritance"
   ]
  },
  {
   "cell_type": "code",
   "execution_count": 108,
   "id": "2a9ee88d",
   "metadata": {},
   "outputs": [
    {
     "name": "stdout",
     "output_type": "stream",
     "text": [
      "car started..\n"
     ]
    }
   ],
   "source": [
    "## 2.Multi-level Inheritance ====> Base=====>Derived=====>Derived\n",
    "class Car:\n",
    "    color=\"black\"\n",
    "    @staticmethod\n",
    "    def start():\n",
    "        print('car started..')\n",
    "\n",
    "    @staticmethod\n",
    "    def stop():\n",
    "        print('car stopped.')\n",
    "\n",
    "class ToyotaCar(Car):\n",
    "    def __init__(self, brand):\n",
    "        self.brand = brand\n",
    "\n",
    "class Fortuner(ToyotaCar):\n",
    "    def __init__(self, type):\n",
    "        self.type = type\n",
    "\n",
    "car1 = Fortuner('diesel')\n",
    "car1.start()\n",
    "\n",
    "\n"
   ]
  },
  {
   "cell_type": "code",
   "execution_count": 109,
   "id": "ed14a5c6",
   "metadata": {},
   "outputs": [
    {
     "name": "stdout",
     "output_type": "stream",
     "text": [
      "Welcome to class C\n",
      "welcome to class B\n",
      "welcome to class A\n"
     ]
    }
   ],
   "source": [
    "## 3.Multiple Inheritance\n",
    "\n",
    "class A:\n",
    "    varA = \"welcome to class A\"\n",
    "\n",
    "class B:\n",
    "    varB = \"welcome to class B\"\n",
    "class C(A,B):\n",
    "    varC = \"Welcome to class C\"\n",
    "\n",
    "c1 = C()\n",
    "print(c1.varC)\n",
    "print(c1.varB)\n",
    "print(c1.varA)\n"
   ]
  },
  {
   "cell_type": "markdown",
   "id": "65692a0f",
   "metadata": {},
   "source": [
    "# Super method\n",
    "\n",
    "super ( ) method is used to access mehtods of the parent class."
   ]
  },
  {
   "cell_type": "code",
   "execution_count": 110,
   "id": "4d50c78e",
   "metadata": {},
   "outputs": [
    {
     "name": "stdout",
     "output_type": "stream",
     "text": [
      "car started..\n",
      "electric\n"
     ]
    }
   ],
   "source": [
    "class Car:\n",
    "\n",
    "    def __init__(self, type):\n",
    "        self.type = type\n",
    "\n",
    "    @staticmethod\n",
    "    def start():\n",
    "        print('car started..')\n",
    "\n",
    "    @staticmethod\n",
    "    def stop():\n",
    "        print('car stopped.')\n",
    "\n",
    "class ToyotaCar(Car):\n",
    "\n",
    "    def __init__(self, name,type):\n",
    "        self.name = name\n",
    "        super().__init__(type)\n",
    "        super().start()\n",
    "\n",
    "car1 =ToyotaCar('prius', \"electric\")\n",
    "print(car1.type)"
   ]
  },
  {
   "cell_type": "markdown",
   "id": "2cd17381",
   "metadata": {},
   "source": [
    "# class method\n",
    "\n",
    "## A class method is bound to the class & receives the class as an implicit first argument.\n",
    "\n",
    "Note - static mehod can't access or modify class state & generally for utility.\n",
    "\n",
    "class Student:\n",
    "\n",
    "    @classmethod # decorator\n",
    "\n",
    "    def college (cls):\n",
    "    \n",
    "        pass\n",
    "\n",
    "## 1. static methods ==> \n",
    "\n",
    "when we don't toch class or any method that is the only case we use static methods.\n",
    "\n",
    "## 2. class methods (cls)\n",
    "\n",
    "## 3. instance methods (self)"
   ]
  },
  {
   "cell_type": "markdown",
   "id": "383bc2de",
   "metadata": {},
   "source": [
    "# Property \n",
    "\n",
    "we use @property decorator on any method in the class to use the method as a property\n",
    "\n",
    "@getter & @setter"
   ]
  },
  {
   "cell_type": "code",
   "execution_count": 111,
   "id": "3dc3670f",
   "metadata": {},
   "outputs": [
    {
     "name": "stdout",
     "output_type": "stream",
     "text": [
      "98.0%\n",
      "94.0%\n"
     ]
    }
   ],
   "source": [
    "class Student:\n",
    "    def __init__(self, phy, chem, math):\n",
    "        self.phy = phy\n",
    "        self.chem = chem\n",
    "        self.math = math\n",
    "\n",
    "    @property\n",
    "    def percentage(self):\n",
    "        return str((self.phy + self.chem + self.math) /3) +\"%\"\n",
    "    \n",
    "stu1 = Student(98, 97, 99)\n",
    "print(stu1.percentage)\n",
    "\n",
    "stu1.phy = 86\n",
    "print(stu1.percentage)"
   ]
  },
  {
   "cell_type": "markdown",
   "id": "8a1aca39",
   "metadata": {},
   "source": [
    "# Polymorphism: Operator Overloading\n",
    "\n",
    "When the same operator is allowed to have different meaning according to the context.\n",
    "\n",
    "Operators & Dunder functions\n",
    "\n",
    "a + b #addition ====>      a.__add__(b)\n",
    "\n",
    "a -b # substraction ====>   a.__sub__(b)\n",
    "\n",
    "a*b # multiplication ====>   a.__mul__\n",
    "\n",
    "a/b # division  ====>       a.__truediv__(b)\n",
    "\n",
    "a%b # additi   ====>        a.__mod__(b)"
   ]
  },
  {
   "cell_type": "code",
   "execution_count": 112,
   "id": "4cc5d2bd",
   "metadata": {},
   "outputs": [
    {
     "name": "stdout",
     "output_type": "stream",
     "text": [
      "3\n",
      "apnacollege\n",
      "<class 'str'>\n",
      "[1, 2, 3, 4, 5, 6]\n"
     ]
    }
   ],
   "source": [
    "print(1 + 2) # 3\n",
    "\n",
    "print(\"apna\" +\"college\") #concatenate\n",
    "print(type('apna'))\n",
    "\n",
    "print([1,2,3] + [4, 5, 6]) #merge"
   ]
  },
  {
   "cell_type": "markdown",
   "id": "b9d85926",
   "metadata": {},
   "source": [
    "# complex numbers\n",
    "\n",
    "1 i + 3 j\n",
    "real  img\n",
    "2 i + 5 j\n",
    "---------\n",
    "3 i + 8 j"
   ]
  },
  {
   "cell_type": "code",
   "execution_count": 113,
   "id": "e9737a4c",
   "metadata": {},
   "outputs": [
    {
     "name": "stdout",
     "output_type": "stream",
     "text": [
      "1 i + 3 j\n",
      "4 i + 6 j\n",
      "------------\n",
      "-3 i + -3 j\n"
     ]
    }
   ],
   "source": [
    "class Complex:\n",
    "    def __init__(self, real, img):\n",
    "        self.real = real\n",
    "        self.img = img\n",
    "\n",
    "    def showNumber(self):\n",
    "        print(self.real, \"i +\", self.img, \"j\")\n",
    "\n",
    "    def __add__(self, num2):\n",
    "        newReal = self.real +num2.real\n",
    "        newImg = self.img + num2.img\n",
    "        return Complex(newReal, newImg)\n",
    "    \n",
    "    def __sub__(self, num2):\n",
    "        newReal = self.real - num2.real\n",
    "        newImg = self.img - num2.img\n",
    "        return Complex(newReal, newImg)\n",
    "\n",
    "\n",
    "num1 = Complex(1, 3)\n",
    "num1.showNumber()\n",
    "\n",
    "num2 = Complex(4, 6)\n",
    "num2.showNumber()\n",
    "\n",
    "print(\"------------\")\n",
    "\n",
    "num3 = num1 - num2\n",
    "num3.showNumber()\n"
   ]
  },
  {
   "cell_type": "markdown",
   "id": "f9ac9837",
   "metadata": {},
   "source": [
    "# let's Practice\n",
    "\n",
    "qs . Define a Circle class to create a circle with radius r using the constructor.\n",
    "\n",
    "Define an Area()method of the class which calculates the area of the circle.\n",
    "\n",
    "define a perimeter() method of the class which allows you to calculate the perimeter of the circle."
   ]
  },
  {
   "cell_type": "code",
   "execution_count": 114,
   "id": "9c84276a",
   "metadata": {},
   "outputs": [
    {
     "name": "stdout",
     "output_type": "stream",
     "text": [
      "1386.0\n",
      "132.0\n"
     ]
    }
   ],
   "source": [
    "class Circle:\n",
    "    def __init__(self,radius):\n",
    "        self.radius = radius\n",
    "\n",
    "    def area(self):\n",
    "        return (22/7) * self.radius **2\n",
    "    def perimeter(self):\n",
    "        return 2 * (22/7) * self.radius\n",
    "    \n",
    "\n",
    "cl = Circle(21)\n",
    "print(cl.area())\n",
    "print(cl.perimeter())"
   ]
  },
  {
   "cell_type": "markdown",
   "id": "95be516e",
   "metadata": {},
   "source": [
    "Qs. Define a Employee class with attributes role, department & salary.\n",
    "This class also a showDetailS()method.\n",
    "\n",
    "Create an Engineer class that inherits properties from employee & has additional\n",
    "attributes : name & age.\n"
   ]
  },
  {
   "cell_type": "code",
   "execution_count": 115,
   "id": "f55fc0e0",
   "metadata": {},
   "outputs": [
    {
     "name": "stdout",
     "output_type": "stream",
     "text": [
      "role = Engineer\n",
      "dept= IT\n",
      "salary= 75,000\n"
     ]
    }
   ],
   "source": [
    "class Employee:\n",
    "    def __init__(self, role, dept, salary):\n",
    "        self.role = role\n",
    "        self.dept = dept\n",
    "        self.salary = salary\n",
    "\n",
    "    def showDetails(self):\n",
    "        print('role =' ,self.role)\n",
    "        print(\"dept=\", self.dept)\n",
    "        print(\"salary=\", self.salary)\n",
    "\n",
    "class Engineer(Employee):\n",
    "    def __init__(self, name, age):\n",
    "        self.name = name\n",
    "        self.age = age\n",
    "        super().__init__(\"Engineer\", \"IT\", \"75,000\")\n",
    "\n",
    "# e1 = Employee(\"Accountant\", \"Finance\",\"60,000\")\n",
    "# e1.showDetails()\n",
    "\n",
    "eng1 =Engineer(\"Elon Musk\", 40)\n",
    "eng1.showDetails()"
   ]
  },
  {
   "cell_type": "markdown",
   "id": "52fc6961",
   "metadata": {},
   "source": [
    "Qs. Create a class called Order which stores item & its price.\n",
    "\n",
    "Use Dunder function __get__(|)to convey that:\n",
    "\n",
    "    order1>order2 if price of order1> price of order 2"
   ]
  },
  {
   "cell_type": "code",
   "execution_count": 116,
   "id": "6ad65b3d",
   "metadata": {},
   "outputs": [
    {
     "name": "stdout",
     "output_type": "stream",
     "text": [
      "True\n"
     ]
    }
   ],
   "source": [
    "class Order:\n",
    "    def __init__(self, item, price):\n",
    "        self.item = item\n",
    "        self.price = price\n",
    "\n",
    "    def __gt__(self, odr2):\n",
    "        return self.price > odr2.price\n",
    "    \n",
    "odr1 = Order(\"chips\", 20)\n",
    "odr2 = Order('tea', 15)\n",
    "print(odr1 > odr2) # true"
   ]
  }
 ],
 "metadata": {
  "kernelspec": {
   "display_name": "Python 3",
   "language": "python",
   "name": "python3"
  },
  "language_info": {
   "codemirror_mode": {
    "name": "ipython",
    "version": 3
   },
   "file_extension": ".py",
   "mimetype": "text/x-python",
   "name": "python",
   "nbconvert_exporter": "python",
   "pygments_lexer": "ipython3",
   "version": "3.13.0"
  }
 },
 "nbformat": 4,
 "nbformat_minor": 5
}
