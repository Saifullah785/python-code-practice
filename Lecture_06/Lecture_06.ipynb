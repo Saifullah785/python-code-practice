{
 "cells": [
  {
   "cell_type": "markdown",
   "id": "f0c4308c",
   "metadata": {},
   "source": [
    "# Chapter 6\n",
    "Functions & Recursion\n"
   ]
  },
  {
   "cell_type": "markdown",
   "id": "b0c96a40",
   "metadata": {},
   "source": [
    "# Functions in Python\n",
    "Block of statements that perform a specific task \n",
    "\n",
    "\n",
    "def func_name(param 1, param 2..):\n",
    "\n",
    "# some work \n",
    "return val \n",
    "\n",
    "func_name( arg1, arg2..) #function call \n",
    "\n",
    "def sum(a,b):\n",
    "s = a + b\n",
    "return s\n",
    "\n",
    "print(sum(2,2))"
   ]
  },
  {
   "cell_type": "code",
   "execution_count": 2,
   "id": "a5bfbd63",
   "metadata": {},
   "outputs": [
    {
     "name": "stdout",
     "output_type": "stream",
     "text": [
      "15\n"
     ]
    }
   ],
   "source": [
    "a = 5\n",
    "b = 10\n",
    "\n",
    "sum = a + b\n",
    "print (sum)\n",
    "\n",
    "# more lines of code\n",
    "\n"
   ]
  },
  {
   "cell_type": "code",
   "execution_count": null,
   "id": "462001b0",
   "metadata": {},
   "outputs": [
    {
     "name": "stdout",
     "output_type": "stream",
     "text": [
      "15\n",
      "1074\n"
     ]
    },
    {
     "data": {
      "text/plain": [
       "1074"
      ]
     },
     "execution_count": 3,
     "metadata": {},
     "output_type": "execute_result"
    }
   ],
   "source": [
    "\n",
    "# function definition\n",
    "\n",
    "def calc_sum(a, b):# parameters\n",
    "    sum = a+b\n",
    "    print (sum)\n",
    "    return sum\n",
    "\n",
    "calc_sum(5, 10) #3 function call; arguments\n",
    "\n",
    "# more lines of code\n",
    "\n",
    "calc_sum(785,289)"
   ]
  },
  {
   "cell_type": "code",
   "execution_count": 5,
   "id": "a31af480",
   "metadata": {},
   "outputs": [
    {
     "name": "stdout",
     "output_type": "stream",
     "text": [
      "57.333333333333336\n"
     ]
    },
    {
     "data": {
      "text/plain": [
       "57.333333333333336"
      ]
     },
     "execution_count": 5,
     "metadata": {},
     "output_type": "execute_result"
    }
   ],
   "source": [
    "# average of 3 number\n",
    "\n",
    "def calc_avg(a, b, c):\n",
    "\n",
    "    sum = a + b + c\n",
    "    avg = sum/3\n",
    "    print(avg)\n",
    "    return avg\n",
    "\n",
    "\n",
    "calc_avg(84,39,49)"
   ]
  },
  {
   "cell_type": "markdown",
   "id": "4094c37b",
   "metadata": {},
   "source": [
    "# Functions in Python \n",
    "\n",
    "1.Built-in Functions\n",
    "\n",
    "print()\n",
    "\n",
    "len()\n",
    "\n",
    "type()\n",
    "\n",
    "range()\n",
    "\n",
    "2. user defined funtions\n",
    "\n",
    "# Default Parameters\n",
    "\n",
    "Assigning a default value to parameter, which is used when no argument is passed"
   ]
  },
  {
   "cell_type": "code",
   "execution_count": 6,
   "id": "3956299b",
   "metadata": {},
   "outputs": [
    {
     "name": "stdout",
     "output_type": "stream",
     "text": [
      "3\n"
     ]
    },
    {
     "data": {
      "text/plain": [
       "3"
      ]
     },
     "execution_count": 6,
     "metadata": {},
     "output_type": "execute_result"
    }
   ],
   "source": [
    "def cal_prod (a, b=3):\n",
    "    print(a * b)\n",
    "    return a * b\n",
    "\n",
    "cal_prod(1)\n"
   ]
  },
  {
   "cell_type": "markdown",
   "id": "6b63bf05",
   "metadata": {},
   "source": [
    "# Let' Practice\n",
    "\n",
    "1.WAPto print the of a list (list is the parameter)\n",
    "\n",
    "2.WAP to print the elements of a list in a single line. (List is the parameter)\n",
    "\n",
    "3.WAP to find th factorial of n. (n is the parameter)\n",
    "\n",
    "4.WAP to convert USD to INR\n"
   ]
  },
  {
   "cell_type": "code",
   "execution_count": 11,
   "id": "660fe8a8",
   "metadata": {},
   "outputs": [
    {
     "name": "stdout",
     "output_type": "stream",
     "text": [
      "3\n"
     ]
    }
   ],
   "source": [
    "#1\n",
    "cities = ['sargodha','multan', 'islamabad']\n",
    "\n",
    "def print_len(cities):\n",
    "    print(len(cities))\n",
    "\n",
    "    \n",
    "print_len(cities)\n"
   ]
  },
  {
   "cell_type": "code",
   "execution_count": null,
   "id": "239b2472",
   "metadata": {},
   "outputs": [
    {
     "name": "stdout",
     "output_type": "stream",
     "text": [
      "720\n"
     ]
    }
   ],
   "source": [
    "#3.\n",
    "\n",
    "def cal_fact(n):\n",
    "    fact = 1\n",
    "    for i in range (1, n+1):\n",
    "        fact *= i \n",
    "    print(fact)\n",
    "\n",
    "cal_fact(6)\n"
   ]
  },
  {
   "cell_type": "code",
   "execution_count": 16,
   "id": "73b547ab",
   "metadata": {},
   "outputs": [
    {
     "name": "stdout",
     "output_type": "stream",
     "text": [
      "73 USD = 20440 PKR\n"
     ]
    }
   ],
   "source": [
    "#4.\n",
    "\n",
    "def converter(usd_val):\n",
    "    pkr_val = usd_val * 280\n",
    "    print (usd_val, \"USD =\" , pkr_val, \"PKR\")\n",
    "\n",
    "converter(73)\n"
   ]
  },
  {
   "cell_type": "markdown",
   "id": "68a9e207",
   "metadata": {},
   "source": [
    "# Recursion\n",
    "\n",
    "when a function calls itself repeatedly\n",
    "\n",
    "# print n to 1 backwords\n",
    "def show(n):\n",
    "    if (n==0):\n",
    "       return\n",
    "    print(n)\n",
    "    show(n-1)"
   ]
  },
  {
   "cell_type": "code",
   "execution_count": 17,
   "id": "af17a1d3",
   "metadata": {},
   "outputs": [
    {
     "name": "stdout",
     "output_type": "stream",
     "text": [
      "5\n",
      "4\n",
      "3\n",
      "2\n",
      "1\n"
     ]
    }
   ],
   "source": [
    "# recursive function\n",
    "def show(n):\n",
    "    if(n==0):\n",
    "        return\n",
    "    print(n)\n",
    "    show(n-1)\n",
    "\n",
    "show(5)"
   ]
  },
  {
   "cell_type": "code",
   "execution_count": null,
   "id": "e4e62a87",
   "metadata": {},
   "outputs": [
    {
     "data": {
      "text/plain": [
       "120"
      ]
     },
     "execution_count": 19,
     "metadata": {},
     "output_type": "execute_result"
    }
   ],
   "source": [
    "# return n!\n",
    "def fact(n):\n",
    "    if(n == 0 or n ==1):\n",
    "        return 1\n",
    "    else:\n",
    "        return n * fact(n-1)\n",
    "    \n",
    "fact(5)"
   ]
  },
  {
   "cell_type": "markdown",
   "id": "5e226e5e",
   "metadata": {},
   "source": [
    "# Let'practice\n",
    "\n",
    "!.Write a recursive function to calculate the sum of first n natural numbers\n"
   ]
  },
  {
   "cell_type": "code",
   "execution_count": 24,
   "id": "dd05b756",
   "metadata": {},
   "outputs": [
    {
     "name": "stdout",
     "output_type": "stream",
     "text": [
      "6\n"
     ]
    }
   ],
   "source": [
    "def calc_sum(n):\n",
    "    if(n == 0):\n",
    "        return 0\n",
    "    \n",
    "    return calc_sum(n-1) + n\n",
    "\n",
    "sum = calc_sum(3)\n",
    "print(sum)\n"
   ]
  },
  {
   "cell_type": "markdown",
   "id": "5a39c2ba",
   "metadata": {},
   "source": [
    "2.Write a recursive function to print all element in a list.\n",
    "\n",
    "Hint : use list & index as parameters.\n"
   ]
  },
  {
   "cell_type": "code",
   "execution_count": 34,
   "id": "7372614e",
   "metadata": {},
   "outputs": [
    {
     "name": "stdout",
     "output_type": "stream",
     "text": [
      "mango\n",
      "litchi\n",
      "apple\n",
      "banana\n"
     ]
    }
   ],
   "source": [
    " \n",
    "\n",
    "def print_list(list, idx=0):\n",
    "    if (idx == len(list)):\n",
    "\n",
    "        return\n",
    "    print(list[idx])\n",
    "    print_list(list, idx+1)\n",
    "\n",
    "\n",
    "\n",
    " \n",
    "fruits = [\"mango\", \"litchi\", \"apple\", \"banana\"] \n",
    "\n",
    "print_list(fruits)"
   ]
  }
 ],
 "metadata": {
  "kernelspec": {
   "display_name": "Python 3",
   "language": "python",
   "name": "python3"
  },
  "language_info": {
   "codemirror_mode": {
    "name": "ipython",
    "version": 3
   },
   "file_extension": ".py",
   "mimetype": "text/x-python",
   "name": "python",
   "nbconvert_exporter": "python",
   "pygments_lexer": "ipython3",
   "version": "3.13.0"
  }
 },
 "nbformat": 4,
 "nbformat_minor": 5
}
