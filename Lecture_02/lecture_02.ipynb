{
 "cells": [
  {
   "cell_type": "markdown",
   "id": "e1c8a447",
   "metadata": {},
   "source": [
    "# Chapter 2\n",
    "Strings & Conditionals Statements\n",
    "================================="
   ]
  },
  {
   "cell_type": "markdown",
   "id": "f3cefb38",
   "metadata": {},
   "source": [
    "Strings\n",
    "String is data type that stores a sequence of characters.\n",
    "\n",
    "\n",
    "Baic Operations\n",
    "1.concatenation\n",
    "\"Hello\" + \"World\" # HelloWorld\n",
    "2.length of str\n",
    "len(str)"
   ]
  },
  {
   "cell_type": "code",
   "execution_count": null,
   "id": "a3b2dac5",
   "metadata": {},
   "outputs": [],
   "source": [
    "str1 = \"this is a string\"\n",
    "str2 = 'this is another string'\n",
    "str3 = \"\"\"this is a string\"\"\""
   ]
  },
  {
   "cell_type": "code",
   "execution_count": 2,
   "id": "06ea2390",
   "metadata": {},
   "outputs": [
    {
     "name": "stdout",
     "output_type": "stream",
     "text": [
      "apnasaif\n",
      "8\n"
     ]
    }
   ],
   "source": [
    "str1 = 'apna'\n",
    "str2 = 'saif'\n",
    "final_str = str1 + str2\n",
    "print(final_str)  # Output: apnasaif\n",
    "print (len(final_str))  # Output: 8\n",
    "\n"
   ]
  },
  {
   "cell_type": "markdown",
   "id": "cf48c092",
   "metadata": {},
   "source": [
    "Indexing\n",
    "\n",
    "Apna Saif\n",
    "\n",
    "str=\"Apna Saif\"\n",
    "str[0] # A\n",
    "str[1] # p\n",
    "str[2] # n"
   ]
  },
  {
   "cell_type": "markdown",
   "id": "367eacc7",
   "metadata": {},
   "source": [
    "# Slicing\n",
    "apna saif\n",
    "Accessing parts of a string\n",
    "str[start:end:step]\n",
    "str[0:4] # Apna\n",
    "str[0:4:2] # An\n",
    "str[0:4:1] # Apna\n",
    "\n",
    "# Negative Indexing\n",
    "str[-1] # f\n",
    "str[-2] # i\n",
    "str[-3] # a\n",
    "str[-4] # S\n"
   ]
  },
  {
   "cell_type": "markdown",
   "id": "df8bd647",
   "metadata": {},
   "source": [
    "# String Functions\n",
    "str=\"Apna Saif\"\n",
    "str.upper() # APNA SAIF\n",
    "str.lower() # apna saif\n",
    "str.title() # Apna Saif\n",
    "str.capitalize() # Apna saif\n",
    "str.strip() # Apna Saif\n",
    "str.replace(\"Apna\",\"Saif\") # Saif Saif\n",
    "str.split() # ['Apna', 'Saif']\n",
    "str.find(word) # return 1st index of 1st occurrence\n",
    "str.count(\"am\") # counts the occurrences of substr in string\n",
    "str.endswith('if') # returns ture if string ends with substr\n"
   ]
  },
  {
   "cell_type": "code",
   "execution_count": 7,
   "id": "2fe6be16",
   "metadata": {},
   "outputs": [
    {
     "name": "stdout",
     "output_type": "stream",
     "text": [
      "True\n",
      "I am studying python from apna college\n",
      "i am studying python from my college\n",
      "26\n",
      "2\n"
     ]
    }
   ],
   "source": [
    "str = \"i am studying python from apna college\"\n",
    "print(str.endswith(\"college\"))  # Output: True\n",
    "\n",
    "str = \"i am studying python from apna college\"\n",
    "print(str.capitalize())  # Output: I am studying python from apna college\n",
    "\n",
    "str = \"i am studying python from apna college\"\n",
    "print(str.replace(\"apna\", \"my\"))  # Output: i am studying python from my college\n",
    "\n",
    "str = \"i am studying python from apna college\"\n",
    "print(str.find(\"apna\"))  # Output: 30\n",
    "\n",
    "str = \"i am studying python from apna college\"\n",
    "print(str.count(\"t\"))"
   ]
  },
  {
   "cell_type": "markdown",
   "id": "9aa305e8",
   "metadata": {},
   "source": [
    "# let Practice\n",
    "1. WAP to input user's first name & print its length.\n"
   ]
  },
  {
   "cell_type": "code",
   "execution_count": null,
   "id": "bead226e",
   "metadata": {},
   "outputs": [],
   "source": [
    "# name = input(\"Enter your first name: \")\n",
    "# print(f\"Length of your first name is: {len(name)}\")"
   ]
  },
  {
   "cell_type": "markdown",
   "id": "e2eb5a5b",
   "metadata": {},
   "source": [
    "2. WAP to find the occurrence of a '$' in a string"
   ]
  },
  {
   "cell_type": "code",
   "execution_count": null,
   "id": "f988ce56",
   "metadata": {},
   "outputs": [],
   "source": [
    "#2. WAP to find the occurrence of a '$' in a string\n",
    "\n",
    "str = \"hi, $my name is $ symbol $99.9\"\n",
    "print(f\"Occurrence of '$' in the string is: {str.count('$')}\")"
   ]
  },
  {
   "cell_type": "markdown",
   "id": "30f4ab2c",
   "metadata": {},
   "source": [
    "# Conditional Statements\n",
    "\n",
    "if elif else (syntax)\n",
    "if condition1:\n",
    "    # block of code to be executed if condition1 is true\n",
    "elif condition2:\n",
    "    # block of code to be executed if condition2 is true\n",
    "else:\n",
    "    # block of code to be executed if both condition1 and condition2 are false"
   ]
  },
  {
   "cell_type": "code",
   "execution_count": null,
   "id": "52a074df",
   "metadata": {},
   "outputs": [],
   "source": [
    "# Example\n",
    "age = 76\n",
    "if age < 18:\n",
    "    print(\"You are a minor.\")\n",
    "elif age >= 18 and age < 60:\n",
    "    print(\"You are an adult.\")\n",
    "else:\n",
    "    print(\"You are a senior citizen.\")"
   ]
  },
  {
   "cell_type": "markdown",
   "id": "405d2e1e",
   "metadata": {},
   "source": [
    "# Nesting"
   ]
  },
  {
   "cell_type": "code",
   "execution_count": null,
   "id": "09656547",
   "metadata": {},
   "outputs": [],
   "source": [
    "age = 25\n",
    "if age >= 18:\n",
    "    if (age >= 80):\n",
    "        print('cannot drive')\n",
    "    print(\"You can drive.\")\n",
    "else:\n",
    "    print(' drive')    \n"
   ]
  },
  {
   "cell_type": "markdown",
   "id": "4e1dedad",
   "metadata": {},
   "source": [
    "# 1.WAP to check if a number entered by the user is odd or even."
   ]
  },
  {
   "cell_type": "code",
   "execution_count": null,
   "id": "b24d7e48",
   "metadata": {},
   "outputs": [],
   "source": [
    "\n",
    "# num = int(input(\"Enter a number: \"))\n",
    "# if num % 2 == 0:\n",
    "#     print(f\"{num} is even\")\n",
    "# else:\n",
    "#     print(f\"{num} is odd\")"
   ]
  },
  {
   "cell_type": "markdown",
   "id": "8c86cfa3",
   "metadata": {},
   "source": [
    "# 4. WAP to find the greatest of 3 numbers entered by the user."
   ]
  },
  {
   "cell_type": "code",
   "execution_count": null,
   "id": "6b84a38d",
   "metadata": {},
   "outputs": [],
   "source": [
    "# a = int(input(\"Enter first number: \"))\n",
    "# b = int(input(\"Enter second number: \"))\n",
    "# c = int(input(\"Enter third number: \"))\n",
    "\n",
    "# if a >= b and a >= c:\n",
    "#     print(f\"{a} is the greatest number\")\n",
    "# elif b >= c:\n",
    "#     print(f\"{b} is the greatest number\")\n",
    "# else:\n",
    "#     print(f\"{c} is the greatest number\")"
   ]
  }
 ],
 "metadata": {
  "kernelspec": {
   "display_name": "Python 3",
   "language": "python",
   "name": "python3"
  },
  "language_info": {
   "codemirror_mode": {
    "name": "ipython",
    "version": 3
   },
   "file_extension": ".py",
   "mimetype": "text/x-python",
   "name": "python",
   "nbconvert_exporter": "python",
   "pygments_lexer": "ipython3",
   "version": "3.13.0"
  }
 },
 "nbformat": 4,
 "nbformat_minor": 5
}
