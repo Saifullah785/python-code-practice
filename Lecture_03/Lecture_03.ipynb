{
 "cells": [
  {
   "cell_type": "markdown",
   "id": "970f3d94",
   "metadata": {},
   "source": [
    "# Chapter 3\n",
    "\n",
    "\n",
    "Lists and Tuples\n",
    "\n",
    "========================"
   ]
  },
  {
   "cell_type": "markdown",
   "id": "f277782e",
   "metadata": {},
   "source": [
    "# Lists\n",
    "\n",
    "\n",
    "A build in data type that stores set of values\n",
    "It can store elements of different types (integers, float, strings,etc)\n",
    "Lists are mutable sequences, typically used to store collections of homogeneous items.\n",
    "Lists are defined by enclosing elements in square brackets `[]`, separated by commas.\n",
    "\n",
    "marks = [90, 80, 70, 60, 50]\n",
    "\n",
    "students = ['John', 'Jane', 'Jim', 'Jack']\n",
    "\n",
    "students[0] # returns 'John'\n",
    "students[1] # returns 'Jane'\n",
    "len(students) # returns 4, the number of elements in the list\n",
    "\n",
    "\n"
   ]
  },
  {
   "cell_type": "code",
   "execution_count": 4,
   "id": "255ee482",
   "metadata": {},
   "outputs": [
    {
     "name": "stdout",
     "output_type": "stream",
     "text": [
      "[94.4, 87.5, 95.2, 66.4, 45.1]\n",
      "<class 'list'>\n",
      "94.4\n"
     ]
    }
   ],
   "source": [
    "list\n",
    "marks = [94.4, 87.5, 95.2, 66.4, 45.1]\n",
    "print(marks)\n",
    "print(type(marks))\n",
    "print(marks[0])"
   ]
  },
  {
   "cell_type": "code",
   "execution_count": 5,
   "id": "985fe8f1",
   "metadata": {},
   "outputs": [
    {
     "name": "stdout",
     "output_type": "stream",
     "text": [
      "['karan', 95.4, 17, 'Delhi']\n"
     ]
    }
   ],
   "source": [
    "student = ['karan', 95.4, 17, \"Delhi\"]\n",
    "print(student)"
   ]
  },
  {
   "cell_type": "markdown",
   "id": "13c90659",
   "metadata": {},
   "source": [
    "# List slicing\n",
    "\n",
    "\n",
    "list_name[start:end:step]\n",
    "\n",
    "marks[0:3] # returns [90, 80, 70]\n",
    "\n",
    "List slicing is a way to access a subset of elements from a list using the colon `:` operator."
   ]
  },
  {
   "cell_type": "markdown",
   "id": "893640be",
   "metadata": {},
   "source": [
    "# List methods"
   ]
  },
  {
   "cell_type": "code",
   "execution_count": null,
   "id": "d850420a",
   "metadata": {},
   "outputs": [],
   "source": [
    "\n",
    "\n",
    "\n",
    "list = [1, 2, 3, 4, 5]\n",
    "list.append(45.5)  # Adds an element to the end of the list [1, 2, 3, 4, 5, 45.5]\n",
    "list.insert(2, 45.5)  # Inserts an element at the specified index\n",
    "list.remove(1)  # Removes the first occurrence of the specified element [2, 3, 4, 5, 45.5]\n",
    "list.pop( idx )  # Removes and returns the last element of the list\n",
    "list.sort(reverse=True)  # Sorts the list in ascending order (or descending if reverse=True)\n",
    "list.reverse()  # Reverses the order of the elements in the list"
   ]
  },
  {
   "cell_type": "markdown",
   "id": "3624d08b",
   "metadata": {},
   "source": [
    "# Tuples in Python\n",
    "\n",
    "\n",
    "A built-in data type that lets us create immutable sequences of values.\n",
    "\n",
    "tup = (1, 2, 3, 4, 5) # a tuple of integers # tupp[0] returns 1\n",
    "\n",
    "tup[0] = 43 # Not allowed, tuples are immutable\n",
    "\n",
    "tup1 = ()\n",
    "tup2 = (1,)\n",
    "tup3 = (1, 2, 3)"
   ]
  },
  {
   "cell_type": "code",
   "execution_count": 9,
   "id": "50a7852b",
   "metadata": {},
   "outputs": [
    {
     "name": "stdout",
     "output_type": "stream",
     "text": [
      "(1, 2, 3, 4, 5)\n",
      "<class 'tuple'>\n"
     ]
    }
   ],
   "source": [
    "tup = (1, 2, 3, 4, 5)\n",
    "print(tup)\n",
    "print(type(tup))\n",
    "# tup[0] =10 # Not allowed, tuples are immutable"
   ]
  },
  {
   "cell_type": "markdown",
   "id": "0207ffa9",
   "metadata": {},
   "source": [
    "# Tuple Methods\n",
    "\n",
    "\n",
    "tup = (1, 2, 3, 4, 5, 1, 2, 3)\n",
    "\n",
    "tup.index(el) # returns index of first occurrence  tup.index(2)is 1\n",
    "\n",
    "tup.count(el) # counts total occurrences tup.count(1) is 2\n"
   ]
  },
  {
   "cell_type": "code",
   "execution_count": 10,
   "id": "16882e86",
   "metadata": {},
   "outputs": [
    {
     "name": "stdout",
     "output_type": "stream",
     "text": [
      "1\n"
     ]
    }
   ],
   "source": [
    "tup = (1, 2, 3, 4, 5)\n",
    "print(tup.count(1))  # Counts the number of occurrences of 1 in the tuple\n"
   ]
  },
  {
   "cell_type": "markdown",
   "id": "e000d707",
   "metadata": {},
   "source": [
    "# let's Practice\n",
    "\n",
    "1.WAP to ask the user to enter names of their 3 favorite movies & store them in a list."
   ]
  },
  {
   "cell_type": "code",
   "execution_count": 11,
   "id": "0421f733",
   "metadata": {},
   "outputs": [],
   "source": [
    "# movies = []\n",
    "# movie1 = input(\"Enter your first favorite movie: \")\n",
    "# movie2 = input(\"Enter your second favorite movie: \")\n",
    "# movie3 = input(\"Enter your third favorite movie: \")\n",
    "# movies.append(movie1)\n",
    "# movies.append(movie2)\n",
    "# movies.append(movie3)\n",
    "# print(\"Your favorite movies are: \", movies)"
   ]
  },
  {
   "cell_type": "markdown",
   "id": "fc628b23",
   "metadata": {},
   "source": [
    "2. WAP to check if a list contains a palindrome of elements.(HInt: use copy() method)"
   ]
  },
  {
   "cell_type": "code",
   "execution_count": 13,
   "id": "5038d6fe",
   "metadata": {},
   "outputs": [
    {
     "name": "stdout",
     "output_type": "stream",
     "text": [
      "Both lists are not palindrome\n"
     ]
    }
   ],
   "source": [
    "list1 = [1, 2, 3, 4, 5]\n",
    "list2 = [1, 2, 4, 5]\n",
    "\n",
    "copy_list1 = list1.copy()\n",
    "copy_list1.reverse()\n",
    "\n",
    "if (list1 == list2):\n",
    "    print(\"Both lists are palindrome\")\n",
    "else:\n",
    "    print(\"Both lists are not palindrome\")"
   ]
  },
  {
   "cell_type": "markdown",
   "id": "a5125dce",
   "metadata": {},
   "source": [
    " 3. WAP to count the number of students with 'A' grade in the following tuple.\n"
   ]
  },
  {
   "cell_type": "code",
   "execution_count": 15,
   "id": "2e8129f7",
   "metadata": {},
   "outputs": [
    {
     "name": "stdout",
     "output_type": "stream",
     "text": [
      "2\n"
     ]
    }
   ],
   "source": [
    "grade= ('A', 'B', 'C', 'D', 'E')\n",
    "print(grade.index('C'))  # Returns the index of the first occurrence of 'C' in the list"
   ]
  },
  {
   "cell_type": "markdown",
   "id": "b926370d",
   "metadata": {},
   "source": []
  },
  {
   "cell_type": "code",
   "execution_count": 19,
   "id": "eec38e14",
   "metadata": {},
   "outputs": [
    {
     "name": "stdout",
     "output_type": "stream",
     "text": [
      "['A', 'B', 'C', 'D', 'E']\n"
     ]
    }
   ],
   "source": [
    "grade= ['B', 'A', 'C', 'D', 'E']\n",
    "\n",
    "grade.sort()\n",
    "print(grade)  # Sorts the list in ascending order (case-sensitive)\n"
   ]
  }
 ],
 "metadata": {
  "kernelspec": {
   "display_name": "Python 3",
   "language": "python",
   "name": "python3"
  },
  "language_info": {
   "codemirror_mode": {
    "name": "ipython",
    "version": 3
   },
   "file_extension": ".py",
   "mimetype": "text/x-python",
   "name": "python",
   "nbconvert_exporter": "python",
   "pygments_lexer": "ipython3",
   "version": "3.13.0"
  }
 },
 "nbformat": 4,
 "nbformat_minor": 5
}
