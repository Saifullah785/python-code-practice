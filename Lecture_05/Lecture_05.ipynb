{
 "cells": [
  {
   "cell_type": "markdown",
   "id": "72727154",
   "metadata": {},
   "source": [
    "# Chapter 5 \n",
    "Loops\n",
    "\n",
    "loops are used to repeat instructions.\n",
    "\n",
    "while Loops\n",
    "\n",
    "while condition:\n",
    "#some work"
   ]
  },
  {
   "cell_type": "code",
   "execution_count": 38,
   "id": "9c797aba",
   "metadata": {},
   "outputs": [
    {
     "name": "stdout",
     "output_type": "stream",
     "text": [
      "Hello World\n",
      "Hello World\n",
      "Hello World\n",
      "Hello World\n",
      "Hello World\n",
      "Hello World\n",
      "Hello World\n",
      "Hello World\n",
      "Hello World\n",
      "Hello World\n"
     ]
    }
   ],
   "source": [
    "count =1 \n",
    "while count<= 10:\n",
    "    print(\"Hello World\")\n",
    "    count += 1"
   ]
  },
  {
   "cell_type": "code",
   "execution_count": 39,
   "id": "395e477a",
   "metadata": {},
   "outputs": [
    {
     "name": "stdout",
     "output_type": "stream",
     "text": [
      "10\n",
      "9\n",
      "8\n",
      "7\n",
      "6\n",
      "5\n",
      "4\n",
      "3\n",
      "2\n",
      "1\n",
      "0\n"
     ]
    }
   ],
   "source": [
    "i =10\n",
    "while i >= 0:\n",
    "    print(i)\n",
    "    i -= 1"
   ]
  },
  {
   "cell_type": "markdown",
   "id": "2df0d482",
   "metadata": {},
   "source": [
    "# Let's Practice\n",
    "\n",
    "1.Print numbers from 1 to 10\n",
    "\n",
    "2.print number from 10 to 1\n",
    "\n",
    "3.print the multiplication table of a number n.\n",
    "\n",
    "4.print the element of the following list using a loop\n",
    "\n",
    "[1, 4, 9, 16, 25, 36, 49, 64, 81, 100]\n",
    "\n",
    "5.Search for a number x in this tuple using loop:\n",
    "\n",
    "[1, 4, 9, 16, 25, 36, 49, 64, 81, 100]\n"
   ]
  },
  {
   "cell_type": "code",
   "execution_count": 40,
   "id": "2448eda0",
   "metadata": {},
   "outputs": [
    {
     "name": "stdout",
     "output_type": "stream",
     "text": [
      "1\n",
      "2\n",
      "3\n",
      "4\n",
      "5\n",
      "6\n",
      "7\n",
      "8\n",
      "9\n",
      "10\n"
     ]
    }
   ],
   "source": [
    "#1.\n",
    "i =1\n",
    "while i <= 10:\n",
    "    print(i)\n",
    "    i += 1"
   ]
  },
  {
   "cell_type": "code",
   "execution_count": 41,
   "id": "311c23db",
   "metadata": {},
   "outputs": [
    {
     "name": "stdout",
     "output_type": "stream",
     "text": [
      "10\n",
      "9\n",
      "8\n",
      "7\n",
      "6\n",
      "5\n",
      "4\n",
      "3\n",
      "2\n",
      "1\n"
     ]
    }
   ],
   "source": [
    "#.2.\n",
    "i =10\n",
    "while i >= 1:\n",
    "    print(i)\n",
    "    i -= 1\n"
   ]
  },
  {
   "cell_type": "code",
   "execution_count": 42,
   "id": "78e1c99b",
   "metadata": {},
   "outputs": [],
   "source": [
    "#3\n",
    "# n = int(input(\"Enter a number: \"))\n",
    "# i=1\n",
    "# while i <= 10:\n",
    "#     print(n*i)\n",
    "#     i += 1"
   ]
  },
  {
   "cell_type": "code",
   "execution_count": 43,
   "id": "33d211dd",
   "metadata": {},
   "outputs": [
    {
     "name": "stdout",
     "output_type": "stream",
     "text": [
      "1\n",
      "4\n",
      "9\n",
      "16\n",
      "25\n",
      "36\n",
      "49\n",
      "64\n",
      "81\n",
      "100\n"
     ]
    }
   ],
   "source": [
    "#4.\n",
    "nums = [1, 4, 9, 16, 25, 36, 49, 64, 81, 100]\n",
    "\n",
    "idx = 0\n",
    "while idx < len(nums):\n",
    "    print(nums[idx])\n",
    "    idx += 1"
   ]
  },
  {
   "cell_type": "code",
   "execution_count": 44,
   "id": "f6a6f102",
   "metadata": {},
   "outputs": [
    {
     "name": "stdout",
     "output_type": "stream",
     "text": [
      "Found at index 5\n"
     ]
    }
   ],
   "source": [
    "#5.\n",
    "nums = (1, 4, 9, 16, 25, 36, 49, 64, 81, 100)\n",
    "x=36\n",
    "i= 0\n",
    "while i < len(nums):\n",
    "    if (nums[i] == x):\n",
    "        print(\"Found at index\", i)\n",
    "        \n",
    "\n",
    " \n",
    "    i += 1  \n"
   ]
  },
  {
   "cell_type": "markdown",
   "id": "043de607",
   "metadata": {},
   "source": [
    "# Break and Continue\n",
    "\n",
    "Break: used to terminate the loop when encountered.\n",
    "\n",
    "Continue: terminates execution of the current iteration & continues execution of the loop with the next iteration.\n"
   ]
  },
  {
   "cell_type": "code",
   "execution_count": 45,
   "id": "5ffbeda5",
   "metadata": {},
   "outputs": [
    {
     "name": "stdout",
     "output_type": "stream",
     "text": [
      "1\n",
      "2\n",
      "3\n",
      "4\n",
      "5\n",
      "End of loop\n"
     ]
    }
   ],
   "source": [
    "i = 1\n",
    "while i <= 10:\n",
    "    print(i)\n",
    "    if i == 5:\n",
    "        break\n",
    "    i += 1\n",
    "print (\"End of loop\")"
   ]
  },
  {
   "cell_type": "code",
   "execution_count": 46,
   "id": "c1a3f02d",
   "metadata": {},
   "outputs": [
    {
     "name": "stdout",
     "output_type": "stream",
     "text": [
      "0\n",
      "1\n",
      "2\n",
      "3\n",
      "4\n",
      "6\n",
      "7\n",
      "8\n",
      "9\n",
      "10\n"
     ]
    }
   ],
   "source": [
    "# Continue: terminates execution of the current iteration \n",
    "# & continues execution of the loop with the next iteration.\n",
    "i = 0 \n",
    "while i <= 10:\n",
    "    if i == 5:\n",
    "        i += 1\n",
    "        continue\n",
    "    print(i)\n",
    "    i += 1"
   ]
  },
  {
   "cell_type": "markdown",
   "id": "a4f4286d",
   "metadata": {},
   "source": [
    "<!-- Loop are used for sequential traversal. For traversing list, string, tuple etc. -->\n",
    "\n",
    "# For Loops\n",
    "\n",
    "for i in range(1, 11):\n",
    "    print(i)\n",
    "\n",
    "# for loop with else\n",
    "\n",
    "for i in range(1, 11):\n",
    "    print(i)\n",
    "else:\n",
    "    print(\"Loop ended\")"
   ]
  },
  {
   "cell_type": "code",
   "execution_count": 47,
   "id": "0dd85780",
   "metadata": {},
   "outputs": [
    {
     "name": "stdout",
     "output_type": "stream",
     "text": [
      "1\n",
      "2\n",
      "3\n",
      "4\n",
      "5\n"
     ]
    }
   ],
   "source": [
    "# list = [1, 2, 3, 4, 5] # for list\n",
    "list = (1, 2, 3, 4, 5) # for tuple\n",
    "\n",
    "for i in list:\n",
    "    print(i)\n",
    "    "
   ]
  },
  {
   "cell_type": "code",
   "execution_count": 48,
   "id": "40e4217b",
   "metadata": {},
   "outputs": [
    {
     "name": "stdout",
     "output_type": "stream",
     "text": [
      " \n",
      "s\n",
      "a\n",
      "i\n",
      "f\n",
      " \n",
      "k\n",
      "h\n",
      "a\n",
      "n\n"
     ]
    }
   ],
   "source": [
    "str = ' saif khan'\n",
    "\n",
    "for i in str:\n",
    "    print(i)"
   ]
  },
  {
   "cell_type": "markdown",
   "id": "5c0aaad1",
   "metadata": {},
   "source": [
    "# let's Pracice\n",
    "using for \n",
    "1. Print the elements of the following list using a loop \n",
    "\n",
    "[1, 4, 9, 16, 25, 36, 49, 64, 81, 100]\n",
    "\n",
    "1. Search for a number x in this tuple using loop:\n",
    "\n",
    "[1, 4, 9, 16, 25, 36, 49, 64, 81, 100]\n"
   ]
  },
  {
   "cell_type": "code",
   "execution_count": 49,
   "id": "8c8b5b3f",
   "metadata": {},
   "outputs": [
    {
     "name": "stdout",
     "output_type": "stream",
     "text": [
      "1\n",
      "4\n",
      "9\n",
      "16\n",
      "25\n",
      "36\n",
      "49\n",
      "64\n",
      "81\n",
      "100\n"
     ]
    }
   ],
   "source": [
    "#1.\n",
    "nums = [1, 4, 9, 16, 25, 36, 49, 64, 81, 100]\n",
    "\n",
    "for i in nums:\n",
    "    print(i)"
   ]
  },
  {
   "cell_type": "code",
   "execution_count": 50,
   "id": "e45f806c",
   "metadata": {},
   "outputs": [
    {
     "name": "stdout",
     "output_type": "stream",
     "text": [
      "Found at index 5\n"
     ]
    }
   ],
   "source": [
    "#2. \n",
    "nums = (1, 4, 9, 16, 25, 36, 49, 64, 81, 100)\n",
    "x=36\n",
    "for i in range(len(nums)):\n",
    "    if (nums[i] == x):\n",
    "        print(\"Found at index\", i)\n",
    "        "
   ]
  },
  {
   "cell_type": "markdown",
   "id": "a05aca55",
   "metadata": {},
   "source": [
    "# range()\n",
    "\n",
    "Range functions returns a sequence of numbers, starting from o by default, \n",
    "and increments by 1 (by default), and stop at a specified number.\n",
    "\n",
    "range(start, stop, step)\n",
    "\n",
    "for el in range(5):\n",
    "    print(el)\n",
    "\n",
    "for el in range(1, 10):\n",
    "    print(el)\n",
    "\n",
    "for el in range(1, 10, 2):\n",
    "    print(el)\n"
   ]
  },
  {
   "cell_type": "code",
   "execution_count": 51,
   "id": "919a5fa3",
   "metadata": {},
   "outputs": [],
   "source": [
    "# n = int(input(\"Enter a number: \"))\n",
    "# for i in range(1, 11):\n",
    "#     print(n*i)"
   ]
  },
  {
   "cell_type": "markdown",
   "id": "02ef027e",
   "metadata": {},
   "source": [
    "# pass Statement\n",
    "\n",
    "pass is a null statement that does nothing. it is used as a placeholder for future code.\n"
   ]
  },
  {
   "cell_type": "code",
   "execution_count": 52,
   "id": "dc315913",
   "metadata": {},
   "outputs": [],
   "source": [
    "for el in range(10):\n",
    "    pass"
   ]
  },
  {
   "cell_type": "code",
   "execution_count": 53,
   "id": "a1210c16",
   "metadata": {},
   "outputs": [
    {
     "name": "stdout",
     "output_type": "stream",
     "text": [
      "End of loop\n"
     ]
    }
   ],
   "source": [
    "for i in range(5):\n",
    "    pass\n",
    "\n",
    "print(\"End of loop\")"
   ]
  },
  {
   "cell_type": "markdown",
   "id": "0c75aee4",
   "metadata": {},
   "source": [
    "# let's practice \n",
    "\n",
    "\n",
    "1. WAP to find the sum of first n numbers. (using while)\n",
    "\n",
    "2. WAP to find the factorial of first n numbers. (using for)\n"
   ]
  },
  {
   "cell_type": "code",
   "execution_count": 54,
   "id": "3aa5716d",
   "metadata": {},
   "outputs": [
    {
     "name": "stdout",
     "output_type": "stream",
     "text": [
      "Sum numbers = 15\n"
     ]
    }
   ],
   "source": [
    "n= 5\n",
    "sum = 0\n",
    "for i in range(1, n+1):\n",
    "    sum += i\n",
    "print(\"Sum numbers =\" , sum)\n",
    "\n",
    "   "
   ]
  },
  {
   "cell_type": "code",
   "execution_count": 55,
   "id": "eaaec0a9",
   "metadata": {},
   "outputs": [
    {
     "name": "stdout",
     "output_type": "stream",
     "text": [
      "Factorial of 5 is 120\n"
     ]
    }
   ],
   "source": [
    "n= 5\n",
    "fact =1\n",
    "for i in range(1, n+1):\n",
    "    fact *= i\n",
    "print(\"Factorial of\", n, \"is\", fact)"
   ]
  }
 ],
 "metadata": {
  "kernelspec": {
   "display_name": "Python 3",
   "language": "python",
   "name": "python3"
  },
  "language_info": {
   "codemirror_mode": {
    "name": "ipython",
    "version": 3
   },
   "file_extension": ".py",
   "mimetype": "text/x-python",
   "name": "python",
   "nbconvert_exporter": "python",
   "pygments_lexer": "ipython3",
   "version": "3.13.0"
  }
 },
 "nbformat": 4,
 "nbformat_minor": 5
}
