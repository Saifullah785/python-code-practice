{
 "cells": [
  {
   "cell_type": "markdown",
   "id": "8e6cd34e",
   "metadata": {},
   "source": [
    "# Dictionary in Python\n",
    "\n",
    "Dictionaries are used to store data values in key:value pairs.\n",
    "they are unordered, mutable, (changeable) and donot allow duplicates keys.\n",
    "dict = {\n",
    "    \"name\": \"saif\",\n",
    "    \"age\": 22,\n",
    "    \"marks\": [90, 80, 70],\n",
    "}\n",
    "dict['name'],dict['age'],dict['marks']\n",
    "dict['key'] = value # to assign or add new"
   ]
  },
  {
   "cell_type": "code",
   "execution_count": null,
   "id": "efe8e040",
   "metadata": {},
   "outputs": [
    {
     "name": "stdout",
     "output_type": "stream",
     "text": [
      "{'name': 'saif', 'subjects': ['python', 'C', 'java'], 'topics': ('dict', 'set'), 'age': 35, 'is_adult': True, 12.99: 94.4}\n"
     ]
    }
   ],
   "source": [
    "info = {\n",
    "    \"name\" : \"mycollege\",\n",
    "    \"subjects\" : [\"python\",\"C\",\"java\"],\n",
    "    \"topics\" : (\"dict\", \"set\"),\n",
    "\n",
    "    \"age\" : 35,\n",
    "    \"is_adult\" : True,\n",
    "    12.99 : 94.4\n",
    "\n",
    "}\n",
    "info['name'] = \"saif\" # overwrite \n",
    "print(info)"
   ]
  },
  {
   "cell_type": "markdown",
   "id": "90d6d27f",
   "metadata": {},
   "source": [
    "# Nested Dictionaries\n",
    "\n"
   ]
  },
  {
   "cell_type": "code",
   "execution_count": 7,
   "id": "f5218a7e",
   "metadata": {},
   "outputs": [
    {
     "name": "stdout",
     "output_type": "stream",
     "text": [
      "{'city': 'karachi', 'country': 'pakistan'}\n"
     ]
    }
   ],
   "source": [
    "dict = {\n",
    "    \"name\": \"saif\",\n",
    "    \"age\": 22,\n",
    "    \"marks\": [90, 80, 70],\n",
    "    \"address\": {\n",
    "        \"city\": \"karachi\",\n",
    "        \"country\": \"pakistan\"\n",
    "    }\n",
    "}\n",
    "\n",
    "print(dict[\"address\"])"
   ]
  },
  {
   "cell_type": "markdown",
   "id": "7272fcab",
   "metadata": {},
   "source": [
    "# Dictionary Methods\n",
    "\n",
    "mydic.keys() # returns a list of all the keys in the dictionary\n",
    "\n",
    "mydic.values() # returns a list of all the values in the dictionary\n",
    "\n",
    "mydic.items() # returns a list of tuples, each tuple contains a key-value pair\n",
    "\n",
    "mydic.get(key) # returns the value for the specified key\n",
    "\n",
    "mydic.update(key:value) # updates the dictionary with the specified key-value pair\n"
   ]
  },
  {
   "cell_type": "code",
   "execution_count": null,
   "id": "cad62f0d",
   "metadata": {},
   "outputs": [],
   "source": [
    "dict = {\n",
    "    \"name\": \"saif\",\n",
    "    \"age\": 22,\n",
    "    \"marks\": [90, 80, 70],\n",
    "    \"address\": {\n",
    "        \"city\": \"karachi\",\n",
    "        \"country\": \"pakistan\"\n",
    "    }\n",
    "}\n"
   ]
  },
  {
   "cell_type": "markdown",
   "id": "141a2c2f",
   "metadata": {},
   "source": [
    "# Set in Python\n",
    "sets are mutable but Each element in the set must be unique & immutable\n",
    "Set in the collectin of the unordered items.\n",
    "\n",
    "\n",
    "nums = {1, 2, 3, 4, 5}\n",
    "set2 = {1,2,2,2}\n",
    "\n",
    "# repeated elements stored only once, so it resolved to {1,2}\n",
    "\n",
    "null_set = set() # empty set syntax"
   ]
  },
  {
   "cell_type": "code",
   "execution_count": null,
   "id": "1236d782",
   "metadata": {},
   "outputs": [
    {
     "name": "stdout",
     "output_type": "stream",
     "text": [
      "{1, 2, 3, 4, 5}\n",
      "<class 'set'>\n",
      "{1, 2, 3, 4, 5}\n",
      "<class 'set'>\n"
     ]
    }
   ],
   "source": [
    "collection = {1, 2, 3, 4, 5}\n",
    "\n",
    "print(collection)\n",
    "print(type(collection))\n",
    "\n",
    "\n",
    "collection = {1, 2,2,3, 3, 4, 5} # set must be unique\n",
    "\n",
    "print(collection)\n",
    "print(type(collection))"
   ]
  },
  {
   "cell_type": "markdown",
   "id": "fc10d0bd",
   "metadata": {},
   "source": [
    "\n",
    "# Set Methods\n",
    "\n",
    "set.add(el) # adds an element to the set\n",
    "\n",
    "set.remove(el) # removes the specified element from the set\n",
    "\n",
    "set.clear() # removes all the elements from the set\n",
    "\n",
    "set.pop() # removes the last element from the set\n",
    "\n",
    "set.union(set2) # returns a set containing all the elements from both sets\n",
    "\n",
    "set.intersection(set2) # returns a set containing the common elements from both sets"
   ]
  },
  {
   "cell_type": "markdown",
   "id": "e1b05824",
   "metadata": {},
   "source": [
    "Let's Practice\n",
    "1. Store following word meanings in a python dictionary:\n",
    "    table:  \"a piece of furniture \", \" list of facts & figures\"\n",
    "    cat : \"a small animal\"\n",
    "\n",
    "you are given a list of subjects for students.Assume one classroom is required for 1 subject. How may classrooms are needed by all students.\n",
    "\"python\", \"java\",\"c++\", \"python\", \"java\", \"python\", \"java\", \"c++\", \"python\", \"java\", \"python\", \"java\", \"c++\""
   ]
  },
  {
   "cell_type": "code",
   "execution_count": 3,
   "id": "61010b37",
   "metadata": {},
   "outputs": [
    {
     "name": "stdout",
     "output_type": "stream",
     "text": [
      "{'python', 'c++', 'java'}\n",
      "<class 'set'>\n"
     ]
    }
   ],
   "source": [
    "subjects = {\"python\", \"java\",\"c++\", \"python\", \"java\", \"python\", \"java\", \"c++\", \"python\", \"java\", \"python\", \"java\", \"c++\"}\n",
    "print(subjects)\n",
    "print(type(subjects))"
   ]
  },
  {
   "cell_type": "markdown",
   "id": "bed7e95c",
   "metadata": {},
   "source": [
    "2. WAP to enter marks of 3 subjects from the user and store them in a dictionary. Start with an empty dictionary & add one by one. USe subject name as key and key & marks as value.\n",
    "\n",
    "\n",
    "figure out a way to store 9&9.0 as separate values in the set. \n",
    "(you can take help of built in data types)\n",
    "\n"
   ]
  },
  {
   "cell_type": "code",
   "execution_count": null,
   "id": "d8933b6b",
   "metadata": {},
   "outputs": [],
   "source": [
    "# marks = {}\n",
    "# x = int(input(\"Enter the phy marks: \"))\n",
    "# marks.update({\"phy\": x})\n",
    "# x = int(input(\"Enter the chem marks: \"))\n",
    "# marks.update({\"chem\": x})\n",
    "# x = int(input(\"Enter the math marks: \"))\n",
    "# marks.update({\"math\": x})\n",
    "\n",
    "# print(marks)\n",
    "\n"
   ]
  },
  {
   "cell_type": "code",
   "execution_count": 6,
   "id": "a0807cd9",
   "metadata": {},
   "outputs": [
    {
     "name": "stdout",
     "output_type": "stream",
     "text": [
      "{('float', 9.0), ('str', 'saif'), ('bool', True), ('int', 9)}\n"
     ]
    }
   ],
   "source": [
    "values = {\n",
    "    ('float', 9.0),\n",
    "    ('int', 9),\n",
    "    ('str', 'saif'),\n",
    "    ('bool', True),\n",
    "    \n",
    "}\n",
    "\n",
    "print(values)"
   ]
  }
 ],
 "metadata": {
  "kernelspec": {
   "display_name": "Python 3",
   "language": "python",
   "name": "python3"
  },
  "language_info": {
   "codemirror_mode": {
    "name": "ipython",
    "version": 3
   },
   "file_extension": ".py",
   "mimetype": "text/x-python",
   "name": "python",
   "nbconvert_exporter": "python",
   "pygments_lexer": "ipython3",
   "version": "3.13.0"
  }
 },
 "nbformat": 4,
 "nbformat_minor": 5
}
