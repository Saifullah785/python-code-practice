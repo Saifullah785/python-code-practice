{
 "cells": [
  {
   "cell_type": "markdown",
   "id": "a401f379",
   "metadata": {},
   "source": [
    " \n",
    "# what is python?\n",
    "Python is a high-level, interpreted programming language known for its simplicity and readability. It was created by Guido van Rossum and first released in 1991. Python supports multiple programming paradigms, including procedural, object-oriented, and functional programming. It is widely used for web development, data analysis, artificial intelligence, scientific computing, and more.\n",
    "\n",
    "1. python is simple & easy to learn.\n",
    "2. free & open source.\n",
    "3. high level programming language.\n",
    "4. developed by Guido van Rossum in 1991.\n",
    "5. python is interpreted language, portable and object oriented programming language."
   ]
  },
  {
   "cell_type": "code",
   "execution_count": 61,
   "id": "a663cf73",
   "metadata": {},
   "outputs": [
    {
     "name": "stdout",
     "output_type": "stream",
     "text": [
      "Hello World!\n"
     ]
    }
   ],
   "source": [
    "# our first program in python\n",
    "print(\"Hello World!\")"
   ]
  },
  {
   "cell_type": "markdown",
   "id": "271448af",
   "metadata": {},
   "source": [
    "# python characters set\n",
    "1. letters (a-z, A-Z)\n",
    "2. digits (0-9)\n",
    "3. special characters ( ! @ # $ % ^ & * ( ) - _ + = { } [ ] | \\ : ; \" ' < > , . ? / ` ~ )\n",
    "4. whitespace blank space, tab, carriage return, newline, formfeed\n",
    "5. other characters - python can process all ASCII characters and unicode characters as part of data or literals\n"
   ]
  },
  {
   "cell_type": "code",
   "execution_count": 62,
   "id": "426fdcec",
   "metadata": {},
   "outputs": [
    {
     "name": "stdout",
     "output_type": "stream",
     "text": [
      "saif is my name\n",
      "my age is 25\n",
      "my height is 5.9 feet\n"
     ]
    }
   ],
   "source": [
    "print ('saif is my name')\n",
    "print('my age is 25')\n",
    "print('my height is 5.9 feet')"
   ]
  },
  {
   "cell_type": "markdown",
   "id": "a24b5187",
   "metadata": {},
   "source": [
    "# variables in python\n",
    "1. variable is a name given to a memory location.\n",
    "2. variable is used to store data."
   ]
  },
  {
   "cell_type": "code",
   "execution_count": 63,
   "id": "9797e20e",
   "metadata": {},
   "outputs": [
    {
     "name": "stdout",
     "output_type": "stream",
     "text": [
      "my name is : saif\n",
      "my age is : 25\n",
      "my height is : 6.5\n"
     ]
    }
   ],
   "source": [
    "name = \"saif\"\n",
    "age = 25\n",
    "height = 6.5\n",
    "print(\"my name is :\", name)\n",
    "print (\"my age is :\", age)\n",
    "print (\"my height is :\", height)"
   ]
  },
  {
   "cell_type": "markdown",
   "id": "38c743ed",
   "metadata": {},
   "source": [
    "# Rules for Identifiers\n",
    "1. variable name should start with letter or underscore.\n",
    "2. variable name should not start with digit.\n",
    "3. variable name should not contain special characters except underscore.\n",
    "4. variable name should not be a keyword.\n",
    "5. variable name should not contain spaces."
   ]
  },
  {
   "cell_type": "code",
   "execution_count": 64,
   "id": "62acdb01",
   "metadata": {},
   "outputs": [
    {
     "name": "stdout",
     "output_type": "stream",
     "text": [
      "<class 'str'>\n",
      "<class 'int'>\n",
      "<class 'float'>\n"
     ]
    }
   ],
   "source": [
    "name = \"saif\"\n",
    "age = 25\n",
    "height = 6.5\n",
    "print(type(name))\n",
    "print(type(age))\n",
    "print(type(height))"
   ]
  },
  {
   "cell_type": "markdown",
   "id": "3375539b",
   "metadata": {},
   "source": [
    "Data Types\n",
    "1.integers\n",
    "2.float\n",
    "3.string    \n",
    "4.boolean\n",
    "5.None"
   ]
  },
  {
   "cell_type": "code",
   "execution_count": 65,
   "id": "ebb19843",
   "metadata": {},
   "outputs": [
    {
     "name": "stdout",
     "output_type": "stream",
     "text": [
      "su\n",
      "su\n",
      "su\n"
     ]
    }
   ],
   "source": [
    "name1 = \"su\"\n",
    "name2 = \"su\"\n",
    "name3 = '''su'''\n",
    "print(name1)\n",
    "print(name2)   \n",
    "print(name3)"
   ]
  },
  {
   "cell_type": "code",
   "execution_count": 66,
   "id": "3490a386",
   "metadata": {},
   "outputs": [
    {
     "name": "stdout",
     "output_type": "stream",
     "text": [
      "<class 'int'>\n",
      "<class 'bool'>\n",
      "<class 'NoneType'>\n"
     ]
    }
   ],
   "source": [
    "age = 25\n",
    "old = False\n",
    "a = None\n",
    "print(type(age))\n",
    "print(type(old))\n",
    "print(type(a))\n"
   ]
  },
  {
   "cell_type": "markdown",
   "id": "1da41384",
   "metadata": {},
   "source": [
    "# keywords\n",
    "1.keywords are reserved words in python programming language.\n",
    "2.keywords are used to perform specific operations.\n",
    "3.keywords are predefined words in python programming language.\n",
    "4.keywords are case sensitive.\n",
    "for emample: and, as, assert, break, class, continue, def, del, elif, else, except, False, finally, for, from, global, if, import, in, is, lambda, None, nonlocal, not, or, pass, raise, return, True, try, while with yield."
   ]
  },
  {
   "cell_type": "code",
   "execution_count": 67,
   "id": "967cfbf3",
   "metadata": {},
   "outputs": [
    {
     "name": "stdout",
     "output_type": "stream",
     "text": [
      "diff of a and b is : -10\n"
     ]
    }
   ],
   "source": [
    "a = 10\n",
    "b = 20\n",
    "# sum = a + b\n",
    "diff = a - b\n",
    "print(\"diff of a and b is :\", diff)"
   ]
  },
  {
   "cell_type": "markdown",
   "id": "c2ea18f8",
   "metadata": {},
   "source": [
    "# Types of Tokens\n",
    "# Punctuators\n",
    "1.punctuators are symbols to organize sentence structure in programming language.\n",
    "for example: +, -, *, /, %, =, ==, !=, <, >, <=, >=, (, ), {, }, [, ], ;, :, ., ,, @, #, $, &, |, ^, ~, `.\n",
    "\n",
    "typed language\n",
    "2.python is implicitly typed language.\n",
    "c++, java, c# are explicitly typed language.\n",
    "in python, we don't need to declare the data type of variable explicitly."
   ]
  },
  {
   "cell_type": "markdown",
   "id": "7b035e1d",
   "metadata": {},
   "source": [
    "# Expressions Execution\n",
    "1.string & numeric values can operate together with *\n",
    "2.string & string can operate together with + we call concatenation.\n",
    "3.Numeric values can operate with all arithmetic operators.\n",
    "4.Arithmetic operators with integer and float will result in float.\n",
    "5.Result of division operator with two integers will result in float.\n",
    "6.Integer division with float and int will give int displayed as float.\n",
    "7.floor gives closet integer, which is lesser than or equal to the float value.\n",
    "Result of (A // B) is same as floor(A / B).\n",
    "8.Remainder is negative when denominator is negative.\n"
   ]
  },
  {
   "cell_type": "markdown",
   "id": "0e7b3500",
   "metadata": {},
   "source": [
    "# comments in python\n",
    "1. comments are used to explain the code.\n",
    "2. comments are ignored by the interpreter.\n",
    "3. comments are used to make the code more readable.\n",
    "4. comments are used to make the code more understandable.\n",
    "\n",
    "single line comment\n",
    "\n",
    "\"\"\" This is a multi line comment.\"\"\""
   ]
  },
  {
   "cell_type": "code",
   "execution_count": 68,
   "id": "9f9c6434",
   "metadata": {},
   "outputs": [
    {
     "name": "stdout",
     "output_type": "stream",
     "text": [
      "hello\n"
     ]
    }
   ],
   "source": [
    "# print (\"hello\") won't be printed \n",
    "\n",
    "print (\"hello\") #will be printed"
   ]
  },
  {
   "cell_type": "markdown",
   "id": "62e6957a",
   "metadata": {},
   "source": [
    "Input in python \n",
    "input() function is used to accept values (using keyboard) from user."
   ]
  },
  {
   "cell_type": "code",
   "execution_count": 69,
   "id": "26dc3412",
   "metadata": {},
   "outputs": [],
   "source": [
    "# name = input(\"name: \")\n",
    "# age = int(input(\"enter the age: \"))\n",
    "# price= float(input(\"enter the price: \"))\n",
    "\n",
    "# print(\"hello \",name)\n",
    "# print(\"your age is \",age)\n",
    "# print(\"your price is \",price)"
   ]
  },
  {
   "cell_type": "markdown",
   "id": "2e1c000f",
   "metadata": {},
   "source": [
    "# Practice Time\n",
    "State True of False\n",
    "1. /* is a symbol used in python for single line comment \n",
    "Flase\n",
    "2. 2ndName is an invalid identifier in python\n",
    "True\n",
    "3.** is a valid arithmetic operator in python \n",
    "True\n",
    "4. in is a logical operator in python \n",
    "False\n",
    "5. Variable declaration is implicit in python\n",
    "True\n",
    "6. consider the given expression :   not True and False or True\n",
    "which of the following will be correct output if the given expression is evaluated ?\n",
    "Answer: True\n",
    "\n"
   ]
  },
  {
   "cell_type": "markdown",
   "id": "e1d5d235",
   "metadata": {},
   "source": [
    "# Conditional Statements\n",
    "\n",
    "if elif else (syntax)\n",
    "if condition1:\n",
    "    # block of code to be executed if condition1 is true\n",
    "elif condition2:\n",
    "    # block of code to be executed if condition2 is true\n",
    "else:\n",
    "    # block of code to be executed if both condition1 and condition2 are false\n"
   ]
  },
  {
   "cell_type": "code",
   "execution_count": 70,
   "id": "749b7a99",
   "metadata": {},
   "outputs": [
    {
     "name": "stdout",
     "output_type": "stream",
     "text": [
      "You are a senior citizen.\n"
     ]
    }
   ],
   "source": [
    "# Example\n",
    "age = 76\n",
    "if age < 18:\n",
    "    print(\"You are a minor.\")\n",
    "elif age >= 18 and age < 60:\n",
    "    print(\"You are an adult.\")\n",
    "else:\n",
    "    print(\"You are a senior citizen.\")"
   ]
  },
  {
   "cell_type": "code",
   "execution_count": 71,
   "id": "39ff6ca0",
   "metadata": {},
   "outputs": [
    {
     "name": "stdout",
     "output_type": "stream",
     "text": [
      "light is broken\n"
     ]
    }
   ],
   "source": [
    "# conditional statements\n",
    "# Traffic Light Code\n",
    "# Example\n",
    "light = \"blue\"\n",
    "if light == \"red\":\n",
    "    print('stop')\n",
    "elif (light == \"yellow\"):\n",
    "    print ('get ready')\n",
    "elif (light == \"green\"):\n",
    "    print ('go')\n",
    "else: \n",
    "    print ('light is broken')\n"
   ]
  },
  {
   "cell_type": "code",
   "execution_count": 72,
   "id": "5c5eeebe",
   "metadata": {},
   "outputs": [],
   "source": [
    "# Practice Time\n",
    "# print output for :\n",
    "# A = 10 & G = M\n",
    "\n",
    "# A = 2 & G = F\n",
    "\n",
    "# A = int (input(\"A : \"))\n",
    "# G = input (\"M/F : \")\n",
    "# if ((A == 1 or A ==2) and G == \"M\"):\n",
    "#     print (\"fee is 100\")\n",
    "# elif ((A == 3 or A ==4) and G == \"F\"):\n",
    "#     print (\"fee is 200\")\n",
    "# elif (A == 5 and G == \"M\"):\n",
    "#     print (\"fee is 300\")\n",
    "\n",
    "# else:\n",
    "#     print('no fee')"
   ]
  },
  {
   "cell_type": "markdown",
   "id": "19bfd837",
   "metadata": {},
   "source": [
    "# nesting\n"
   ]
  },
  {
   "cell_type": "code",
   "execution_count": null,
   "id": "c351e8d7",
   "metadata": {},
   "outputs": [],
   "source": [
    "age = 25\n",
    "if age >= 18:\n",
    "    if (age >= 80):\n",
    "        print('cannot drive')\n",
    "    print(\"You can drive.\")\n",
    "else:\n",
    "    print(' drive')    \n"
   ]
  },
  {
   "cell_type": "markdown",
   "id": "cd64ea40",
   "metadata": {},
   "source": [
    "single line if statement/ ternary operator\n"
   ]
  },
  {
   "cell_type": "code",
   "execution_count": 73,
   "id": "7ca9f067",
   "metadata": {},
   "outputs": [],
   "source": [
    "# food = input('food: ')\n",
    "# eat = 'Yes' if food == \"cake\" else 'No'\n",
    "# print(eat)"
   ]
  },
  {
   "cell_type": "markdown",
   "id": "76d1aa7e",
   "metadata": {},
   "source": [
    "clever if / Ternary operator\n"
   ]
  },
  {
   "cell_type": "code",
   "execution_count": 74,
   "id": "ea6fdbc2",
   "metadata": {},
   "outputs": [],
   "source": [
    "# age = int (input(\"Enter your age: \"))\n",
    "# vote = (\"No\", \"yes\") [age >= 18]\n",
    "# print(vote)\n"
   ]
  },
  {
   "cell_type": "markdown",
   "id": "61a46d9a",
   "metadata": {},
   "source": [
    "# Best Practices\n",
    "1. simple instruction.\n",
    "2. One instruction per task.\n",
    "3. short & Use meaningful variable names.\n",
    "4. use appropriate comments.\n",
    "5. Avoid complex expressions. "
   ]
  },
  {
   "cell_type": "markdown",
   "id": "f6d5d794",
   "metadata": {},
   "source": [
    "# Types of Operators\n",
    "An operator is a symbol that performs a certain operation between operands.\n",
    "1. Arithmetic Operators(+ - * / % ** //)\n",
    "2. Assignment Operators(= += -= *= /= %= **= //=)\n",
    "3. comparison Operators/Relational Operators (== != > < >= <=)\n",
    "4. Logical Operators (and, or, not)\n"
   ]
  },
  {
   "cell_type": "code",
   "execution_count": 75,
   "id": "2db9589c",
   "metadata": {},
   "outputs": [
    {
     "name": "stdout",
     "output_type": "stream",
     "text": [
      "a + b =  30\n",
      "a - b =  -10\n",
      "a * b =  200\n",
      "a / b =  0.5\n",
      "a % b =  10\n",
      "a ** b =  100000000000000000000\n"
     ]
    }
   ],
   "source": [
    "# arithmetic operators\n",
    "a = 10\n",
    "b = 20\n",
    "print (\"a + b = \", a + b)\n",
    "print (\"a - b = \", a - b)\n",
    "print (\"a * b = \", a * b)\n",
    "print (\"a / b = \", a / b)\n",
    "print (\"a % b = \", a % b)\n",
    "print (\"a ** b = \", a ** b)"
   ]
  },
  {
   "cell_type": "code",
   "execution_count": 76,
   "id": "f770cfe9",
   "metadata": {},
   "outputs": [
    {
     "name": "stdout",
     "output_type": "stream",
     "text": [
      "a == b =  False\n",
      "a != b =  True\n",
      "a > b =  True\n",
      "a < b =  False\n",
      "a >= b =  True\n",
      "a <= b =  False\n"
     ]
    }
   ],
   "source": [
    "# relational operators\n",
    "a = 50\n",
    "b = 20\n",
    "\n",
    "print (\"a == b = \", a == b)\n",
    "print (\"a != b = \", a != b)\n",
    "print (\"a > b = \", a > b)\n",
    "print (\"a < b = \", a < b)   \n",
    "print (\"a >= b = \", a >= b)\n",
    "print (\"a <= b = \", a <= b)"
   ]
  },
  {
   "cell_type": "code",
   "execution_count": 77,
   "id": "6dc7d3e8",
   "metadata": {},
   "outputs": [
    {
     "name": "stdout",
     "output_type": "stream",
     "text": [
      "20\n",
      "30\n",
      "20\n",
      "200\n"
     ]
    }
   ],
   "source": [
    "# assignment operators\n",
    "a = 10  \n",
    "\n",
    "num = a +10\n",
    "print(num)\n",
    "num += 10\n",
    "print(num)\n",
    "num -= 10\n",
    "print(num)\n",
    "num *= 10\n",
    "print(num)\n"
   ]
  },
  {
   "cell_type": "code",
   "execution_count": 78,
   "id": "4cd3402e",
   "metadata": {},
   "outputs": [
    {
     "name": "stdout",
     "output_type": "stream",
     "text": [
      "True\n",
      "False\n",
      "False\n",
      "True\n"
     ]
    }
   ],
   "source": [
    "# Logical operators\n",
    "a = 50\n",
    "b = 30\n",
    "print(not False)\n",
    "print(not True)\n",
    "print(a > b and a < b)\n",
    "print(a > b or a < b)\n"
   ]
  },
  {
   "cell_type": "markdown",
   "id": "f414921f",
   "metadata": {},
   "source": [
    "# Type Conversion\n",
    "1. Type conversion is the process of converting one data type to another.\n",
    "2. Type conversion is also known as type casting.\n"
   ]
  },
  {
   "cell_type": "code",
   "execution_count": 79,
   "id": "75e63500",
   "metadata": {},
   "outputs": [
    {
     "name": "stdout",
     "output_type": "stream",
     "text": [
      "<class 'int'>\n",
      "6.25\n"
     ]
    }
   ],
   "source": [
    "a = int(\"2\")\n",
    "b = 4.25\n",
    "sum = a + b\n",
    "print(type(a))\n",
    "print(sum)"
   ]
  },
  {
   "cell_type": "markdown",
   "id": "fcab6f6f",
   "metadata": {},
   "source": [
    "Input in Python \n",
    "input() function is used to accept values (using keyboard) from user.\n",
    "input() function returns a string value.\n",
    "input() #result for input() is always string.\n",
    "int(input()) #int\n",
    "float(input()) #float"
   ]
  },
  {
   "cell_type": "code",
   "execution_count": 80,
   "id": "a78161b0",
   "metadata": {},
   "outputs": [],
   "source": [
    "# name = input(\"name: \")\n",
    "# age = int(input(\"enter the age: \"))\n",
    "# price= float(input(\"enter the price: \"))\n"
   ]
  },
  {
   "cell_type": "code",
   "execution_count": 81,
   "id": "70d8f08d",
   "metadata": {},
   "outputs": [],
   "source": [
    "# name = input('Enter your name: ')\n",
    "# age = int(input('Enter your age:'))\n",
    "# marks = float(input('Enter your marks:'))\n",
    "\n",
    "# print('welcome:', name)\n",
    "# print('Age:', age)\n",
    "# print('Marks:', marks)"
   ]
  },
  {
   "cell_type": "markdown",
   "id": "43840c73",
   "metadata": {},
   "source": [
    "lets practice\n",
    "\n",
    "1.write a Program to input 2 numbers & print their sum.\n"
   ]
  },
  {
   "cell_type": "code",
   "execution_count": 82,
   "id": "7260797e",
   "metadata": {},
   "outputs": [],
   "source": [
    "# first = int(input(\"Enter first number: \"))\n",
    "# second = int(input(\"Enter second number: \"))\n",
    "# sum = first + second\n",
    "# print(\"Sum of two numbers is: \", sum)"
   ]
  },
  {
   "cell_type": "markdown",
   "id": "9deda2b2",
   "metadata": {},
   "source": [
    "2.WAP to input side of a square & print its area."
   ]
  },
  {
   "cell_type": "code",
   "execution_count": 83,
   "id": "0121333d",
   "metadata": {},
   "outputs": [],
   "source": [
    "# side = float(input(\"Enter the side of square: \"))\n",
    "# print(\"Area of square is: \", side * side)"
   ]
  },
  {
   "cell_type": "markdown",
   "id": "0b04141d",
   "metadata": {},
   "source": [
    "3.WAP to input 2 floating point numbers & print their average"
   ]
  },
  {
   "cell_type": "code",
   "execution_count": 84,
   "id": "036f40a0",
   "metadata": {},
   "outputs": [],
   "source": [
    "# a = float(input('enter first number: '))\n",
    "# b = float(input('enter second number: '))\n",
    "# print(\"avg =\", (a + b) / 2)"
   ]
  },
  {
   "cell_type": "markdown",
   "id": "1b04fd86",
   "metadata": {},
   "source": [
    "WAP to input 2 int numbers, a and b\n",
    "print True if a is greater than or  equal to b, if not print false.\n"
   ]
  },
  {
   "cell_type": "code",
   "execution_count": 85,
   "id": "e89bd4ef",
   "metadata": {},
   "outputs": [],
   "source": [
    "# a = int(input('enter the first number: '))\n",
    "# b = int(input('enter the second number:'))\n",
    " \n",
    "# print(a >=b)"
   ]
  }
 ],
 "metadata": {
  "kernelspec": {
   "display_name": "Python 3",
   "language": "python",
   "name": "python3"
  },
  "language_info": {
   "codemirror_mode": {
    "name": "ipython",
    "version": 3
   },
   "file_extension": ".py",
   "mimetype": "text/x-python",
   "name": "python",
   "nbconvert_exporter": "python",
   "pygments_lexer": "ipython3",
   "version": "3.13.0"
  }
 },
 "nbformat": 4,
 "nbformat_minor": 5
}
