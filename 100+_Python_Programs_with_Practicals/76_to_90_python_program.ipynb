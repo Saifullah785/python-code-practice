{
 "cells": [
  {
   "cell_type": "markdown",
   "id": "79807a1f",
   "metadata": {},
   "source": [
    "# 76. Python Program to Get Line Count of a File"
   ]
  },
  {
   "cell_type": "markdown",
   "id": "88e896e2",
   "metadata": {},
   "source": [
    "## Solution : (Using Len() Function)\n"
   ]
  },
  {
   "cell_type": "code",
   "execution_count": 55,
   "id": "8891a7e8",
   "metadata": {},
   "outputs": [
    {
     "name": "stdout",
     "output_type": "stream",
     "text": [
      "16\n",
      "===========================\n",
      "13\n"
     ]
    }
   ],
   "source": [
    "f = open(\"file.txt\",\"r\")\n",
    "print(len(f.readline()))\n",
    "f.close()\n",
    "\n",
    "print(\"===========================\")\n",
    "## Solution 2:(Using LIst Comprehension)\n",
    "lines = sum(1 for i in open(\"file.txt\"))\n",
    "print (lines)\n"
   ]
  },
  {
   "cell_type": "markdown",
   "id": "592d89f3",
   "metadata": {},
   "source": [
    "# 77. Python Program to Find All file with .txt Extension Present Inside a Directory"
   ]
  },
  {
   "cell_type": "code",
   "execution_count": 56,
   "id": "2cfae288",
   "metadata": {},
   "outputs": [
    {
     "name": "stdout",
     "output_type": "stream",
     "text": [
      "16_to_30_python_program.py\n",
      "1_to_15_python_program.py\n",
      "31_to_45_python_program.py\n",
      "46_to_60_python_program.py\n",
      "61_to_75_python_program.py\n",
      "=========================================\n",
      "demo.txt\n",
      "file.txt\n",
      "=========================================\n",
      "16_to_30_python_program.ipynb\n",
      "1_to_15_python_program.ipynb\n",
      "31_to_45_python_program.ipynb\n",
      "46_to_60_python_program.ipynb\n",
      "61_to_75_python_program.ipynb\n",
      "76_to_90_python_program.ipynb\n"
     ]
    }
   ],
   "source": [
    "## Solution 1 Using Glob Module and os Module\n",
    "import glob,os\n",
    "os.chdir(\"E:/python practice notes/python code practice/100+ Python Programs with Practicals for Beginners\")\n",
    "\n",
    "for files in glob.glob(\"*.py\"):\n",
    "    print (files)\n",
    "print('=========================================')\n",
    "## Solution 2 Using OS Module\n",
    "import os\n",
    "for files in os.listdir(\"E:/python practice notes/python code practice/100+ Python Programs with Practicals for Beginners\"):\n",
    "    if files.endswith('.txt'):\n",
    "        print(files)\n",
    "\n",
    "print('=========================================')\n",
    "## Solution 3 Using OS.walk()\n",
    "\n",
    "import os\n",
    "for root,dir,files in os.walk(\"E:/python practice notes/python code practice/100+ Python Programs with Practicals for Beginners\"):\n",
    "    for file in files:\n",
    "        if file.endswith(\".ipynb\"):\n",
    "            print(file)\n",
    "\n"
   ]
  },
  {
   "cell_type": "markdown",
   "id": "13bea80b",
   "metadata": {},
   "source": [
    "# 78.Python Program to Get the Full Path of the Current Working Directory"
   ]
  },
  {
   "cell_type": "code",
   "execution_count": 57,
   "id": "973ef641",
   "metadata": {},
   "outputs": [
    {
     "name": "stdout",
     "output_type": "stream",
     "text": [
      "E:\\python practice notes\\python code practice\\100+ Python Programs with Practicals for Beginners\n",
      "=============================\n",
      "E:\\python practice notes\n",
      "=============================\n",
      "E:\\python practice notes\\python code practice\\100+ Python Programs with Practicals for Beginners\n",
      "E:\\python practice notes\\python code practice\\100+ Python Programs with Practicals for Beginners\n"
     ]
    }
   ],
   "source": [
    "## Solution : Get the Full Path of the Current Working DIrectory\n",
    "## 1 Using os Module\n",
    "\n",
    "import os\n",
    "\n",
    "print (os.path.abspath(os.getcwd()))\n",
    "\n",
    "print('=============================')\n",
    "\n",
    "print (os.path.dirname(os.path.abspath(\"E:/python practice notes/python code practice\")))\n",
    "\n",
    "print('=============================')\n",
    "\n",
    "## Solution 2 Using Pathlib Module\n",
    "import pathlib\n",
    "\n",
    "print (pathlib.Path().absolute())\n",
    "print (pathlib.Path(\"\").parent.absolute())\n",
    "\n"
   ]
  },
  {
   "cell_type": "markdown",
   "id": "6ab981c2",
   "metadata": {},
   "source": [
    "# 79. Python Program to Iterate Through Two LIst in Parallel"
   ]
  },
  {
   "cell_type": "code",
   "execution_count": 58,
   "id": "16259ad8",
   "metadata": {},
   "outputs": [
    {
     "name": "stdout",
     "output_type": "stream",
     "text": [
      "Rachel Ross\n",
      "Monica chandler\n",
      "Phoebe Joe\n"
     ]
    }
   ],
   "source": [
    "## Solution :1 (Using List, FOr Loop& Zip()Function)\n",
    "\n",
    "l1 = [\"Rachel\",\"Monica\",\"Phoebe\"]\n",
    "l2 = [\"Ross\",\"chandler\",\"Joe\"]\n",
    "\n",
    "for x,y in zip(l1,l2):\n",
    "    print (x,y)\n"
   ]
  },
  {
   "cell_type": "markdown",
   "id": "5940e0b8",
   "metadata": {},
   "source": [
    "# 80. Python Program to Check the File Size"
   ]
  },
  {
   "cell_type": "code",
   "execution_count": 59,
   "id": "1aa889ca",
   "metadata": {},
   "outputs": [
    {
     "name": "stdout",
     "output_type": "stream",
     "text": [
      "423\n",
      "=============================\n",
      "0\n"
     ]
    }
   ],
   "source": [
    "## Solutin 1(Using OS Module)\n",
    "import os\n",
    "file_size = os.stat(\"E:/python practice notes/python code practice/100+ Python Programs with Practicals for Beginners/file.txt\")\n",
    "\n",
    "print(file_size.st_size)\n",
    "\n",
    "print('=============================')\n",
    "\n",
    "## Solution 2 (Using Pathlib Module)\n",
    "from pathlib import Path\n",
    "file_size = Path('E:/python practice notes/python code practice/100+ Python Programs with Practicals for Beginners/demo.txt')\n",
    "print(file_size.stat().st_size)\n"
   ]
  },
  {
   "cell_type": "markdown",
   "id": "ecafbe18",
   "metadata": {},
   "source": [
    "# 81. Pyton Program to Reverse a Number"
   ]
  },
  {
   "cell_type": "code",
   "execution_count": 60,
   "id": "d03b78ad",
   "metadata": {},
   "outputs": [
    {
     "name": "stdout",
     "output_type": "stream",
     "text": [
      "The reverse of the given number is  987654321\n",
      "=============================\n",
      "The reverse of the given number is  123456789\n"
     ]
    }
   ],
   "source": [
    "## Solution 1 : (Using while Loop)\n",
    "\n",
    "# num = int(input(\"enter a number here: \"))\n",
    "\n",
    "# reverse_num =0\n",
    "# while num !=0:\n",
    "#     digit = num%10\n",
    "#     reverse_num = reverse_num*10 + digit\n",
    "#     num = num//10\n",
    "# print (reverse_num)\n",
    "\n",
    "num = 123456789\n",
    "\n",
    "reverse_num =0\n",
    "while num !=0:\n",
    "    digit = num%10\n",
    "    reverse_num = reverse_num*10 + digit\n",
    "    num = num//10\n",
    "print (\"The reverse of the given number is \", reverse_num)\n",
    "\n",
    "print('=============================')\n",
    "\n",
    "# Solution 2: Using String Slicing\n",
    "\n",
    "\n",
    "# num = int(input('enter a number here: '))\n",
    "# print (str(num)[::-1])\n",
    "\n",
    "num = 987654321\n",
    "print (\"The reverse of the given number is \",str(num)[::-1])\n",
    "\n"
   ]
  },
  {
   "cell_type": "markdown",
   "id": "077980b8",
   "metadata": {},
   "source": [
    "# 82. Python Program to Compute the POwer of a Number"
   ]
  },
  {
   "cell_type": "code",
   "execution_count": 61,
   "id": "854fa6cb",
   "metadata": {},
   "outputs": [
    {
     "name": "stdout",
     "output_type": "stream",
     "text": [
      "the computed value is:  27\n",
      "=============================\n",
      "the computed value is:  3\n",
      "the computed value is:  9\n",
      "=============================\n",
      "the computed value is  81\n",
      "=============================\n",
      "THe computed value is  32\n"
     ]
    }
   ],
   "source": [
    "# Solution 1 (Using While Loop)\n",
    "# base = int(input('Enter the base number: '))\n",
    "# exponent = int(input(\"enter the exponent: \"))\n",
    "\n",
    "# result = 1\n",
    "# while exponent != 0:\n",
    "\n",
    "#     result = result*base\n",
    "#     exponent = exponent-1\n",
    "# print (\"the computed value is: \",result)\n",
    "\n",
    "base = 3\n",
    "exponent = 3\n",
    "\n",
    "result = 1\n",
    "while exponent != 0:\n",
    "\n",
    "    result = result*base\n",
    "    exponent = exponent-1\n",
    "print (\"the computed value is: \",result)\n",
    "\n",
    "print('=============================')\n",
    "\n",
    "# Solution 2 Solution 2 (Using For Loop)\n",
    "\n",
    "result = 1\n",
    "base = 3\n",
    "exponent = 2\n",
    "for i in range (exponent, 0, -1):\n",
    "    result = result*base\n",
    "\n",
    "    print (\"the computed value is: \",result) \n",
    "\n",
    "print('=============================')   \n",
    "\n",
    "#Solution 3 (Using Power() Function)\n",
    "\n",
    "base = 3\n",
    "exponent=4\n",
    "x = pow(base,exponent)\n",
    "print (\"the computed value is \",x)\n",
    "\n",
    "print('=============================')   \n",
    "\n",
    "# Solution 4 (Using Exponentiaition Operator)\n",
    "\n",
    "base= 2\n",
    "exponent =5\n",
    "value= base**exponent\n",
    "print('THe computed value is ',value)\n",
    "\n",
    "\n"
   ]
  },
  {
   "cell_type": "markdown",
   "id": "14f0d43b",
   "metadata": {},
   "source": [
    "# 83. Python Program to Count the Number of Digits Present In a Number"
   ]
  },
  {
   "cell_type": "code",
   "execution_count": 62,
   "id": "50bef7a8",
   "metadata": {},
   "outputs": [
    {
     "name": "stdout",
     "output_type": "stream",
     "text": [
      "5\n",
      "=============================\n",
      "9\n"
     ]
    }
   ],
   "source": [
    "##Solution- 1 ( Using While Loop)\n",
    "\n",
    "num =12345\n",
    "count =0\n",
    "while num !=0:\n",
    "    num = num//10\n",
    "    count = count+1\n",
    "\n",
    "print (count)\n",
    "\n",
    "print('=============================') \n",
    "\n",
    "## Solution 2 (Using Len() Function)\n",
    "\n",
    "num = 123456789\n",
    "x = len(str(num))\n",
    "print (x)\n",
    "\n"
   ]
  },
  {
   "cell_type": "markdown",
   "id": "3a68d805",
   "metadata": {},
   "source": [
    "# 84. Python Program to Check if Two Strings are Anagram"
   ]
  },
  {
   "cell_type": "code",
   "execution_count": 63,
   "id": "ef822d1d",
   "metadata": {},
   "outputs": [
    {
     "name": "stdout",
     "output_type": "stream",
     "text": [
      "The string is not an Anagram \n"
     ]
    }
   ],
   "source": [
    "## Solution 1 (Anagram)\n",
    "\n",
    "a1= \"elbow\"\n",
    "a2 = \"bolt\"\n",
    "\n",
    "if len(a1) ==len(a2):\n",
    "    a1_sorted = sorted(a1)\n",
    "    a2_sorted = sorted(a2)\n",
    "\n",
    "    if a1_sorted == a2_sorted:\n",
    "        print('The string is an Anagram')\n",
    "    else:\n",
    "        print ('THe string is not an Anagram')\n",
    "\n",
    "else:\n",
    "    print('The string is not an Anagram ')\n",
    "\n",
    "# print (sorted(a1))\n",
    "\n"
   ]
  },
  {
   "cell_type": "markdown",
   "id": "799a512f",
   "metadata": {},
   "source": [
    "# 85. Capitalize the First Character of a String"
   ]
  },
  {
   "cell_type": "code",
   "execution_count": 64,
   "id": "82a575f9",
   "metadata": {},
   "outputs": [
    {
     "name": "stdout",
     "output_type": "stream",
     "text": [
      "The secret\n",
      "==================================\n",
      "mission impossible\n",
      "Mission impossible\n"
     ]
    }
   ],
   "source": [
    "## Solution 1(Using .Upper() And Slicing Concepts)\n",
    "a = \"the secret\"\n",
    "\n",
    "print(a[0].upper()+a[1:])\n",
    "print('==================================')\n",
    "##Solution 2 (Using Capitalize() Method)\n",
    "\n",
    "a = \"mission impossible\"\n",
    "print(a)\n",
    "print(a.capitalize())"
   ]
  },
  {
   "cell_type": "markdown",
   "id": "38a18538",
   "metadata": {},
   "source": [
    "# 86. Python Program to Create a Countdown Timer\n"
   ]
  },
  {
   "cell_type": "code",
   "execution_count": 65,
   "id": "a0643bfd",
   "metadata": {},
   "outputs": [
    {
     "name": "stdout",
     "output_type": "stream",
     "text": [
      "00:10\n"
     ]
    },
    {
     "name": "stdout",
     "output_type": "stream",
     "text": [
      "00:09\n",
      "00:08\n",
      "00:07\n",
      "00:06\n",
      "00:05\n",
      "00:04\n",
      "00:03\n",
      "00:02\n",
      "00:01\n",
      "stop\n"
     ]
    }
   ],
   "source": [
    "## Solution (Countdown Timer)\n",
    "import time\n",
    "def countdown(sec):\n",
    "    while sec:\n",
    "        mins,secs = divmod(sec, 60)\n",
    "        time_format =\"{:02d}:{:02d}\".format(mins,secs)\n",
    "        print (time_format)\n",
    "        time.sleep(1)\n",
    "        sec -=1\n",
    "\n",
    "    print (\"stop\")\n",
    "countdown(10)"
   ]
  },
  {
   "cell_type": "markdown",
   "id": "ad12ef4f",
   "metadata": {},
   "source": [
    "# 87.Python Program to Count the Number of Occurence of a Character in String"
   ]
  },
  {
   "cell_type": "code",
   "execution_count": 66,
   "id": "81b9d9f8",
   "metadata": {},
   "outputs": [
    {
     "name": "stdout",
     "output_type": "stream",
     "text": [
      "2\n",
      "======================================\n",
      "2\n"
     ]
    }
   ],
   "source": [
    "## Solution 1 (Using For Loop)\n",
    "\n",
    "string = \"my name is ali \"\n",
    "char = \"a\"\n",
    "count = 0\n",
    "for i in string :\n",
    "    if i == char:\n",
    "        count = count+1\n",
    "\n",
    "print(count)\n",
    "print('======================================')\n",
    "## Solution 2 (Using Count Function)\n",
    "string = \"wscubetech\"\n",
    "\n",
    "char = \"e\"\n",
    "\n",
    "print (string.count(char))\n"
   ]
  },
  {
   "cell_type": "markdown",
   "id": "786f332c",
   "metadata": {},
   "source": [
    "# 88. Python Program to Remove Duplicate ELement From a list"
   ]
  },
  {
   "cell_type": "code",
   "execution_count": 67,
   "id": "aa0e97c6",
   "metadata": {},
   "outputs": [
    {
     "name": "stdout",
     "output_type": "stream",
     "text": [
      "[4, 5, 6, 7, 8, 12, 47]\n",
      "<class 'list'>\n",
      "========================\n",
      "[3, 4, 9, 12, 47]\n"
     ]
    }
   ],
   "source": [
    "## solution 1\n",
    "l = [12,47,8,8,4,5,6,7,5,6,7]\n",
    "x= list(set(l))\n",
    "print(x)\n",
    "print(type(x))\n",
    "\n",
    "print('========================')\n",
    "\n",
    "## solution 2 (using symetric diffirence)\n",
    "l = [12,47,8,8,4,5,6,7,5,6,7]\n",
    "x= [3,5,6,7,8,9]\n",
    "\n",
    "print(list(set(l)^set(x)))\n"
   ]
  },
  {
   "cell_type": "markdown",
   "id": "bdb430b0",
   "metadata": {},
   "source": [
    "# 89.Python Program to Convert Bytes to a String"
   ]
  },
  {
   "cell_type": "code",
   "execution_count": 68,
   "id": "03ce28e0",
   "metadata": {},
   "outputs": [
    {
     "name": "stdout",
     "output_type": "stream",
     "text": [
      "welcome to Pak 😂 ✊\n"
     ]
    }
   ],
   "source": [
    "## Solution : (Byter to a string)\n",
    "print (b\"welcome to Pak \\xF0\\x9F\\x98\\x82 \\xE2\\x9C\\x8A\".decode('utf-8'))"
   ]
  }
 ],
 "metadata": {
  "kernelspec": {
   "display_name": "Python 3",
   "language": "python",
   "name": "python3"
  },
  "language_info": {
   "codemirror_mode": {
    "name": "ipython",
    "version": 3
   },
   "file_extension": ".py",
   "mimetype": "text/x-python",
   "name": "python",
   "nbconvert_exporter": "python",
   "pygments_lexer": "ipython3",
   "version": "3.13.0"
  }
 },
 "nbformat": 4,
 "nbformat_minor": 5
}
