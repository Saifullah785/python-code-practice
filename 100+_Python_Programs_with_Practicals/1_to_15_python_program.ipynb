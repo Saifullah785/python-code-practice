{
 "cells": [
  {
   "cell_type": "code",
   "execution_count": null,
   "id": "51fe13ef",
   "metadata": {},
   "outputs": [
    {
     "name": "stdout",
     "output_type": "stream",
     "text": [
      "the sum of given two number is  70\n"
     ]
    }
   ],
   "source": [
    "# 1.Program to add two numbers in Python\n",
    "#. solution 1 (with pre-defined variable)\n",
    "\n",
    "num1 = 30 \n",
    "num2 = 40\n",
    "sum = num1+num2\n",
    "print (\"the sum of given two number is \", sum) \n",
    "\n"
   ]
  },
  {
   "cell_type": "code",
   "execution_count": null,
   "id": "d27f99bb",
   "metadata": {},
   "outputs": [],
   "source": [
    "# 1.Solution 2 (with user_inputs)"
   ]
  },
  {
   "cell_type": "code",
   "execution_count": null,
   "id": "81e0c00f",
   "metadata": {},
   "outputs": [],
   "source": [
    "# num1 = float(input(\"Enter a number her: \"))\n",
    "# num2 = float(input(\"Enter another number here: \"))\n",
    "\n",
    "# sum = num1 + num2\n",
    "\n",
    "# print (\"the sum of the provided two number is\", sum)\n",
    "\n",
    "\n",
    "#====================================================\n"
   ]
  },
  {
   "cell_type": "code",
   "execution_count": null,
   "id": "d348741e",
   "metadata": {},
   "outputs": [
    {
     "name": "stdout",
     "output_type": "stream",
     "text": [
      "hello world\n"
     ]
    }
   ],
   "source": [
    "#2. python Progeam to print hello world\n",
    "\n",
    "print(\"hello world\")\n",
    "\n",
    "#===================================================="
   ]
  },
  {
   "cell_type": "code",
   "execution_count": null,
   "id": "e877ecb0",
   "metadata": {},
   "outputs": [],
   "source": [
    "#3.Python program to find the square root\n",
    "\n",
    "#solution 1 (using exponentiation)\n",
    "\n",
    "# num =64\n",
    "# num1 = int(input('enter a number here:'))\n",
    "# sr = num**(1/2)\n",
    "# print('the square root of the given number:',sr)\n",
    "\n"
   ]
  },
  {
   "cell_type": "code",
   "execution_count": null,
   "id": "67aa93e1",
   "metadata": {},
   "outputs": [],
   "source": [
    "#solution 2 (using math module)\n",
    "# import math\n",
    "\n",
    "# num = int(input(\"enter a number here: \"))\n",
    "# sr = math.sqrt(num)\n",
    "# print (\"the root of the given number is : \",sr)\n",
    "\n",
    "\n",
    "#====================================================\n"
   ]
  },
  {
   "cell_type": "code",
   "execution_count": null,
   "id": "ceb96edc",
   "metadata": {},
   "outputs": [],
   "source": [
    "# 4.Python Program to calculate the Area of a triangle\n",
    "\n",
    "# 1. solution (0.5 * base * height)\n",
    "\n",
    "# height = float(input(\"enter the height of the triangle:\"))\n",
    "# base = float(input(\"enter the base of the triangle:\"))\n",
    "\n",
    "# area = (1/2)*base*height # or 0.5\n",
    "# print (\"the area of triangle is \",area)\n",
    "\n",
    "#===================================================="
   ]
  },
  {
   "cell_type": "code",
   "execution_count": null,
   "id": "44764272",
   "metadata": {},
   "outputs": [],
   "source": [
    "#5.Python Program to solve Quadratic Equation\n",
    "# Solution 1\n",
    "# Quadratic equation ===== ax**2 + bx + c = 0 \n",
    "# # a, b and c are real numbers a! = 0\n",
    "\n",
    "\n",
    "# import cmath\n",
    "\n",
    "# a = int(input(\"enter number (a!=0): \"))\n",
    "# b = int(input(\"enter number: \"))\n",
    "# c = int(input(\"enter number: \"))\n",
    "\n",
    "# # formula for discriminant\n",
    "\n",
    "# d = (b**2) - (4*a*c) \n",
    "# root1 = (-b-cmath.sqrt(d))/2*a\n",
    "# root2 = (-b+cmath.sqrt(d))/(2*a)\n",
    "\n",
    "# print ('the root are', root1, \"and\", root2)\n",
    "\n",
    "#============================================================="
   ]
  },
  {
   "cell_type": "code",
   "execution_count": null,
   "id": "75b583a4",
   "metadata": {},
   "outputs": [
    {
     "name": "stdout",
     "output_type": "stream",
     "text": [
      "the value of x is  13\n",
      "the value of y is  12\n"
     ]
    }
   ],
   "source": [
    "#6. Python Program to Swap two Variables\n",
    "# solution 1\n",
    "# Using 3rd Variable\n",
    "\n",
    "# x =13\n",
    "# y=12\n",
    "\n",
    "# temp =x\n",
    "# print ('the value of temp variable is ',temp)\n",
    "\n",
    "# x = y\n",
    "# print(\"the value of x is \",x)\n",
    "\n",
    "# y = temp\n",
    "# print (\"the value of y is\" ,y )\n",
    "\n",
    "# =========solution 1\n",
    "# Using without 3rd Variable\n",
    "\n",
    "x = 12 \n",
    "y = 13\n",
    "\n",
    "x,y = y,x\n",
    "\n",
    "print (\"the value of x is \",x)\n",
    "print ('the value of y is ',y)\n",
    "\n",
    "#============================================================="
   ]
  },
  {
   "cell_type": "code",
   "execution_count": null,
   "id": "e0bf4977",
   "metadata": {},
   "outputs": [
    {
     "name": "stdout",
     "output_type": "stream",
     "text": [
      "14\n"
     ]
    }
   ],
   "source": [
    "#7. Python Program to Generate a Random Number\n",
    "# using Random module of python\n",
    "\n",
    "import random\n",
    "num = random.randint(0,15)\n",
    "\n",
    "print(num)\n",
    "#============================================================="
   ]
  },
  {
   "cell_type": "code",
   "execution_count": null,
   "id": "f37efdc8",
   "metadata": {},
   "outputs": [],
   "source": [
    "#8. Python Program to Convert Kilometers to Miles\n",
    "# Solution - ===== Kilometers to miles ==== 1 kilometer = 0.621371 Mile\n",
    "\n",
    "# km = float(input(\"enter your value in kms: \"))\n",
    "\n",
    "# miles = (0.621371)*km\n",
    "\n",
    "# print (km, \"kms in miles will be \", miles, \"miles\")\n",
    "\n",
    "#=============================================================\n"
   ]
  },
  {
   "cell_type": "code",
   "execution_count": 10,
   "id": "2ce13eec",
   "metadata": {},
   "outputs": [],
   "source": [
    "#9. Python program to convert celsius To Fahrenheit\n",
    "# solution (Celsius To Fahrenheit) / 0 celsius = 32 Fahrenheit\n",
    "# (c*9/5)+32 = F\n",
    "\n",
    "# celsius = int(input(\"enter temperature in celsius: \"))\n",
    "\n",
    "# fahrenheit = (celsius * (9/5))+32\n",
    "\n",
    "# print (\"the converted value is\", fahrenheit, \"Fahrenheit\")\n",
    "\n",
    "#=============================================================\n"
   ]
  },
  {
   "cell_type": "code",
   "execution_count": null,
   "id": "85e272ea",
   "metadata": {},
   "outputs": [
    {
     "name": "stdout",
     "output_type": "stream",
     "text": [
      "it is a negative number\n"
     ]
    }
   ],
   "source": [
    "#10. Python Program to check if a number is positive, Negative or 0\n",
    "\n",
    "# solution (Using Conditional Statements)\n",
    "\n",
    "num =-12\n",
    "\n",
    "if num > 0 :\n",
    "    print (\"it is a positive number :\")\n",
    "elif num == 0:\n",
    "    print (\"it is  zero\")\n",
    "else:\n",
    "    print(\"it is a negative number\")\n",
    "\n",
    "\n",
    "#=============================================================\n"
   ]
  },
  {
   "cell_type": "code",
   "execution_count": null,
   "id": "ed8d91df",
   "metadata": {},
   "outputs": [],
   "source": [
    "#11. Python Program to Check if a Number is odd or Even\n",
    "\n",
    "#Solution 1 (Even Numbers) Even numbers = table of 2\n",
    "\n",
    "# num = int(input('enter a number here: '))\n",
    "\n",
    "# if num % 2 ==0:\n",
    "#     print ('It is an even number: ')\n",
    "# else:\n",
    "#     print ('It is an odd number: ')\n",
    "\n",
    "\n",
    "#============================================================="
   ]
  },
  {
   "cell_type": "code",
   "execution_count": null,
   "id": "9c7419dc",
   "metadata": {},
   "outputs": [],
   "source": [
    "#12. Python Program to check leap Year\n",
    "# (Solution Check Leap Year)\n",
    "# year =365 / leap year =366 / one time in four year\n",
    "\n",
    "\n",
    "# year = int(input('enter a year: '))\n",
    "# if (year % 400==0) and (year % 100 == 0):\n",
    "#     print (year, 'is a leap year')\n",
    "\n",
    "# elif (year % 4 == 0) and (year % 100 != 0):\n",
    "#     print(year, 'is a leap year')\n",
    "# else:\n",
    "#     print(year, 'is not a leap year' )\n",
    "\n",
    "\n",
    "#=============================================================\n"
   ]
  },
  {
   "cell_type": "code",
   "execution_count": null,
   "id": "83210b59",
   "metadata": {},
   "outputs": [
    {
     "name": "stdout",
     "output_type": "stream",
     "text": [
      "56 is the largest number\n"
     ]
    }
   ],
   "source": [
    "#13. Python Program to find the largest among three numbers\n",
    "# Solution  (Using Conditional Statements)\n",
    "\n",
    "# num1 =int(input(\"enter the 1st number here:  \"))\n",
    "\n",
    "# num2 =int(input(\"enter the second number here:  \"))\n",
    "# num3 = int(input(\"enter the third number here:  \"))\n",
    "\n",
    "# if (num1 > num2) and (num1 > num3):\n",
    "#     print (num1, \"is a largest number\")\n",
    "# elif (num2 > num1) and ( num2 > num3):\n",
    "#     print (num2, \"is the largest number\")\n",
    "# else:\n",
    "#     print (num3, \"is the largest number\")\n",
    "\n",
    "\n",
    "#=============================================================\n",
    "\n"
   ]
  },
  {
   "cell_type": "code",
   "execution_count": null,
   "id": "5e83557f",
   "metadata": {},
   "outputs": [],
   "source": [
    "#14 Python program to check Prime Number \n",
    "# Solution (Prime Number)\n",
    "\n",
    "# num = int(input(\"enter the number here: \"))\n",
    "# if num == 1:\n",
    "#     print (\"it is not a prime number\")\n",
    "# if num > 1 :\n",
    "#     for i in range (2, num):\n",
    "#         if num % i == 0:\n",
    "\n",
    "#             print ('it is not a prime number')\n",
    "#             break\n",
    "#     else:\n",
    "            \n",
    "#         print(\"it is a prime number\")\n",
    "\n",
    "#=============================================================\n",
    "\n"
   ]
  },
  {
   "cell_type": "code",
   "execution_count": null,
   "id": "4f300630",
   "metadata": {},
   "outputs": [],
   "source": [
    "#15. Python Program to print all prime Number in an Interval\n",
    "# Solution (Prime Numbers in an Interval)\n",
    "\n",
    "# lower = int(input(\"enter lower limit here: \"))\n",
    "# upper = int(input('enter upper limit here: '))\n",
    "\n",
    "# for num in range (lower, upper+1):\n",
    "#     if num>1:\n",
    "#         for i in range (2,num):\n",
    "#             if num%i ==0:\n",
    "#                 break \n",
    "#         else:\n",
    "#             print (num)\n",
    "\n",
    "#============================================================="
   ]
  },
  {
   "cell_type": "code",
   "execution_count": null,
   "id": "02d9c525",
   "metadata": {},
   "outputs": [],
   "source": []
  }
 ],
 "metadata": {
  "kernelspec": {
   "display_name": "Python 3",
   "language": "python",
   "name": "python3"
  },
  "language_info": {
   "codemirror_mode": {
    "name": "ipython",
    "version": 3
   },
   "file_extension": ".py",
   "mimetype": "text/x-python",
   "name": "python",
   "nbconvert_exporter": "python",
   "pygments_lexer": "ipython3",
   "version": "3.13.0"
  }
 },
 "nbformat": 4,
 "nbformat_minor": 5
}
