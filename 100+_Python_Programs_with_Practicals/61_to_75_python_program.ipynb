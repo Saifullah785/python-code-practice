{
 "cells": [
  {
   "cell_type": "markdown",
   "id": "5f725d2b",
   "metadata": {},
   "source": [
    "# 61.Python Program to Randomly Select an Element From the List"
   ]
  },
  {
   "cell_type": "code",
   "execution_count": 76,
   "id": "c2687d1e",
   "metadata": {},
   "outputs": [
    {
     "name": "stdout",
     "output_type": "stream",
     "text": [
      "2\n",
      "5\n"
     ]
    }
   ],
   "source": [
    "## Solution-1 : (Select An Element From LIst)\n",
    "\n",
    "import random\n",
    "l = [2,5,\"a\",'y',8,'p']\n",
    "random_value = random.choice(l)\n",
    "print (random_value)\n",
    "\n",
    "##Solution-2 : (Using Secret Module)\n",
    "import secrets\n",
    "l = [2,5,\"a\",'y',8,'p']\n",
    "random_value= secrets.choice(l)\n",
    "print(random_value)\n",
    "\n",
    "\n",
    "##============================================="
   ]
  },
  {
   "cell_type": "markdown",
   "id": "cdeee1d6",
   "metadata": {},
   "source": [
    "# 62. Python Program to Check if a String Is a Number(Float)"
   ]
  },
  {
   "cell_type": "code",
   "execution_count": 77,
   "id": "1a3a4498",
   "metadata": {},
   "outputs": [],
   "source": [
    "## Solution : (Select An Element From LIst)\n",
    "\n",
    "# num = input('enter something here: ')\n",
    "\n",
    "# def float_check (num):\n",
    "#     try:\n",
    "#         float(num)\n",
    "#         return True\n",
    "#     except:\n",
    "#         return False\n",
    "\n",
    "# print (float_check(num))\n",
    "\n",
    "##============================================="
   ]
  },
  {
   "cell_type": "markdown",
   "id": "da789224",
   "metadata": {},
   "source": [
    "# 63. Python Program to Count the Occurrence of an Item in a List"
   ]
  },
  {
   "cell_type": "code",
   "execution_count": 78,
   "id": "3b76afaf",
   "metadata": {},
   "outputs": [
    {
     "name": "stdout",
     "output_type": "stream",
     "text": [
      "3\n"
     ]
    }
   ],
   "source": [
    "## Solution : (Occurrence of An Item in a list)\n",
    "\n",
    "number = [10,20,50,40,10,30,10,20,40,70]\n",
    "\n",
    "count_occurence = number.count(10)\n",
    "print (count_occurence)\n"
   ]
  },
  {
   "cell_type": "markdown",
   "id": "567d51f4",
   "metadata": {},
   "source": [
    "# 64. Python Program to Append to a File"
   ]
  },
  {
   "cell_type": "code",
   "execution_count": 79,
   "id": "e9ce0aba",
   "metadata": {},
   "outputs": [],
   "source": [
    "## Solution 1 : (Append To A File)\n",
    "f = open('file.txt',\"a\")\n",
    "f.write('my name is saif i am 24 year old i am a data science engineer')\n",
    "f.close()\n",
    "\n",
    "## Solution 2 : (Using for Loop Append To A File)\n",
    "f = open('file.txt',\"a\")\n",
    "t= \"\\n i am a data science engineer\"\n",
    "for i in range(0,5):\n",
    "    f.write(t)\n",
    "f.close()\n"
   ]
  },
  {
   "cell_type": "markdown",
   "id": "6e074a4f",
   "metadata": {},
   "source": [
    "# 65. Python Program to Delete an Element From a Dictionary"
   ]
  },
  {
   "cell_type": "code",
   "execution_count": 80,
   "id": "dc83f113",
   "metadata": {},
   "outputs": [
    {
     "name": "stdout",
     "output_type": "stream",
     "text": [
      "{'John': 89, 'LIsa': 96, 'David': 65, 'Peter': 88}\n",
      "{'LIsa': 96, 'David': 65, 'Peter': 88}\n",
      "{'LIsa': 96, 'David': 65, 'Peter': 88}\n"
     ]
    }
   ],
   "source": [
    "## Solution 1 : (Using DELETE Statement)\n",
    "marks = {\"John\":89,\"LIsa\":96,\"David\":65,\"Peter\": 88}\n",
    "print (marks)\n",
    "del marks['John']\n",
    "print(marks)\n",
    "\n",
    "# Solution 2 Using Pop () funtion\n",
    "marks = {\"John\":89,\"LIsa\":96,\"David\":65,\"Peter\": 88}\n",
    "pop_item = marks.pop(\"John\")\n",
    "print (marks)"
   ]
  },
  {
   "cell_type": "markdown",
   "id": "3127afcd",
   "metadata": {},
   "source": [
    "# 66. Python Program to Create a Long Multiline String"
   ]
  },
  {
   "cell_type": "code",
   "execution_count": 81,
   "id": "d244745e",
   "metadata": {},
   "outputs": [
    {
     "name": "stdout",
     "output_type": "stream",
     "text": [
      " Hello everyone\n",
      " this is my demo file\n",
      " hope you all will like it\n",
      "===============================\n",
      " hello everyone \n",
      " this is demo file \n",
      " i hope you all will like it\n",
      "===============================\n",
      "Hello everyone\n",
      "this is my demo file\n",
      "hope you all will like it\n"
     ]
    }
   ],
   "source": [
    "## Solution : (Using Triple Quotations)\n",
    "print(\"\"\" Hello everyone\n",
    " this is my demo file\n",
    " hope you all will like it\"\"\")\n",
    "print('===============================')\n",
    "\n",
    "## Solution 2: (Using \\n)\n",
    "print (' hello everyone \\n this is demo file \\n i hope you all will like it')\n",
    "\n",
    "print('===============================')\n",
    "\n",
    "### Solution 3: (Using \\)\n",
    "\n",
    "string = \"Hello everyone\\n\"\\\n",
    "        \"this is my demo file\\n\"\\\n",
    "        \"hope you all will like it\"\n",
    "print (string)\n",
    "\n"
   ]
  },
  {
   "cell_type": "markdown",
   "id": "2414c904",
   "metadata": {},
   "source": [
    "# 67. Python Program to Extract Extension From the File Name"
   ]
  },
  {
   "cell_type": "code",
   "execution_count": 82,
   "id": "843bb992",
   "metadata": {},
   "outputs": [
    {
     "name": "stdout",
     "output_type": "stream",
     "text": [
      "('E:/python practice notes/python code practice/100+ Python Programs with Practicals for Beginners/file', '.txt')\n",
      ".txt\n",
      "===============================\n",
      ".ipynb\n"
     ]
    }
   ],
   "source": [
    "## Solution 1 Using OS Module\n",
    "\n",
    "import os\n",
    "\n",
    "file_ext= os.path.splitext('E:/python practice notes/python code practice/100+ Python Programs with Practicals for Beginners/file.txt')\n",
    "print(file_ext)\n",
    "print(file_ext[1])\n",
    "\n",
    "print('===============================')\n",
    "\n",
    "# solution 2 Using Pathlib Module\n",
    "from pathlib import Path\n",
    "print (Path('E:/python practice notes/python code practice/100+ Python Programs with Practicals for Beginners/1_to_15_python_program.ipynb').suffix)\n",
    "\n"
   ]
  },
  {
   "cell_type": "markdown",
   "id": "447f66a0",
   "metadata": {},
   "source": [
    "# 68. Python Program to Measure the Elapsed Time in Python"
   ]
  },
  {
   "cell_type": "code",
   "execution_count": 83,
   "id": "6a6423a6",
   "metadata": {},
   "outputs": [
    {
     "name": "stdout",
     "output_type": "stream",
     "text": [
      "A is the greater number:\n",
      "0.000637054443359375\n",
      "===============================\n",
      "hello world \n",
      "1475739525896764129280000000000000000000000000000000000000000000000000000000000000000000\n",
      "0.00028369999199640006\n"
     ]
    }
   ],
   "source": [
    "## Solution 1 : (Using Time Module)\n",
    "\n",
    "import time\n",
    "\n",
    "starting_time = time.time()\n",
    "\n",
    "a=40\n",
    "b=30\n",
    "if a >= b:\n",
    "    print (\"A is the greater number:\")\n",
    "\n",
    "else:\n",
    "    print(\"B is the greater number: \")\n",
    "\n",
    "# print (\"hello world\")\n",
    "\n",
    "ending_time = time.time()\n",
    "\n",
    "print (ending_time - starting_time)\n",
    "\n",
    "print('===============================')\n",
    "\n",
    "## Solution 2: (Using Timeit Module)\n",
    "from timeit import default_timer as timer\n",
    "\n",
    "starting_value= timer()\n",
    "\n",
    "print ('hello world ')\n",
    "print (20**67)\n",
    "ending_value = timer()\n",
    "print (ending_value-starting_value)\n",
    "\n",
    "\n"
   ]
  },
  {
   "cell_type": "markdown",
   "id": "d3bf41c3",
   "metadata": {},
   "source": [
    "# 69. Python Program to Get the Class Name of an Instance"
   ]
  },
  {
   "cell_type": "code",
   "execution_count": 84,
   "id": "141efdec",
   "metadata": {},
   "outputs": [
    {
     "name": "stdout",
     "output_type": "stream",
     "text": [
      "SmartPhone\n",
      "===============================\n",
      "SmartPhone\n"
     ]
    }
   ],
   "source": [
    "## Solution 1 : (Using _ _ Class_ _ _ Name_ _)\n",
    "\n",
    "class SmartPhone:\n",
    "    def name(self,name):\n",
    "        return name\n",
    "    \n",
    "s1 = SmartPhone()\n",
    "print (s1.__class__.__name__)\n",
    "\n",
    "print('===============================')\n",
    "\n",
    "## Solution 2:(Using TYPE ()AND _ _ NAME_ _ ATTRIBUTE)\n",
    "\n",
    "class SmartPhone:\n",
    "    def name(self,name):\n",
    "        return name\n",
    "    \n",
    "s1 = SmartPhone()\n",
    "print(type(s1).__name__)\n",
    "\n"
   ]
  },
  {
   "cell_type": "markdown",
   "id": "ffc0d674",
   "metadata": {},
   "source": [
    "# 70. Python Program to Covert Two Lists Into a Dictionary"
   ]
  },
  {
   "cell_type": "code",
   "execution_count": 85,
   "id": "3638a547",
   "metadata": {},
   "outputs": [
    {
     "name": "stdout",
     "output_type": "stream",
     "text": [
      "{'John': 98, 'peter': 78, 'Lisa': 88, 'David': 72}\n",
      "===============================\n",
      "{'John': 98, 'peter': 78, 'Lisa': 88, 'David': 72}\n"
     ]
    }
   ],
   "source": [
    "## Solution 1: (USING ZIP () AND DICTIONARY METHODS)\n",
    "name = ['John','peter','Lisa','David']\n",
    "marks = [98,78,88,72]\n",
    "\n",
    "dictionary = zip(name,marks)\n",
    "print (dict(dictionary))\n",
    "\n",
    "print('===============================')\n",
    "\n",
    "## Solution 2: (USING ZIP() AND LIST COMPREHENSION)\n",
    "\n",
    "name = ['John','peter','Lisa','David']\n",
    "marks = [98,78,88,72]\n",
    "\n",
    "dictionary = {key:value for key, value in zip(name, marks)}\n",
    "print (dictionary)\n"
   ]
  },
  {
   "cell_type": "markdown",
   "id": "8bc94b4c",
   "metadata": {},
   "source": [
    "# 71. Python Progrm to Differentiate Between type () and isintance()"
   ]
  },
  {
   "cell_type": "code",
   "execution_count": 86,
   "id": "ad375b3d",
   "metadata": {},
   "outputs": [
    {
     "name": "stdout",
     "output_type": "stream",
     "text": [
      "True\n",
      "True\n",
      "===============================\n",
      "True\n",
      "True\n",
      "True\n",
      "True\n"
     ]
    }
   ],
   "source": [
    "## Solution 1 (Type V/S INSTANCE)\n",
    "l= [2,3,4,5,6,7]\n",
    "\n",
    "print(type(l)==list)\n",
    "\n",
    "print(isinstance(l,list))\n",
    "\n",
    "print('===============================')\n",
    "\n",
    "class SmartPhone:\n",
    "    def name (self):\n",
    "        pass\n",
    "class Nokia(SmartPhone):\n",
    "    def phone_name(self):\n",
    "        pass\n",
    "\n",
    "obj_sp =SmartPhone()\n",
    "obj_n =Nokia()\n",
    "print (type(obj_sp)==SmartPhone)\n",
    "print (type(obj_n)==Nokia)\n",
    "\n",
    "print (isinstance(obj_sp,SmartPhone))\n",
    "print (isinstance(obj_n,Nokia))\n"
   ]
  },
  {
   "cell_type": "markdown",
   "id": "3a672683",
   "metadata": {},
   "source": [
    "# 72. Python Program to Trim Whitesapace From a String\n"
   ]
  },
  {
   "cell_type": "code",
   "execution_count": 87,
   "id": "caa88456",
   "metadata": {},
   "outputs": [
    {
     "name": "stdout",
     "output_type": "stream",
     "text": [
      "\n",
      " i love python \n",
      "\n",
      " i love python\n",
      "===============================\n",
      "i love python\n"
     ]
    }
   ],
   "source": [
    "# Solution 1 :(Using Strip() Funtion)\n",
    "string = \"\\n i love python \"\n",
    "print (string)\n",
    "print (string.strip(\" \"))\n",
    "\n",
    "print('===============================')\n",
    "\n",
    "## Solution 2 (Using Regular Expression (REGEX))\n",
    "import re \n",
    "\n",
    "string = \" i love python \"\n",
    "x = re.sub(r'^\\s+|\\s+$', '',string)\n",
    "print (x)\n",
    "\n"
   ]
  },
  {
   "cell_type": "markdown",
   "id": "1157405f",
   "metadata": {},
   "source": [
    "# 73. Python Program to Get the File Name From the File Path"
   ]
  },
  {
   "cell_type": "code",
   "execution_count": 88,
   "id": "8f5bc805",
   "metadata": {},
   "outputs": [
    {
     "name": "stdout",
     "output_type": "stream",
     "text": [
      "file\n",
      "===============================\n",
      "hi\n"
     ]
    }
   ],
   "source": [
    "## Solution 1 using os Module\n",
    "import os\n",
    "file_name = os.path.basename('E:/python practice notes/python code practice/file.txt')\n",
    "print (os.path.splitext(file_name)[0])\n",
    "\n",
    "print('===============================')\n",
    "\n",
    "# Solution 2 Using Path Module\n",
    "\n",
    "from pathlib import Path\n",
    "print (Path('E:/python practice notes/python code practice/hi.txt').stem)\n",
    "\n",
    "\n"
   ]
  },
  {
   "cell_type": "markdown",
   "id": "c75b8da0",
   "metadata": {},
   "source": [
    "# 74. Python Program to Represent enum"
   ]
  },
  {
   "cell_type": "code",
   "execution_count": 89,
   "id": "187440f2",
   "metadata": {},
   "outputs": [
    {
     "name": "stdout",
     "output_type": "stream",
     "text": [
      "SmartPhones.Samsung\n",
      "Samsung\n",
      "1\n"
     ]
    }
   ],
   "source": [
    "## Solution : (Using ENUM Module)\n",
    "\n",
    "from enum import Enum\n",
    "class SmartPhones(Enum):\n",
    "    Samsung =1\n",
    "    Nokia =2\n",
    "    Apple =3\n",
    "\n",
    "print (SmartPhones.Samsung)\n",
    "print (SmartPhones.Samsung.name)\n",
    "print (SmartPhones.Samsung.value)"
   ]
  },
  {
   "cell_type": "markdown",
   "id": "8131a4f7",
   "metadata": {},
   "source": [
    "# 75. Python Program to Return Multiple Values From a Funtion"
   ]
  },
  {
   "cell_type": "code",
   "execution_count": 90,
   "id": "16ba4ce0",
   "metadata": {},
   "outputs": [
    {
     "name": "stdout",
     "output_type": "stream",
     "text": [
      "('Joe', 'Pheobe', 'Monica')\n",
      "Joe , Pheobe and Monica\n",
      "===============================\n",
      "{1: 'Joe', 2: 'Phoebe'}\n",
      "Joe , Phoebe\n"
     ]
    }
   ],
   "source": [
    "## Solution 1 :(Using Tuples Unpacking)\n",
    "\n",
    "def friends():\n",
    "    return \"Joe\",\"Pheobe\", \"Monica\"\n",
    "\n",
    "print (friends())\n",
    "n1, n2, n3 = friends()\n",
    "print (n1, \",\" ,n2,\"and\",n3)\n",
    "\n",
    "print('===============================')\n",
    "## Solution 2 (Using a Dictionary)\n",
    "def friends ():\n",
    "    n1 = \"Joe\"\n",
    "    n2 = \"Phoebe\"\n",
    "    return {1:n1,2:n2}\n",
    "names = friends()\n",
    "\n",
    "print (names)\n",
    "print (names[1],',',names[2])"
   ]
  }
 ],
 "metadata": {
  "kernelspec": {
   "display_name": "Python 3",
   "language": "python",
   "name": "python3"
  },
  "language_info": {
   "codemirror_mode": {
    "name": "ipython",
    "version": 3
   },
   "file_extension": ".py",
   "mimetype": "text/x-python",
   "name": "python",
   "nbconvert_exporter": "python",
   "pygments_lexer": "ipython3",
   "version": "3.13.0"
  }
 },
 "nbformat": 4,
 "nbformat_minor": 5
}
