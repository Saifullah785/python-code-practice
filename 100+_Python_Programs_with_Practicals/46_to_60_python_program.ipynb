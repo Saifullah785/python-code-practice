{
 "cells": [
  {
   "cell_type": "markdown",
   "id": "26f350c8",
   "metadata": {},
   "source": [
    "# 46. Python Program to Access Index of a list using for Loop"
   ]
  },
  {
   "cell_type": "code",
   "execution_count": 20,
   "id": "20bdf65a",
   "metadata": {},
   "outputs": [
    {
     "name": "stdout",
     "output_type": "stream",
     "text": [
      "0 - 34\n",
      "1 - 5\n",
      "2 - 61\n",
      "3 - 54\n",
      "4 - 89\n"
     ]
    }
   ],
   "source": [
    "## Solution -1 (Using Enumerate Method)\n",
    "\n",
    "l= [34,5,61,54,89]\n",
    "for index, value in enumerate(l):\n",
    "    print (index, \"-\", value)"
   ]
  },
  {
   "cell_type": "code",
   "execution_count": 21,
   "id": "33fbffd4",
   "metadata": {},
   "outputs": [
    {
     "name": "stdout",
     "output_type": "stream",
     "text": [
      "0 34\n",
      "1 5\n",
      "2 61\n",
      "3 54\n",
      "4 89\n"
     ]
    }
   ],
   "source": [
    "## Solution-2 (Not Using Enumerate Method)\n",
    "l= [34,5,61,54,89]\n",
    "for index in range (len(l)):\n",
    "    value = l[index]\n",
    "    print (index, value)\n"
   ]
  },
  {
   "cell_type": "markdown",
   "id": "31620a00",
   "metadata": {},
   "source": [
    "# 47. Python Program to slice Lists\n"
   ]
  },
  {
   "cell_type": "code",
   "execution_count": 22,
   "id": "5f6afc26",
   "metadata": {},
   "outputs": [
    {
     "name": "stdout",
     "output_type": "stream",
     "text": [
      "['joe', 'Rachel', 'Monica']\n",
      "['Rachel', 'Monica', 'Phoebe']\n",
      "['joe', 'Rachel', 'Monica', 'Phoebe', 'Ross', 'Chandler']\n",
      "['joe', 'Rachel', 'Monica']\n",
      "['Monica', 'Phoebe', 'Ross', 'Chandler']\n",
      "['joe', 'Monica', 'Ross']\n",
      "['Chandler', 'Ross', 'Phoebe', 'Monica', 'Rachel', 'joe']\n"
     ]
    }
   ],
   "source": [
    "## Solution (Slicing in lists)\n",
    "a = [\"joe\",\"Rachel\",\"Monica\",\"Phoebe\",\"Ross\",\"Chandler\"]\n",
    "print (a[-6:-3])\n",
    "print (a[1:4])\n",
    "print (a[::])\n",
    "print (a[:3])\n",
    "print (a[2:])\n",
    "print (a[::2])\n",
    "print (a[::-1])"
   ]
  },
  {
   "cell_type": "markdown",
   "id": "dc6954a3",
   "metadata": {},
   "source": [
    "# 48. Iterate Over Dictionaries Using for Loop"
   ]
  },
  {
   "cell_type": "code",
   "execution_count": 23,
   "id": "4c3eb057",
   "metadata": {},
   "outputs": [
    {
     "name": "stdout",
     "output_type": "stream",
     "text": [
      "{'Rachel': 'Ross', 'Monica': 'chandler', 'Phoebe': 'Joe'}\n",
      "Rachel - Ross\n",
      "Monica - chandler\n",
      "Phoebe - Joe\n",
      "Rachel : Ross\n",
      "Monica : chandler\n",
      "Phoebe : Joe\n",
      "Rachel\n",
      "Monica\n",
      "Phoebe\n",
      "Ross\n",
      "chandler\n",
      "Joe\n"
     ]
    }
   ],
   "source": [
    "## Solution : (Dictionaries Using For Loop)\n",
    "\n",
    "friends = {\"Rachel\":\"Ross\",\"Monica\": \"chandler\",\"Phoebe\":\"Joe\"}\n",
    "\n",
    "print(friends)\n",
    "## solution 1 with .items\n",
    "\n",
    "for key, value in friends.items():\n",
    "    print(key, \"-\",value)\n",
    "\n",
    "## solution 2 with keys\n",
    "for key in friends:\n",
    "    print (key, \":\", friends[key])\n",
    "\n",
    "## solution 3 with keys and values\n",
    "\n",
    "for key in friends.keys():\n",
    "    print (key)\n",
    "\n",
    "for i in friends.values():\n",
    "    print (i)\n",
    "\n"
   ]
  },
  {
   "cell_type": "markdown",
   "id": "0a517c1e",
   "metadata": {},
   "source": [
    "# 49. Python Program to Sort a Dictionary by Value"
   ]
  },
  {
   "cell_type": "code",
   "execution_count": 24,
   "id": "f084ae29",
   "metadata": {},
   "outputs": [
    {
     "name": "stdout",
     "output_type": "stream",
     "text": [
      "{'John': 23, 'Lisa': 56, 'sid': 48}\n",
      "[('John', 23), ('sid', 48), ('Lisa', 56)]\n",
      "[23, 48, 56]\n"
     ]
    }
   ],
   "source": [
    "## Solution 1 (Dictionary By Value)\n",
    "\n",
    "marks = {\"John\": 23, \"Lisa\": 56, \"sid\": 48}\n",
    "print (marks)\n",
    "## Solution 1 (Sort the dictionary based on values)\n",
    "sv = sorted(marks.items(), key = lambda x : x[1])\n",
    "print(sv)\n",
    "\n",
    "## Solution : (Sort only the values)\n",
    "v = sorted(marks.values())\n",
    "print(v)\n",
    "\n"
   ]
  },
  {
   "cell_type": "markdown",
   "id": "d392bd99",
   "metadata": {},
   "source": [
    "# 50. Python program to Check if a List is Empty"
   ]
  },
  {
   "cell_type": "code",
   "execution_count": 25,
   "id": "3067c791",
   "metadata": {},
   "outputs": [
    {
     "name": "stdout",
     "output_type": "stream",
     "text": [
      "the list is empty\n",
      "0\n",
      "the list is empty\n",
      "The list is not empty\n"
     ]
    }
   ],
   "source": [
    "## Solution : (Check if a list is empty)\n",
    "## solution 1 using boolean operation\n",
    "\n",
    "my_list =[]\n",
    "if not my_list:\n",
    "    print ('the list is empty')\n",
    "\n",
    "## (Solution 2 : Using len() Function)\n",
    "my_list= []\n",
    "print(len(my_list))\n",
    "if len(my_list)==0:\n",
    "    print (\"the list is empty\")\n",
    "\n",
    "## solution 3 using []\n",
    "my_list = [1,2,5]\n",
    "if my_list == []:\n",
    "    print ('The list is empty')\n",
    "\n",
    "else:\n",
    "    print(\"The list is not empty\")\n",
    "\n",
    "\n"
   ]
  },
  {
   "cell_type": "markdown",
   "id": "76059014",
   "metadata": {},
   "source": [
    "# 51. Python Program to Catch Multiple Exceptions in One Line"
   ]
  },
  {
   "cell_type": "code",
   "execution_count": 26,
   "id": "df2461ef",
   "metadata": {},
   "outputs": [],
   "source": [
    "# Solution 1 (Handling Multiple exceptions)\n",
    "\n",
    "# string = input('enter something here: ')\n",
    "\n",
    "# try:\n",
    "#     num = int(input('enter a number here: '))\n",
    "#     print (string + num)\n",
    "# except (ValueError, TypeError) as a:\n",
    "#     print (a)\n",
    "# print ('thank you')\n",
    "\n"
   ]
  },
  {
   "cell_type": "markdown",
   "id": "2486349d",
   "metadata": {},
   "source": [
    "# 52. Python Program to Copy a File"
   ]
  },
  {
   "cell_type": "code",
   "execution_count": 27,
   "id": "430aba67",
   "metadata": {},
   "outputs": [
    {
     "data": {
      "text/plain": [
       "'E:/python practice notes/python code practice/file.txt'"
      ]
     },
     "execution_count": 27,
     "metadata": {},
     "output_type": "execute_result"
    }
   ],
   "source": [
    "## SOlution : COpy a File\n",
    "\n",
    "from shutil import copyfile\n",
    "\n",
    "copyfile('E:/python practice notes/python code practice/hi.txt','E:/python practice notes/python code practice/file.txt')\n"
   ]
  },
  {
   "cell_type": "markdown",
   "id": "39f4aba2",
   "metadata": {},
   "source": [
    "# 53. Python Program to Concatenate Two Lists"
   ]
  },
  {
   "cell_type": "code",
   "execution_count": 28,
   "id": "08666f3c",
   "metadata": {},
   "outputs": [
    {
     "name": "stdout",
     "output_type": "stream",
     "text": [
      "[3, 6, 8, 2, 'a', 'j', 3, 6, 'k', 'f', 'j']\n",
      "{2, 3, 6, 8, 'j', 'k', 'f', 'a'}\n",
      "[3, 6, 8, 2, 'a', 'j', 3, 6, 'k', 'f', 'j']\n"
     ]
    }
   ],
   "source": [
    "## Solution -1 (Using + Operator)\n",
    "\n",
    "l1 = [3,6,8,2, \"a\",'j']\n",
    "l2 = [3,6,'k','f','j']\n",
    "\n",
    "l12 = l1 + l2 \n",
    "print (l12)\n",
    "\n",
    "## Solution -2(With Unique Values)\n",
    "l1 = [3,6,8,2, \"a\",'j']\n",
    "l2 = [3,6,'k','f','j']\n",
    "\n",
    "l12 = set(l1+l2)\n",
    "\n",
    "print(l12)\n",
    "## Solution -3 (Using Extend() Function)\n",
    "l1 = [3,6,8,2, \"a\",'j']\n",
    "l2 = [3,6,'k','f','j']\n",
    "\n",
    "l1.extend(l2)\n",
    "print (l1)\n"
   ]
  },
  {
   "cell_type": "markdown",
   "id": "8ad0a143",
   "metadata": {},
   "source": [
    "# 54. Python Program to check if a key is Already Present in a Dictionary"
   ]
  },
  {
   "cell_type": "code",
   "execution_count": 29,
   "id": "4efea12f",
   "metadata": {},
   "outputs": [],
   "source": [
    "## Solution : (Check if key is Already Present in a Dictionary)\n",
    "\n",
    "# friends = {\"Rachel\":\"Ross\",\"Monica\": \"chandler\",\"Phoebe\":\"Joe\"}\n",
    "\n",
    "# name = input ('enter a key here: ')\n",
    "\n",
    "# if name in friends.keys():\n",
    "#     print ('it is present')\n",
    "\n",
    "\n"
   ]
  },
  {
   "cell_type": "markdown",
   "id": "98d5652c",
   "metadata": {},
   "source": [
    "# 55. Python Program to Parse a String to a Float or Int"
   ]
  },
  {
   "cell_type": "code",
   "execution_count": 30,
   "id": "020b8453",
   "metadata": {},
   "outputs": [
    {
     "name": "stdout",
     "output_type": "stream",
     "text": [
      "<class 'str'>\n",
      "<class 'int'>\n",
      "<class 'str'>\n",
      "<class 'float'>\n",
      "<class 'str'>\n",
      "<class 'int'>\n"
     ]
    }
   ],
   "source": [
    "## Solution -1 (Parse String Into Integer)\n",
    "\n",
    "string = \"12345\"\n",
    "print (type(string))\n",
    "int_str = int(string)\n",
    "print (type(int_str))\n",
    "\n",
    "## Solution -2 (Parse String into Float)\n",
    "string = \"123.45\"\n",
    "print (type(string))\n",
    "float_string = float(string)\n",
    "print(type(float_string))\n",
    "\n",
    "# solution 3 Parse String Float Numeral into interger\n",
    "string = \"123.45\"\n",
    "print (type(string))\n",
    "str_float_int =int(float(string))\n",
    "print (type(str_float_int))\n",
    "\n"
   ]
  },
  {
   "cell_type": "markdown",
   "id": "e4edb2af",
   "metadata": {},
   "source": [
    "# 56. Python Program to Covert String to Datetime"
   ]
  },
  {
   "cell_type": "code",
   "execution_count": 31,
   "id": "ec92506c",
   "metadata": {},
   "outputs": [
    {
     "name": "stdout",
     "output_type": "stream",
     "text": [
      "<class 'str'>\n",
      "1997-10-14 07:15:00\n",
      "<class 'datetime.datetime'>\n",
      "1997-10-14 07:15:00\n",
      "<class 'datetime.datetime'>\n"
     ]
    }
   ],
   "source": [
    " ## Solution -1 (Using Datetime Module)\n",
    "from datetime import datetime\n",
    "\n",
    "date = \"Oct 14 1997 7:15AM\"\n",
    "print (type(date))\n",
    "\n",
    "date_time = datetime.strptime(date, \"%b %d %Y %I:%M%p\")\n",
    "print (date_time)\n",
    "print (type(date_time))\n",
    "\n",
    "##Solution -2 (Using Dateutil Module)\n",
    "\n",
    "from dateutil import parser\n",
    "\n",
    "date_time = parser.parse(\"Oct 14 1997 7:15AM\")\n",
    "\n",
    "print (date_time)\n",
    "print(type(date_time))\n",
    "\n",
    "\n"
   ]
  },
  {
   "cell_type": "markdown",
   "id": "c11a8aeb",
   "metadata": {},
   "source": [
    "# 57. Python Program to Get the Last Element of the List"
   ]
  },
  {
   "cell_type": "code",
   "execution_count": 32,
   "id": "81bea750",
   "metadata": {},
   "outputs": [
    {
     "name": "stdout",
     "output_type": "stream",
     "text": [
      "Captain America\n"
     ]
    }
   ],
   "source": [
    "## Solution : (Get The Last Element of the list)\n",
    "\n",
    "avengers = [\"Ironman\", \"Thor\", \"Hulk\", \"Vision\",\"Captain America\" ]\n",
    "\n",
    "print(avengers[-1])"
   ]
  },
  {
   "cell_type": "markdown",
   "id": "d29da0d6",
   "metadata": {},
   "source": [
    "# 58. PYthon Program to Get a Substring of a String"
   ]
  },
  {
   "cell_type": "code",
   "execution_count": 33,
   "id": "4f1a78d5",
   "metadata": {},
   "outputs": [
    {
     "name": "stdout",
     "output_type": "stream",
     "text": [
      "harry Potter \n",
      "Goblet\n"
     ]
    }
   ],
   "source": [
    "#Solution -1 (Get a Substring of a String)\n",
    "\n",
    "a = \"harry Potter and the Goblet of Fire\"\n",
    "print(a[0:13])\n",
    "print(a[-14:-8])"
   ]
  },
  {
   "cell_type": "markdown",
   "id": "d3d17deb",
   "metadata": {},
   "source": [
    "# 59. Print Output Without a Newline"
   ]
  },
  {
   "cell_type": "code",
   "execution_count": 34,
   "id": "275b8ffe",
   "metadata": {},
   "outputs": [
    {
     "name": "stdout",
     "output_type": "stream",
     "text": [
      "Harry Potter and the Goble of Fire\n"
     ]
    }
   ],
   "source": [
    "print ('Harry Potter', end= \" \")\n",
    "print ('and the Goble of Fire')"
   ]
  },
  {
   "cell_type": "markdown",
   "id": "ebdcc90e",
   "metadata": {},
   "source": [
    "# 60. Read a File Line by Line Into a List"
   ]
  },
  {
   "cell_type": "code",
   "execution_count": 35,
   "id": "12dcec5a",
   "metadata": {},
   "outputs": [
    {
     "name": "stdout",
     "output_type": "stream",
     "text": [
      "['john 89\\n', 'lisa 98\\n', 'peter 67\\n', 'David 95\\n']\n",
      "['john 89', 'lisa 98', 'peter 67', 'David 95']\n",
      "['john 89\\n', 'lisa 98\\n', 'peter 67\\n', 'David 95\\n']\n",
      "['john 89', 'lisa 98', 'peter 67', 'David 95']\n"
     ]
    }
   ],
   "source": [
    "## solution -1(ReadLines())\n",
    "f = open (\"file.txt\", \"r\")\n",
    "\n",
    "lines = f.readlines()\n",
    "print (lines)\n",
    "new_lines= [x.strip() for x in lines]\n",
    "print (new_lines)\n",
    "\n",
    "## solution-2 (using For Loop And LIst comprehension)\n",
    "\n",
    "f = open('file.txt',\"r\")\n",
    "line = [line for line in f]\n",
    "\n",
    "print (line)\n",
    "\n",
    "new_lines= [x.strip() for x in line]\n",
    "print (new_lines)\n"
   ]
  }
 ],
 "metadata": {
  "kernelspec": {
   "display_name": "Python 3",
   "language": "python",
   "name": "python3"
  },
  "language_info": {
   "codemirror_mode": {
    "name": "ipython",
    "version": 3
   },
   "file_extension": ".py",
   "mimetype": "text/x-python",
   "name": "python",
   "nbconvert_exporter": "python",
   "pygments_lexer": "ipython3",
   "version": "3.13.0"
  }
 },
 "nbformat": 4,
 "nbformat_minor": 5
}
