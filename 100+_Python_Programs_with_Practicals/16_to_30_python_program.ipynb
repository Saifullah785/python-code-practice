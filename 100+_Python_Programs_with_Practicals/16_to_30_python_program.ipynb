{
 "cells": [
  {
   "cell_type": "markdown",
   "id": "e4dac81f",
   "metadata": {},
   "source": [
    "# 16.python Program to find the Factorial of a Number"
   ]
  },
  {
   "cell_type": "code",
   "execution_count": 47,
   "id": "b8e1e37e",
   "metadata": {},
   "outputs": [],
   "source": [
    "\n",
    "\n",
    "## Solution ( Factorial : Using For Loop) \n",
    "## 5! = 5*4*3*2*1 = 120\n",
    "\n",
    "# num = int(input(\"enter a number here: \"))\n",
    "\n",
    "# fact =1\n",
    "\n",
    "# if num < 0 :\n",
    "#     print ('factorial of 0 does not exist')\n",
    "# if num ==0 :\n",
    "#     print ('factorial of 0 ', 1)\n",
    "# if num > 0:\n",
    "#     for i in range (1, num+1):\n",
    "#         fact = fact * i \n",
    "# print (' the factorial of the given number is', fact)\n",
    "\n",
    "##Solution 2 (Using Recursion)\n",
    "\n",
    "# def fact (a):\n",
    "#     if a == 0:\n",
    "#         return 1\n",
    "#     else:\n",
    "#         return ((a)*fact(a-1))\n",
    "    \n",
    "# num = int(input('enter a number here: '))\n",
    "\n",
    "# result = fact(num)\n",
    "# print ('the factorial of the given number is ',result)\n",
    "\n",
    "##============================================================\n"
   ]
  },
  {
   "cell_type": "markdown",
   "id": "60a384fb",
   "metadata": {},
   "source": [
    "# 17. Python Program to Display the multiplication table"
   ]
  },
  {
   "cell_type": "code",
   "execution_count": 48,
   "id": "a9a1942c",
   "metadata": {},
   "outputs": [],
   "source": [
    "\n",
    "## Solution 1 (Using for loop)\n",
    "\n",
    "# n = int(input('enter a number here: '))\n",
    "\n",
    "# for i in range (1,11):\n",
    "#     print(n, \"x\", i, \"=\" ,n*i)\n",
    "\n",
    "# 2. Solution 2 (Using while loop)\n",
    "\n",
    "# n =7\n",
    "# i=1\n",
    "\n",
    "# while i<=10:\n",
    "#     print(n, \"x\",i , \"=\",n*i)\n",
    "#     i +=1\n",
    "\n",
    "##============================================================\n"
   ]
  },
  {
   "cell_type": "markdown",
   "id": "5fa47a94",
   "metadata": {},
   "source": [
    "# 18. Python Program to print the fibonacci sequence"
   ]
  },
  {
   "cell_type": "code",
   "execution_count": 49,
   "id": "262d8a6a",
   "metadata": {},
   "outputs": [],
   "source": [
    "## Solution: (Fibonacci Sequence) 0,1,1,2,3,5,8\n",
    "\n",
    "# a = 0\n",
    "# b= 1\n",
    "# num = int(input(\"enter a number to obtain fibanacci sequence: \"))\n",
    "\n",
    "# if num ==1:\n",
    "#     print (a)\n",
    "# else:\n",
    "#     print (a)\n",
    "#     print (b)\n",
    "#     for i in range (2, num):\n",
    "#         c = a + b\n",
    "#         a = b\n",
    "#         b = c\n",
    "#         print (c)\n",
    "\n",
    "\n",
    "##============================================================"
   ]
  },
  {
   "cell_type": "markdown",
   "id": "90114d81",
   "metadata": {},
   "source": [
    "# 19. Python Program to check Armstrong Number"
   ]
  },
  {
   "cell_type": "code",
   "execution_count": 50,
   "id": "47805d18",
   "metadata": {},
   "outputs": [],
   "source": [
    "## Solution (check Armstrong Number) # 0,1,153,370,371,407,1634\n",
    "\n",
    "# num = int(input('enter a number here: '))\n",
    "\n",
    "\n",
    "# sum = 0\n",
    "# temp = num\n",
    "\n",
    "# while temp> 0:\n",
    "#     digit = temp%10\n",
    "#     sum += digit ** 3\n",
    "#     \n",
    "#     temp //= 10\n",
    "\n",
    "# if sum == num :\n",
    "#     print ('it is an armstrong number')\n",
    "# else:\n",
    "#     print (\"it is not an amrstrong number\")\n",
    "\n",
    "##2. Solution \n",
    "## # Take input from user\n",
    "# num = int(input(\"Enter a number to check if it's an Armstrong number: \"))\n",
    "\n",
    "# # Store the original number\n",
    "# original_num = num\n",
    "\n",
    "# # Initialize sum\n",
    "# sum_of_powers = 0\n",
    "\n",
    "# # Count the number of digits\n",
    "# num_digits = len(str(num))\n",
    "\n",
    "# # Calculate the sum of digits raised to the power of number of digits\n",
    "# while num > 0:\n",
    "#     digit = num % 10\n",
    "#     sum_of_powers += digit ** num_digits\n",
    "#     num //= 10\n",
    "\n",
    "# # Check if original number equals the sum of powered digits\n",
    "# if original_num == sum_of_powers:\n",
    "#     print(f\"{original_num} is an Armstrong number.\")\n",
    "# else:\n",
    "#     print(f\"{original_num} is NOT an Armstrong number.\")\n",
    "\n",
    "\n",
    "#============================================================\n"
   ]
  },
  {
   "cell_type": "markdown",
   "id": "bbfba3ec",
   "metadata": {},
   "source": [
    "# 20. Python Program to find Armstrong Number in an Interval"
   ]
  },
  {
   "cell_type": "code",
   "execution_count": 51,
   "id": "cb9e752b",
   "metadata": {},
   "outputs": [],
   "source": [
    "## Solution (Armstrong Number in an Interval)\n",
    "\n",
    "\n",
    "# lower = int(input('enter the lower limit here : '))\n",
    "# upper  = int (input(\"enter the upper limit here: \"))\n",
    "\n",
    "\n",
    "# for num in range (lower, upper+1):\n",
    "#     order = len(str(num))\n",
    "#     sum = 0\n",
    "#     temp =num \n",
    "#     while temp > 0:\n",
    "#         digit = temp % 10\n",
    "#         sum += digit ** order\n",
    "#         temp //=10\n",
    "#     if num == sum:\n",
    "#         print(num)\n",
    "\n",
    "##============================================================\n"
   ]
  },
  {
   "cell_type": "markdown",
   "id": "f05d2627",
   "metadata": {},
   "source": [
    "# 21. Python Program to Find the Sum of natural Numbers\n"
   ]
  },
  {
   "cell_type": "code",
   "execution_count": 52,
   "id": "7fbd8e8a",
   "metadata": {},
   "outputs": [],
   "source": [
    "##Solution 1 (Sum of Natural Numbers)\n",
    "\n",
    "# num = int(input(\"enter a number here: \"))\n",
    "\n",
    "# if num < 0 :\n",
    "#     print ('print enter positive number ')\n",
    "# else:\n",
    "#     sum =0\n",
    "#     while num>0:\n",
    "#         sum +=num\n",
    "#         num -=1\n",
    "#     print (sum)\n",
    "\n",
    "##============================================================"
   ]
  },
  {
   "cell_type": "markdown",
   "id": "50a72ba9",
   "metadata": {},
   "source": [
    "# 22. Python Program to Display Power of 2 Using Anonymous Function"
   ]
  },
  {
   "cell_type": "code",
   "execution_count": 53,
   "id": "d27a4ecc",
   "metadata": {},
   "outputs": [],
   "source": [
    "## SOlution (Lambda Function)\n",
    "\n",
    "# nterms = int(input('enter number of terms here: '))\n",
    "\n",
    "# result = list(map(lambda x : 2 ** x, range(nterms+1)))\n",
    "\n",
    "# print (result)\n",
    "\n",
    "# for i in range (nterms+1):\n",
    "#     print ('the value of 2 raised to power',i, \"is\", result[i])\n",
    "\n",
    "##============================================================"
   ]
  },
  {
   "cell_type": "markdown",
   "id": "12d67de8",
   "metadata": {},
   "source": [
    "# 23. Python Program to Find Number Divisible by Another Number"
   ]
  },
  {
   "cell_type": "code",
   "execution_count": 54,
   "id": "7373da24",
   "metadata": {},
   "outputs": [
    {
     "name": "stdout",
     "output_type": "stream",
     "text": [
      "the number divisible by 13 are [39, 65]\n"
     ]
    }
   ],
   "source": [
    "##SOlution 1 (For Loop & Conditional statements)\n",
    "\n",
    "# for i in range (1,100):\n",
    "\n",
    "#     if i % 13 == 0:\n",
    "\n",
    "#         print (i)\n",
    "\n",
    "##Solution 2 (Using Lambda & filter() Function)\n",
    "\n",
    "l = [39,55,57,68,65,87]\n",
    "\n",
    "result = list(filter(lambda x : x % 13 == 0, l))\n",
    "\n",
    "print ('the number divisible by 13 are',result)\n",
    "\n",
    "##============================================================\n",
    "\n"
   ]
  },
  {
   "cell_type": "markdown",
   "id": "85ce794b",
   "metadata": {},
   "source": [
    "# 24. Python Program to Convert Decimal to Binary, Octal and Hexadecimal"
   ]
  },
  {
   "cell_type": "code",
   "execution_count": 55,
   "id": "44d7231b",
   "metadata": {},
   "outputs": [],
   "source": [
    "## Solution (Binary, Octal And Hexadecimal)\n",
    "\n",
    "# decimal = int(input('enter a number here: '))\n",
    "\n",
    "# print ('the conversion of decimal number',decimal, \"is: \")\n",
    " \n",
    "# print (bin(decimal), 'in binary')\n",
    "\n",
    "# print (oct(decimal), \"in octal\")\n",
    "\n",
    "# print (hex(decimal), \"in hexadecimal\")\n",
    "\n",
    "##============================================================"
   ]
  },
  {
   "cell_type": "markdown",
   "id": "b56883cc",
   "metadata": {},
   "source": [
    "# 25. Python Program to Find ASCII Value of Character\n",
    "ASCII stands for the \"American standard code for information interchange\"\n",
    "it was designed in the early 60's, as a standard character set for computer\n",
    "and electronic devices. ASCII is a 7 bit charcter set containing 128 characters."
   ]
  },
  {
   "cell_type": "code",
   "execution_count": 56,
   "id": "afc038a7",
   "metadata": {},
   "outputs": [
    {
     "name": "stdout",
     "output_type": "stream",
     "text": [
      "the ASCII value of  a is 97\n"
     ]
    }
   ],
   "source": [
    "## Solution 1( Use of ORD () Function )\n",
    "\n",
    "char = \"a\"\n",
    "\n",
    "print (\"the ASCII value of \",char, \"is\", ord(char))\n",
    "\n",
    "##============================================================\n"
   ]
  },
  {
   "cell_type": "markdown",
   "id": "18029995",
   "metadata": {},
   "source": [
    "# 26. Python Program to Find HCF or GCD\n"
   ]
  },
  {
   "cell_type": "code",
   "execution_count": 57,
   "id": "e98e5d78",
   "metadata": {},
   "outputs": [
    {
     "name": "stdout",
     "output_type": "stream",
     "text": [
      "the hcf of the given two number is  6\n"
     ]
    }
   ],
   "source": [
    "## Solution (HCF\\GCD)\n",
    "\n",
    "def findhcf(x,y):\n",
    "    if x > y:\n",
    "        smaller = y\n",
    "    else:\n",
    "        smaller = x\n",
    "    for i in range (1, smaller+1):\n",
    "        if ((x %i ==0) and (y % i == 0)):\n",
    "            hcf = i\n",
    "    return hcf\n",
    "print ('the hcf of the given two number is ',findhcf(12,30))     \n",
    "\n",
    "##============================================================"
   ]
  },
  {
   "cell_type": "markdown",
   "id": "b9b632ed",
   "metadata": {},
   "source": [
    "# 27. Python Program to Find the Factors of a numbers"
   ]
  },
  {
   "cell_type": "code",
   "execution_count": 58,
   "id": "25797288",
   "metadata": {},
   "outputs": [],
   "source": [
    "## Solution (Factors Of A Number )\n",
    "\n",
    "# num = int(input('enter a number here: '))\n",
    " \n",
    "# for i in range (1,num+1):\n",
    "#     if num% i ==0:\n",
    "#         print(i)\n",
    "\n",
    "##============================================================"
   ]
  },
  {
   "cell_type": "markdown",
   "id": "37fc1cd5",
   "metadata": {},
   "source": [
    "# 28. Python Program to Make a Simple Calculator(mini calculator)"
   ]
  },
  {
   "cell_type": "code",
   "execution_count": 59,
   "id": "4838827a",
   "metadata": {},
   "outputs": [],
   "source": [
    "# print (\"============ MINI CALCULATOR ============\")\n",
    "\n",
    "# num1 = float(input('enter first number here: '))\n",
    "# num2 = float(input(\"enter second number here: \"))\n",
    "\n",
    "# print(' press 1 for addition \\n press 2 for subtraction \\n press 3 for multiplication \\n press 4 for division ')\n",
    "\n",
    "# choice = int(input(\"enter your choice from 1 - 4: \"))\n",
    "\n",
    "# if choice == 1:\n",
    "#     print (\" The addition of given two numbers is\" ,num1 + num2)\n",
    "# elif choice == 2 :\n",
    "#     print (\" The subtraction of given two numbers is\" ,num1 - num2)\n",
    "# elif choice == 3 :\n",
    "#     print (\" The Multiplication of given two numbers is\" ,num1 * num2)\n",
    "# elif choice == 4 :\n",
    "#     print (\" The division of given two numbers is\" ,num1 / num2)\n",
    "# else:\n",
    "#     print('invalid input')\n",
    "\n",
    "\n",
    " ##============================================================\n",
    "\n"
   ]
  },
  {
   "cell_type": "markdown",
   "id": "fab5a06d",
   "metadata": {},
   "source": [
    "# 29. Python Program to Shuffle Deck Of Cards\n"
   ]
  },
  {
   "cell_type": "code",
   "execution_count": 60,
   "id": "dfcc2ea6",
   "metadata": {},
   "outputs": [
    {
     "name": "stdout",
     "output_type": "stream",
     "text": [
      "[(5, 'Club'), (9, 'Hearts'), (5, 'Spade'), (1, 'Spade'), (4, 'Club'), (8, 'Diamond'), (1, 'Diamond'), (6, 'Hearts'), (12, 'Spade'), (3, 'Spade'), (11, 'Hearts'), (4, 'Spade'), (11, 'Club'), (7, 'Club'), (1, 'Club'), (8, 'Spade'), (9, 'Club'), (1, 'Hearts'), (10, 'Club'), (7, 'Diamond'), (9, 'Spade'), (4, 'Hearts'), (3, 'Club'), (6, 'Club'), (6, 'Diamond'), (4, 'Diamond'), (12, 'Hearts'), (13, 'Hearts'), (11, 'Spade'), (5, 'Hearts'), (2, 'Hearts'), (3, 'Diamond'), (2, 'Diamond'), (2, 'Spade'), (12, 'Diamond'), (13, 'Spade'), (13, 'Club'), (11, 'Diamond'), (7, 'Hearts'), (3, 'Hearts'), (2, 'Club'), (8, 'Hearts'), (10, 'Spade'), (10, 'Hearts'), (8, 'Club'), (12, 'Club'), (9, 'Diamond'), (5, 'Diamond'), (6, 'Spade'), (10, 'Diamond'), (7, 'Spade'), (13, 'Diamond')]\n",
      "5 of Club\n",
      "9 of Hearts\n",
      "5 of Spade\n",
      "1 of Spade\n",
      "4 of Club\n"
     ]
    }
   ],
   "source": [
    "## Solution (Using Random Module ANd IterTools)\n",
    "\n",
    "import random, itertools\n",
    "\n",
    "deck = list(itertools.product(range(1,14), ['Spade' , 'Club','Hearts','Diamond']))\n",
    "\n",
    "random.shuffle(deck)\n",
    "print (deck)\n",
    "\n",
    "for i in range (5):\n",
    "    print (deck[i][0], 'of' , deck[i][1])\n",
    "\n",
    "\n",
    " ##============================================================"
   ]
  },
  {
   "cell_type": "markdown",
   "id": "635b813f",
   "metadata": {},
   "source": [
    "# 30. Python Program to Display Calendar"
   ]
  },
  {
   "cell_type": "code",
   "execution_count": 61,
   "id": "80250ad7",
   "metadata": {},
   "outputs": [],
   "source": [
    "\n",
    "# Solution (Display calendar)\n",
    "\n",
    "# import calendar\n",
    "\n",
    "# year = int(input('enter year: '))\n",
    "# month = int(input('enter month: '))\n",
    "\n",
    "# calendar = calendar.month(year, month)\n",
    "\n",
    "# print (calendar)\n",
    "\n",
    " ##============================================================"
   ]
  }
 ],
 "metadata": {
  "kernelspec": {
   "display_name": "Python 3",
   "language": "python",
   "name": "python3"
  },
  "language_info": {
   "codemirror_mode": {
    "name": "ipython",
    "version": 3
   },
   "file_extension": ".py",
   "mimetype": "text/x-python",
   "name": "python",
   "nbconvert_exporter": "python",
   "pygments_lexer": "ipython3",
   "version": "3.13.0"
  }
 },
 "nbformat": 4,
 "nbformat_minor": 5
}
