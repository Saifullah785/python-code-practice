{
 "cells": [
  {
   "cell_type": "markdown",
   "id": "9e55d3fe",
   "metadata": {},
   "source": [
    "# 31. Python Program to Display Fibonacci Sequence Using Recursion"
   ]
  },
  {
   "cell_type": "code",
   "execution_count": null,
   "id": "41c8ad8c",
   "metadata": {},
   "outputs": [],
   "source": [
    "## Solution: (Display Fibonacci Sequence)\n",
    "\n",
    "\n",
    "# def fibo (n):\n",
    "#     if n<=1:\n",
    "#         return n\n",
    "#     else:\n",
    "#         return fibo(n-1)+fibo(n-2)\n",
    "\n",
    "# n = int(input(\"enter a number here: \"))\n",
    "\n",
    "# if n <=0:\n",
    "#     print('enter a positive number')\n",
    "# else:\n",
    "#     print ('Fibonacci Sequence')\n",
    "#     for i in range (n):\n",
    "#         print (fibo(i))\n",
    "\n",
    "\n",
    "\n",
    "##==========================================================\n"
   ]
  },
  {
   "cell_type": "markdown",
   "id": "13e2a8b0",
   "metadata": {},
   "source": [
    "# 32 Python Program to Find Sum Of Natural Numbers Using Recursion"
   ]
  },
  {
   "cell_type": "code",
   "execution_count": null,
   "id": "8d7c8860",
   "metadata": {},
   "outputs": [],
   "source": [
    "##Solution 1 (Harry,Potter And The Goblet of fire)\n",
    "\n",
    "# def NNS (n):\n",
    "#     if n <= 1:\n",
    "#         return n \n",
    "#     else:\n",
    "#         return (n)+NNS(n-1)\n",
    "\n",
    "# n = int(input(\"enter a number here\"))\n",
    "# if n<=0:\n",
    "#     print ('enter a positive number: ')\n",
    "# else:\n",
    "#     print ('The sum of natural number upto given number is:',NNS(n))\n",
    "\n",
    "\n",
    "##==========================================================\n"
   ]
  },
  {
   "cell_type": "markdown",
   "id": "525c0405",
   "metadata": {},
   "source": [
    "## 33. Python Program to Find Factorial of Number Using Recursion"
   ]
  },
  {
   "cell_type": "code",
   "execution_count": null,
   "id": "5e87877f",
   "metadata": {},
   "outputs": [],
   "source": [
    "## Solution (Factorial)\n",
    "# def fact (n):\n",
    "#     if n == 1:\n",
    "\n",
    "#         return 1\n",
    "#     else:\n",
    "#         return (n*fact(n-1))\n",
    "    \n",
    "# n = int(input('enter a number here: '))\n",
    "# if n <=0:\n",
    "#     print ('Factorial of number less than 1 does not exists')\n",
    "\n",
    "# else:\n",
    "#     print ('Factorial of given number is', fact(n))\n",
    "\n",
    "##=========================================================="
   ]
  },
  {
   "cell_type": "markdown",
   "id": "738371ac",
   "metadata": {},
   "source": [
    "## 34. Python Program to Convert Decimal to Binary USing Recursion"
   ]
  },
  {
   "cell_type": "code",
   "execution_count": 2,
   "id": "18c3fac2",
   "metadata": {},
   "outputs": [
    {
     "name": "stdout",
     "output_type": "stream",
     "text": [
      "the binary of the given number is: \n",
      "1111"
     ]
    }
   ],
   "source": [
    "## Solution (Decimal to Binary Using Recursion)\n",
    "\n",
    "def ConvertBinary(n):\n",
    "    if n >1:\n",
    "        ConvertBinary(n//2)\n",
    "    print (n%2, end = \"\")\n",
    "\n",
    "print (\"the binary of the given number is: \")\n",
    "\n",
    "ConvertBinary(15)\n",
    "\n",
    "##=========================================================="
   ]
  },
  {
   "cell_type": "markdown",
   "id": "24937a7b",
   "metadata": {},
   "source": [
    "## 35. Python Program to Add Two Matrices"
   ]
  },
  {
   "cell_type": "code",
   "execution_count": 1,
   "id": "449d8c32",
   "metadata": {},
   "outputs": [
    {
     "name": "stdout",
     "output_type": "stream",
     "text": [
      "[5, 10, 14]\n",
      "[12, 15, 8]\n",
      "[10, 7, 9]\n"
     ]
    }
   ],
   "source": [
    "## Solution (Matrix Addition)\n",
    "\n",
    "A =[[1,5,8],\n",
    "    [4,6,7],\n",
    "    [7,2,3]]\n",
    "B= [[4,5,6],\n",
    "    [8,9,1],\n",
    "    [3,5,6]]\n",
    "\n",
    "result = [[0,0,0],\n",
    "          [0,0,0],\n",
    "          [0,0,0]]\n",
    "\n",
    "for i in range(len(A)):\n",
    "    for j in range(len(A[0])):\n",
    "        result[i][j] = A[i][j] + B[i][j]\n",
    "\n",
    "for r in result:\n",
    "    print(r)\n",
    "\n",
    "##=========================================================="
   ]
  },
  {
   "cell_type": "markdown",
   "id": "e7321753",
   "metadata": {},
   "source": [
    "## 36. Python Program to Transpose a Matrix"
   ]
  },
  {
   "cell_type": "code",
   "execution_count": 4,
   "id": "4d0596a7",
   "metadata": {},
   "outputs": [
    {
     "name": "stdout",
     "output_type": "stream",
     "text": [
      "[1, 4]\n",
      "[2, 5]\n",
      "[3, 6]\n",
      "[1, 4]\n",
      "[2, 5]\n",
      "[3, 6]\n"
     ]
    }
   ],
   "source": [
    "##Solution 1 (Using For Loop)\n",
    "\n",
    "A = [[1,2,3],\n",
    "     [4,5,6]]\n",
    "T = [[0,0],\n",
    "     [0,0],\n",
    "     [0,0]]\n",
    "for i in range (len(A)):\n",
    "    for j in range (len(A[0])):\n",
    "\n",
    "        T[j][i] =A[i][j]\n",
    "for i in T:\n",
    "    print(i)\n",
    "\n",
    "##Solution 2 (Using list comprehension)\n",
    "\n",
    "A = [[1,2,3],\n",
    "     [4,5,6]]\n",
    "\n",
    "T = [[A[j][i] for j in range (len(A))] for i in range  (len(A[0]))]\n",
    "\n",
    "for i in  T:\n",
    "    print (i)\n",
    "\n",
    "##=========================================================="
   ]
  },
  {
   "cell_type": "markdown",
   "id": "86c60537",
   "metadata": {},
   "source": [
    "## 37. Python Program to Multiply Two Matrices"
   ]
  },
  {
   "cell_type": "code",
   "execution_count": null,
   "id": "483c0bdf",
   "metadata": {},
   "outputs": [
    {
     "name": "stdout",
     "output_type": "stream",
     "text": [
      "[27, 15, 15, 8]\n",
      "[60, 36, 33, 20]\n",
      "[93, 57, 51, 32]\n"
     ]
    }
   ],
   "source": [
    "## Solution (Matrix Multiplication)\n",
    "\n",
    "A= [[1,2,3],\n",
    "    [4,5,6],\n",
    "    [7,8,9]]\n",
    "B= [[1,2,1,1],\n",
    "    [4,2,1,2],\n",
    "    [6,3,4,1]]\n",
    "result = [[0,0,0,0],\n",
    "          [0,0,0,0],\n",
    "          [0,0,0,0]]\n",
    "for i in range (len(A)):\n",
    "    for j in range (len(B[0])):\n",
    "        for k in range (len(B)):\n",
    "            result[i][j] += A[i][k] * B[k][j]\n",
    "\n",
    "for i in result:\n",
    "    print (i)\n",
    "\n",
    "##==========================================================\n"
   ]
  },
  {
   "cell_type": "markdown",
   "id": "72923b10",
   "metadata": {},
   "source": [
    "# 38. Python Program to Check Whether a String is Palindrome or Not"
   ]
  },
  {
   "cell_type": "code",
   "execution_count": 6,
   "id": "fb60cf1d",
   "metadata": {},
   "outputs": [],
   "source": [
    "## Solution (Palindrome)\n",
    "\n",
    "# a = input('Enter a word her: ')\n",
    "\n",
    "# rev = a[: : -1]\n",
    "\n",
    "# if a == rev:\n",
    "#     print ('it is palindrome')\n",
    "# else:\n",
    "#     print ('it is not palindrome')\n",
    "\n",
    "##=========================================================="
   ]
  },
  {
   "cell_type": "markdown",
   "id": "d3afa2d1",
   "metadata": {},
   "source": [
    "# 39.Python Program to Remove Punctuations From a String"
   ]
  },
  {
   "cell_type": "code",
   "execution_count": 1,
   "id": "c83e5ec0",
   "metadata": {},
   "outputs": [],
   "source": [
    "## Solution (Using For Loop) punctuations (){}-_, \"\"=!<>\n",
    "# punc ='''!@#$%^&*()_{}[]|\":/<>~'''\n",
    "# string = input('enter anything here: ')\n",
    "\n",
    "# empty_str =''\n",
    "# for i in string:\n",
    "#     if i not in punc:\n",
    "#         empty_str = empty_str + i\n",
    "\n",
    "# print(empty_str)\n",
    "##=========================================================="
   ]
  },
  {
   "cell_type": "markdown",
   "id": "283946e2",
   "metadata": {},
   "source": [
    "# 40. PYthon Program to Sort Words in ALphabetic Order"
   ]
  },
  {
   "cell_type": "code",
   "execution_count": null,
   "id": "76cd380b",
   "metadata": {},
   "outputs": [],
   "source": [
    "## Solution 1 (Using String Funcctions ANd for Loop)\n",
    "\n",
    "# a = input('enter something here: ')\n",
    "# w = a.split()\n",
    "# #print (w)\n",
    "# for i in range (len(w)):\n",
    "#     w[i] = w[i].lower()\n",
    "\n",
    "# #print (w)\n",
    "# w.sort()\n",
    "# print (w)\n",
    "\n",
    "# for i in w:\n",
    "#     print (i)\n",
    "\n",
    "##=========================================================="
   ]
  },
  {
   "cell_type": "markdown",
   "id": "717b7609",
   "metadata": {},
   "source": [
    "# 41. Python Program to Illustrate Different Set Operations"
   ]
  },
  {
   "cell_type": "code",
   "execution_count": 2,
   "id": "bfcd8e33",
   "metadata": {},
   "outputs": [
    {
     "name": "stdout",
     "output_type": "stream",
     "text": [
      "The Union is {1, 2, 3, 4, 5, 6, 7, 8, 9}\n",
      "The Intersection is {8, 3, 6}\n",
      "The Difference is {1, 2, 9}\n",
      "The SYmmetric difference is {1, 2, 4, 5, 7, 9}\n"
     ]
    }
   ],
   "source": [
    "## Solutin (Set Methods) 1. Union 2. intersection 3.difference 4.Symmetric Difference\n",
    "\n",
    "A = {1,2,3,6,8,9}\n",
    "B = {3,4,5,6,7,8}\n",
    "\n",
    "print (\"The Union is\", A | B)\n",
    "\n",
    "print('The Intersection is', A& B)\n",
    "\n",
    "print ('The Difference is', A-B)\n",
    "\n",
    "print ('The SYmmetric difference is',A ^ B)\n",
    "\n",
    "\n"
   ]
  },
  {
   "cell_type": "markdown",
   "id": "38b46fb9",
   "metadata": {},
   "source": [
    "# 42. Python Program to count the Number of Each Vowel"
   ]
  },
  {
   "cell_type": "code",
   "execution_count": 4,
   "id": "a3b1952b",
   "metadata": {},
   "outputs": [
    {
     "name": "stdout",
     "output_type": "stream",
     "text": [
      "harry potter and the prisoner of azkaban\n",
      "{'a': 0, 'e': 0, 'i': 0, 'o': 0, 'u': 0}\n",
      "{'a': 5, 'e': 3, 'i': 1, 'o': 3, 'u': 0}\n"
     ]
    }
   ],
   "source": [
    "## Solution 1 (Using Dictionary)\n",
    "a = \"Harry Potter and the Prisoner of Azkaban\"\n",
    "vowels = \"aeiou\" # vowels letter\n",
    "a = a.casefold()\n",
    "print (a)\n",
    "count = {}.fromkeys(vowels,0)\n",
    "print(count)\n",
    "\n",
    "for char in a:\n",
    "    if char in count:\n",
    "        count[char]+=1\n",
    "\n",
    "print (count)\n",
    "\n",
    "\n",
    "\n",
    "##==========================================================\n"
   ]
  },
  {
   "cell_type": "code",
   "execution_count": 5,
   "id": "bc5fb08d",
   "metadata": {},
   "outputs": [
    {
     "name": "stdout",
     "output_type": "stream",
     "text": [
      "{'a': 5, 'e': 3, 'i': 1, 'o': 3, 'u': 0}\n"
     ]
    }
   ],
   "source": [
    "# Solution 2 Using List and Dictionary comprehension\n",
    "\n",
    "a = \"Harry Potter and the Prisoner of Azkaban\"\n",
    "vowels = \"aeiou\" # vowels letter\n",
    "a = a.casefold()\n",
    "\n",
    "count = {key:sum([1 for char in a if char == key])for key in vowels}\n",
    "\n",
    "print (count)"
   ]
  },
  {
   "cell_type": "markdown",
   "id": "e58024d5",
   "metadata": {},
   "source": [
    "# 43. Python Program to Find the Size (Resolution) of a Image\n"
   ]
  },
  {
   "cell_type": "code",
   "execution_count": 7,
   "id": "b17a5ea8",
   "metadata": {},
   "outputs": [
    {
     "name": "stdout",
     "output_type": "stream",
     "text": [
      "225 X 224\n"
     ]
    }
   ],
   "source": [
    "## Solution : Find the Size (Resolution) of a image\n",
    "import PIL\n",
    "from PIL import Image\n",
    "\n",
    "img = PIL.Image.open('C:/Users/hp/Downloads/cat.jpg')\n",
    "\n",
    "width, height =img.size\n",
    "\n",
    "print (width,'X' ,height)"
   ]
  },
  {
   "cell_type": "markdown",
   "id": "635c4e27",
   "metadata": {},
   "source": [
    "# 44. python Program to Merge Two Dictionaries\n"
   ]
  },
  {
   "cell_type": "code",
   "execution_count": 16,
   "id": "c1963a01",
   "metadata": {},
   "outputs": [
    {
     "name": "stdout",
     "output_type": "stream",
     "text": [
      "{'John': 89, 'Lisa': 94, 'Peter': 78}\n"
     ]
    }
   ],
   "source": [
    "## Solution 1 (Using / Operator)\n",
    "dic1 = {\"John\":89, \"Lisa\": 99}\n",
    "dic2 = {\"Lisa\":94, \"Peter\":78}\n",
    "\n",
    "print (dic1 | dic2)\n"
   ]
  },
  {
   "cell_type": "code",
   "execution_count": 17,
   "id": "5ba93a3e",
   "metadata": {},
   "outputs": [
    {
     "name": "stdout",
     "output_type": "stream",
     "text": [
      "{'John': 89, 'Lisa': 94, 'Peter': 78}\n"
     ]
    }
   ],
   "source": [
    "## Solution 2: (Using ** Operator)\n",
    "dic1 = {\"John\":89, \"Lisa\": 99}\n",
    "dic2 = {\"Lisa\":94, \"Peter\":78}\n",
    "\n",
    "print ({**dic1,**dic2})\n"
   ]
  },
  {
   "cell_type": "code",
   "execution_count": 18,
   "id": "e177fe26",
   "metadata": {},
   "outputs": [
    {
     "name": "stdout",
     "output_type": "stream",
     "text": [
      "{'Lisa': 99, 'Peter': 78, 'John': 89}\n"
     ]
    }
   ],
   "source": [
    "## SOlution 3 :(Using Copy() ANd Update()Methods)\n",
    "dic1 = {\"John\":89, \"Lisa\": 99}\n",
    "dic2 = {\"Lisa\":94, \"Peter\":78}\n",
    "\n",
    "dic3 = dic2.copy()\n",
    "dic3.update(dic1)\n",
    "print(dic3)\n"
   ]
  },
  {
   "cell_type": "markdown",
   "id": "1b800af5",
   "metadata": {},
   "source": [
    "# 45. Python Program to Safely Create a Nested Directory"
   ]
  },
  {
   "cell_type": "code",
   "execution_count": 20,
   "id": "4c90ead3",
   "metadata": {},
   "outputs": [],
   "source": [
    "## Solution -1: (Using 3rd Variable)\n",
    "from pathlib import Path\n",
    "Path('E:/python practice notes/python code practice/new_dict/demo_dict').mkdir(parents=True,exist_ok=True)\n"
   ]
  }
 ],
 "metadata": {
  "kernelspec": {
   "display_name": "Python 3",
   "language": "python",
   "name": "python3"
  },
  "language_info": {
   "codemirror_mode": {
    "name": "ipython",
    "version": 3
   },
   "file_extension": ".py",
   "mimetype": "text/x-python",
   "name": "python",
   "nbconvert_exporter": "python",
   "pygments_lexer": "ipython3",
   "version": "3.13.0"
  }
 },
 "nbformat": 4,
 "nbformat_minor": 5
}
